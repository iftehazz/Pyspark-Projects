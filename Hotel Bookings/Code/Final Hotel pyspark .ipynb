{
 "cells": [
  {
   "cell_type": "code",
   "execution_count": 1,
   "metadata": {
    "id": "0TnLVF7nZ2aG"
   },
   "outputs": [],
   "source": [
    "from pyspark.sql.functions import isnull,sum"
   ]
  },
  {
   "cell_type": "code",
   "execution_count": 2,
   "metadata": {
    "id": "BKhj60qlay4g"
   },
   "outputs": [],
   "source": [
    "# Importing pyspark and starting session to use sprak functionality \n",
    "import pyspark \n",
    "from pyspark.sql import SparkSession\n",
    "from pyspark.sql.functions import col,when,isnan,count\n",
    "from pyspark.sql.types import IntegerType, StructType,StructField, FloatType , DoubleType\n",
    "from pyspark.ml.feature import StringIndexer, OneHotEncoder, VectorAssembler,StandardScaler\n",
    "from pyspark.ml.stat import Correlation\n",
    "from pyspark.sql.functions import regexp_replace\n",
    "from pyspark.ml.regression import LinearRegression \n",
    "spark = SparkSession.builder.appName(\"hotel\").getOrCreate()\n"
   ]
  },
  {
   "cell_type": "code",
   "execution_count": 3,
   "metadata": {
    "colab": {
     "base_uri": "https://localhost:8080/"
    },
    "id": "f_F6iiBLa5yJ",
    "outputId": "69b11e51-7768-4f66-ed98-1df47cb9d76a"
   },
   "outputs": [
    {
     "name": "stdout",
     "output_type": "stream",
     "text": [
      "+------------+-----------+---------+-----------------+------------------+------------------------+-------------------------+-----------------------+--------------------+------+--------+------+----+-------+--------------+--------------------+-----------------+----------------------+------------------------------+------------------+------------------+---------------+------------+-----+-------+--------------------+-------------+----+---------------------------+-------------------------+------------------+-----------------------+\n",
      "|       hotel|is_canceled|lead_time|arrival_date_year|arrival_date_month|arrival_date_week_number|arrival_date_day_of_month|stays_in_weekend_nights|stays_in_week_nights|adults|children|babies|meal|country|market_segment|distribution_channel|is_repeated_guest|previous_cancellations|previous_bookings_not_canceled|reserved_room_type|assigned_room_type|booking_changes|deposit_type|agent|company|days_in_waiting_list|customer_type| adr|required_car_parking_spaces|total_of_special_requests|reservation_status|reservation_status_date|\n",
      "+------------+-----------+---------+-----------------+------------------+------------------------+-------------------------+-----------------------+--------------------+------+--------+------+----+-------+--------------+--------------------+-----------------+----------------------+------------------------------+------------------+------------------+---------------+------------+-----+-------+--------------------+-------------+----+---------------------------+-------------------------+------------------+-----------------------+\n",
      "|Resort Hotel|          0|      342|             2015|              July|                      27|                        1|                      0|                   0|     2|       0|     0|  BB|    PRT|        Direct|              Direct|                0|                     0|                             0|                 C|                 C|              3|  No Deposit| NULL|   NULL|                   0|    Transient| 0.0|                          0|                        0|         Check-Out|             2015-07-01|\n",
      "|Resort Hotel|          0|      737|             2015|              July|                      27|                        1|                      0|                   0|     2|       0|     0|  BB|    PRT|        Direct|              Direct|                0|                     0|                             0|                 C|                 C|              4|  No Deposit| NULL|   NULL|                   0|    Transient| 0.0|                          0|                        0|         Check-Out|             2015-07-01|\n",
      "|Resort Hotel|          0|        7|             2015|              July|                      27|                        1|                      0|                   1|     1|       0|     0|  BB|    GBR|        Direct|              Direct|                0|                     0|                             0|                 A|                 C|              0|  No Deposit| NULL|   NULL|                   0|    Transient|75.0|                          0|                        0|         Check-Out|             2015-07-02|\n",
      "|Resort Hotel|          0|       13|             2015|              July|                      27|                        1|                      0|                   1|     1|       0|     0|  BB|    GBR|     Corporate|           Corporate|                0|                     0|                             0|                 A|                 A|              0|  No Deposit|  304|   NULL|                   0|    Transient|75.0|                          0|                        0|         Check-Out|             2015-07-02|\n",
      "|Resort Hotel|          0|       14|             2015|              July|                      27|                        1|                      0|                   2|     2|       0|     0|  BB|    GBR|     Online TA|               TA/TO|                0|                     0|                             0|                 A|                 A|              0|  No Deposit|  240|   NULL|                   0|    Transient|98.0|                          0|                        1|         Check-Out|             2015-07-03|\n",
      "+------------+-----------+---------+-----------------+------------------+------------------------+-------------------------+-----------------------+--------------------+------+--------+------+----+-------+--------------+--------------------+-----------------+----------------------+------------------------------+------------------+------------------+---------------+------------+-----+-------+--------------------+-------------+----+---------------------------+-------------------------+------------------+-----------------------+\n",
      "only showing top 5 rows\n",
      "\n"
     ]
    }
   ],
   "source": [
    "# reading csv file\n",
    "dataset = spark.read.csv('hotel_bookings.csv',inferSchema=True,header=True) # infer schema automatocally guess column datatypes\n",
    "dataset.show(5)"
   ]
  },
  {
   "cell_type": "code",
   "execution_count": 4,
   "metadata": {
    "colab": {
     "base_uri": "https://localhost:8080/"
    },
    "id": "m2gjj5dvbGut",
    "outputId": "cbb5e47a-054e-40aa-fc4c-fc7311c257b6"
   },
   "outputs": [
    {
     "name": "stdout",
     "output_type": "stream",
     "text": [
      "root\n",
      " |-- hotel: string (nullable = true)\n",
      " |-- is_canceled: integer (nullable = true)\n",
      " |-- lead_time: integer (nullable = true)\n",
      " |-- arrival_date_year: integer (nullable = true)\n",
      " |-- arrival_date_month: string (nullable = true)\n",
      " |-- arrival_date_week_number: integer (nullable = true)\n",
      " |-- arrival_date_day_of_month: integer (nullable = true)\n",
      " |-- stays_in_weekend_nights: integer (nullable = true)\n",
      " |-- stays_in_week_nights: integer (nullable = true)\n",
      " |-- adults: integer (nullable = true)\n",
      " |-- children: string (nullable = true)\n",
      " |-- babies: integer (nullable = true)\n",
      " |-- meal: string (nullable = true)\n",
      " |-- country: string (nullable = true)\n",
      " |-- market_segment: string (nullable = true)\n",
      " |-- distribution_channel: string (nullable = true)\n",
      " |-- is_repeated_guest: integer (nullable = true)\n",
      " |-- previous_cancellations: integer (nullable = true)\n",
      " |-- previous_bookings_not_canceled: integer (nullable = true)\n",
      " |-- reserved_room_type: string (nullable = true)\n",
      " |-- assigned_room_type: string (nullable = true)\n",
      " |-- booking_changes: integer (nullable = true)\n",
      " |-- deposit_type: string (nullable = true)\n",
      " |-- agent: string (nullable = true)\n",
      " |-- company: string (nullable = true)\n",
      " |-- days_in_waiting_list: integer (nullable = true)\n",
      " |-- customer_type: string (nullable = true)\n",
      " |-- adr: double (nullable = true)\n",
      " |-- required_car_parking_spaces: integer (nullable = true)\n",
      " |-- total_of_special_requests: integer (nullable = true)\n",
      " |-- reservation_status: string (nullable = true)\n",
      " |-- reservation_status_date: date (nullable = true)\n",
      "\n"
     ]
    }
   ],
   "source": [
    "dataset.printSchema()"
   ]
  },
  {
   "cell_type": "code",
   "execution_count": 5,
   "metadata": {
    "colab": {
     "base_uri": "https://localhost:8080/"
    },
    "id": "loUcJXuEbKLo",
    "outputId": "19710b8c-ba55-4b43-aac1-cad38aa8a155"
   },
   "outputs": [
    {
     "data": {
      "text/plain": [
       "119390"
      ]
     },
     "execution_count": 5,
     "metadata": {},
     "output_type": "execute_result"
    }
   ],
   "source": [
    "dataset.count()"
   ]
  },
  {
   "cell_type": "code",
   "execution_count": 6,
   "metadata": {
    "colab": {
     "base_uri": "https://localhost:8080/"
    },
    "id": "g6zdQtLvu1V3",
    "outputId": "8f3529eb-52e9-4001-935a-9b3c213a96c6"
   },
   "outputs": [
    {
     "name": "stdout",
     "output_type": "stream",
     "text": [
      "{'hotel': 2, 'is_canceled': 2, 'lead_time': 479, 'arrival_date_year': 3, 'arrival_date_month': 12, 'arrival_date_week_number': 53, 'arrival_date_day_of_month': 31, 'stays_in_weekend_nights': 17, 'stays_in_week_nights': 35, 'adults': 14, 'children': 6, 'babies': 5, 'meal': 5, 'country': 178, 'market_segment': 8, 'distribution_channel': 5, 'is_repeated_guest': 2, 'previous_cancellations': 15, 'previous_bookings_not_canceled': 73, 'reserved_room_type': 10, 'assigned_room_type': 12, 'booking_changes': 21, 'deposit_type': 3, 'agent': 334, 'company': 353, 'days_in_waiting_list': 128, 'customer_type': 4, 'adr': 8879, 'required_car_parking_spaces': 5, 'total_of_special_requests': 6, 'reservation_status': 3, 'reservation_status_date': 926}\n"
     ]
    }
   ],
   "source": [
    "distinct_counts = {}\n",
    "\n",
    "for col in dataset.columns:\n",
    "    distinct_counts[col] = dataset.select(col).distinct().count()\n",
    "\n",
    "print(distinct_counts)"
   ]
  },
  {
   "cell_type": "code",
   "execution_count": 7,
   "metadata": {
    "colab": {
     "base_uri": "https://localhost:8080/"
    },
    "id": "UWiHzfmUvvlQ",
    "outputId": "471d5e9b-52fd-4b06-afe3-86bcf694c6d0"
   },
   "outputs": [
    {
     "name": "stdout",
     "output_type": "stream",
     "text": [
      "{'hotel': 119388, 'is_canceled': 119388, 'lead_time': 118911, 'arrival_date_year': 119387, 'arrival_date_month': 119378, 'arrival_date_week_number': 119337, 'arrival_date_day_of_month': 119359, 'stays_in_weekend_nights': 119373, 'stays_in_week_nights': 119355, 'adults': 119376, 'children': 119384, 'babies': 119385, 'meal': 119385, 'country': 119212, 'market_segment': 119382, 'distribution_channel': 119385, 'is_repeated_guest': 119388, 'previous_cancellations': 119375, 'previous_bookings_not_canceled': 119317, 'reserved_room_type': 119380, 'assigned_room_type': 119378, 'booking_changes': 119369, 'deposit_type': 119387, 'agent': 119056, 'company': 119037, 'days_in_waiting_list': 119262, 'customer_type': 119386, 'adr': 110511, 'required_car_parking_spaces': 119385, 'total_of_special_requests': 119384, 'reservation_status': 119387, 'reservation_status_date': 118464}\n"
     ]
    }
   ],
   "source": [
    "from pyspark.sql.functions import count, countDistinct\n",
    "\n",
    "# Create an empty dictionary to store the duplicate counts for each column\n",
    "duplicate_counts = {}\n",
    "\n",
    "# Loop over all columns in the DataFrame\n",
    "for col in dataset.columns:\n",
    "    # Count the total number of rows in the column\n",
    "    total_count = dataset.select(col).count()\n",
    "    # Count the number of distinct rows in the column\n",
    "    distinct_count = dataset.select(col).distinct().count()\n",
    "    # Count the number of duplicate rows in the column\n",
    "    duplicate_count = total_count - distinct_count\n",
    "    # Store the duplicate count for this column in the dictionary\n",
    "    duplicate_counts[col] = duplicate_count\n",
    "\n",
    "# Print the duplicate counts for all columns\n",
    "print(duplicate_counts)\n"
   ]
  },
  {
   "cell_type": "code",
   "execution_count": 8,
   "metadata": {
    "colab": {
     "base_uri": "https://localhost:8080/"
    },
    "id": "mBm594aVw-9h",
    "outputId": "70fc9cdb-f795-4c7e-9ba1-2ef6c8b48244"
   },
   "outputs": [
    {
     "name": "stdout",
     "output_type": "stream",
     "text": [
      "Number of rows in the original DataFrame: 119390\n",
      "Number of rows after droping duplicates DataFrame: 87396\n"
     ]
    }
   ],
   "source": [
    "print(\"Number of rows in the original DataFrame:\", dataset.count())\n",
    "dataset = dataset.distinct() # droping a distinct/duplicates values\n",
    "dataset.count()\n",
    "print(\"Number of rows after droping duplicates DataFrame:\", dataset.count())"
   ]
  },
  {
   "cell_type": "code",
   "execution_count": 9,
   "metadata": {
    "colab": {
     "base_uri": "https://localhost:8080/"
    },
    "id": "H6_gsiDJbKou",
    "outputId": "419d4827-d0e4-4d4d-8638-e4c29f78c695"
   },
   "outputs": [
    {
     "name": "stdout",
     "output_type": "stream",
     "text": [
      "+-----+-----------+---------+-----------------+------------------+------------------------+-------------------------+-----------------------+--------------------+------+--------+------+----+-------+--------------+--------------------+-----------------+----------------------+------------------------------+------------------+------------------+---------------+------------+-----+-------+--------------------+-------------+---+---------------------------+-------------------------+------------------+-----------------------+\n",
      "|hotel|is_canceled|lead_time|arrival_date_year|arrival_date_month|arrival_date_week_number|arrival_date_day_of_month|stays_in_weekend_nights|stays_in_week_nights|adults|children|babies|meal|country|market_segment|distribution_channel|is_repeated_guest|previous_cancellations|previous_bookings_not_canceled|reserved_room_type|assigned_room_type|booking_changes|deposit_type|agent|company|days_in_waiting_list|customer_type|adr|required_car_parking_spaces|total_of_special_requests|reservation_status|reservation_status_date|\n",
      "+-----+-----------+---------+-----------------+------------------+------------------------+-------------------------+-----------------------+--------------------+------+--------+------+----+-------+--------------+--------------------+-----------------+----------------------+------------------------------+------------------+------------------+---------------+------------+-----+-------+--------------------+-------------+---+---------------------------+-------------------------+------------------+-----------------------+\n",
      "|    0|          0|        0|                0|                 0|                       0|                        0|                      0|                   0|     0|       0|     0|   0|      0|             0|                   0|                0|                     0|                             0|                 0|                 0|              0|           0|    0|      0|                   0|            0|  0|                          0|                        0|                 0|                      0|\n",
      "+-----+-----------+---------+-----------------+------------------+------------------------+-------------------------+-----------------------+--------------------+------+--------+------+----+-------+--------------+--------------------+-----------------+----------------------+------------------------------+------------------+------------------+---------------+------------+-----+-------+--------------------+-------------+---+---------------------------+-------------------------+------------------+-----------------------+\n",
      "\n"
     ]
    }
   ],
   "source": [
    "null_count = dataset.select([sum(isnull(c).cast(\"int\")).alias(c) for c in dataset.columns])\n",
    "null_count.show()"
   ]
  },
  {
   "cell_type": "code",
   "execution_count": 10,
   "metadata": {
    "colab": {
     "base_uri": "https://localhost:8080/"
    },
    "id": "GC3fYKAJeZf6",
    "outputId": "2bfbabaa-1032-49f2-8ea8-c2a279e51108",
    "scrolled": true
   },
   "outputs": [
    {
     "name": "stdout",
     "output_type": "stream",
     "text": [
      "+------------+-----------+---------+-----------------+------------------+-------------------------+-----------------------+--------------------+------+--------+------+----+--------------+-----------------+----------------------+------------------------------+------------------+------------------+---------------+--------------------+---------------+---------------------------+-------------------------+------------------+-----------------------+\n",
      "|       hotel|is_canceled|lead_time|arrival_date_year|arrival_date_month|arrival_date_day_of_month|stays_in_weekend_nights|stays_in_week_nights|adults|children|babies|meal|market_segment|is_repeated_guest|previous_cancellations|previous_bookings_not_canceled|reserved_room_type|assigned_room_type|booking_changes|days_in_waiting_list|  customer_type|required_car_parking_spaces|total_of_special_requests|reservation_status|reservation_status_date|\n",
      "+------------+-----------+---------+-----------------+------------------+-------------------------+-----------------------+--------------------+------+--------+------+----+--------------+-----------------+----------------------+------------------------------+------------------+------------------+---------------+--------------------+---------------+---------------------------+-------------------------+------------------+-----------------------+\n",
      "|Resort Hotel|          0|        9|             2015|              July|                       13|                      1|                   1|     2|       0|     0|  HB|     Online TA|                0|                     0|                             0|                 A|                 A|              0|                   0|      Transient|                          1|                        2|         Check-Out|             2015-07-15|\n",
      "|Resort Hotel|          1|       42|             2015|              July|                       13|                      1|                   4|     2|       0|     0|  BB|     Online TA|                0|                     0|                             0|                 D|                 D|              0|                   0|      Transient|                          0|                        0|          Canceled|             2015-06-01|\n",
      "|Resort Hotel|          0|        7|             2015|              July|                       16|                      0|                   1|     2|       2|     0|  BB|     Online TA|                0|                     0|                             0|                 C|                 C|              1|                   0|      Transient|                          1|                        1|         Check-Out|             2015-07-17|\n",
      "|Resort Hotel|          1|       62|             2015|              July|                       19|                      2|                   5|     2|       0|     0|  HB| Offline TA/TO|                0|                     0|                             0|                 E|                 E|              0|                   0|      Transient|                          0|                        1|          Canceled|             2015-06-17|\n",
      "|Resort Hotel|          0|       98|             2015|            August|                        7|                      2|                   2|     2|       0|     0|  BB|     Online TA|                0|                     0|                             0|                 A|                 D|              0|                   0|      Transient|                          0|                        2|         Check-Out|             2015-08-11|\n",
      "|Resort Hotel|          1|       80|             2015|            August|                       15|                      2|                   3|     3|       0|     0|  HB| Offline TA/TO|                0|                     0|                             0|                 A|                 A|              0|                   0|      Transient|                          0|                        1|          Canceled|             2015-08-05|\n",
      "|Resort Hotel|          0|       34|             2015|            August|                       30|                      2|                   2|     2|       0|     0|  BB|     Online TA|                0|                     0|                             0|                 A|                 A|              0|                   0|      Transient|                          0|                        1|         Check-Out|             2015-09-03|\n",
      "|Resort Hotel|          0|      160|             2015|            August|                       31|                      3|                   7|     2|       0|     0|  BB| Offline TA/TO|                0|                     0|                             0|                 E|                 E|              0|                   0|      Transient|                          0|                        0|         Check-Out|             2015-09-10|\n",
      "|Resort Hotel|          0|       62|             2015|         September|                        1|                      2|                  10|     2|       0|     0|  BB|     Online TA|                0|                     0|                             0|                 D|                 D|              0|                   0|      Transient|                          0|                        2|         Check-Out|             2015-09-13|\n",
      "|Resort Hotel|          0|      328|             2015|         September|                        6|                      4|                   6|     2|       0|     0|  BB| Offline TA/TO|                0|                     0|                             0|                 D|                 D|              0|                   0|      Transient|                          0|                        1|         Check-Out|             2015-09-16|\n",
      "|Resort Hotel|          1|       76|             2015|         September|                       17|                      2|                   5|     2|       0|     0|  BB|     Online TA|                0|                     0|                             0|                 A|                 A|              0|                   0|      Transient|                          0|                        1|          Canceled|             2015-07-20|\n",
      "|Resort Hotel|          0|       43|             2015|           October|                        6|                      0|                   4|     2|       0|     0|  BB|     Online TA|                0|                     0|                             0|                 A|                 A|              0|                   0|      Transient|                          0|                        1|         Check-Out|             2015-10-10|\n",
      "|Resort Hotel|          0|       11|             2015|           October|                       23|                      0|                   2|     2|       0|     0|  BB|     Online TA|                0|                     0|                             0|                 A|                 D|              0|                   0|      Transient|                          1|                        1|         Check-Out|             2015-10-25|\n",
      "|Resort Hotel|          1|      155|             2015|           October|                       31|                      0|                   1|     2|       0|     0|  BB|        Groups|                0|                     0|                             0|                 A|                 A|              0|                   0|      Transient|                          0|                        0|          Canceled|             2015-10-26|\n",
      "|Resort Hotel|          1|       32|             2015|          November|                       11|                      0|                   4|     1|       0|     0|  BB|     Corporate|                0|                     0|                             0|                 A|                 A|              1|                   0|Transient-Party|                          0|                        0|          Canceled|             2015-10-22|\n",
      "|Resort Hotel|          0|       79|             2015|          December|                       24|                      2|                   5|     2|       0|     0|  HB| Offline TA/TO|                0|                     0|                             0|                 A|                 A|              0|                   0|      Transient|                          0|                        2|         Check-Out|             2015-12-31|\n",
      "|Resort Hotel|          1|       59|             2016|             March|                       24|                      0|                   3|     2|       0|     0|  BB|     Online TA|                0|                     0|                             0|                 E|                 E|              0|                   0|      Transient|                          0|                        1|          Canceled|             2016-01-30|\n",
      "|Resort Hotel|          1|        5|             2016|             March|                       25|                      0|                   2|     2|       0|     0|  BB|     Online TA|                0|                     0|                             0|                 A|                 A|              0|                   0|      Transient|                          0|                        0|          Canceled|             2016-03-20|\n",
      "|Resort Hotel|          0|      169|             2016|             March|                       31|                      0|                   3|     1|       0|     0|  BB|        Groups|                0|                     0|                             0|                 A|                 A|              2|                   0|Transient-Party|                          1|                        0|         Check-Out|             2016-04-03|\n",
      "|Resort Hotel|          0|      229|             2016|             April|                       12|                      2|                   6|     2|       0|     0|  BB|        Direct|                0|                     0|                             0|                 D|                 D|              1|                   0|      Transient|                          0|                        0|         Check-Out|             2016-04-20|\n",
      "+------------+-----------+---------+-----------------+------------------+-------------------------+-----------------------+--------------------+------+--------+------+----+--------------+-----------------+----------------------+------------------------------+------------------+------------------+---------------+--------------------+---------------+---------------------------+-------------------------+------------------+-----------------------+\n",
      "only showing top 20 rows\n",
      "\n"
     ]
    }
   ],
   "source": [
    "df = dataset.drop(\"adr\", \"country\", \"distribution_channel\", \"deposit_type\", \"agent\", \"company\",\"arrival_date_week_number\")\n",
    "df.show()"
   ]
  },
  {
   "cell_type": "code",
   "execution_count": 11,
   "metadata": {
    "colab": {
     "base_uri": "https://localhost:8080/"
    },
    "id": "Wq1Fj6xfesQw",
    "outputId": "f588138d-eb3b-4534-a1c2-9b272fe24f46"
   },
   "outputs": [
    {
     "name": "stdout",
     "output_type": "stream",
     "text": [
      "+------------+-----------+---------+------------+-------------+-----------+-----------------------+--------------------+------+--------+------+----+--------------+-----------------+----------------------+------------------------------+------------------+------------------+---------------+--------------------+-------------+---------------------------+-------------------------+------------------+-----------------------+\n",
      "|       hotel|is_canceled|lead_time|arrival_year|arrival_month|arrival_day|stays_in_weekend_nights|stays_in_week_nights|adults|children|babies|meal|market_segment|is_repeated_guest|previous_cancellations|previous_bookings_not_canceled|reserved_room_type|assigned_room_type|booking_changes|days_in_waiting_list|customer_type|required_car_parking_spaces|total_of_special_requests|reservation_status|reservation_status_date|\n",
      "+------------+-----------+---------+------------+-------------+-----------+-----------------------+--------------------+------+--------+------+----+--------------+-----------------+----------------------+------------------------------+------------------+------------------+---------------+--------------------+-------------+---------------------------+-------------------------+------------------+-----------------------+\n",
      "|Resort Hotel|          0|        9|        2015|         July|         13|                      1|                   1|     2|       0|     0|  HB|     Online TA|                0|                     0|                             0|                 A|                 A|              0|                   0|    Transient|                          1|                        2|         Check-Out|             2015-07-15|\n",
      "|Resort Hotel|          1|       42|        2015|         July|         13|                      1|                   4|     2|       0|     0|  BB|     Online TA|                0|                     0|                             0|                 D|                 D|              0|                   0|    Transient|                          0|                        0|          Canceled|             2015-06-01|\n",
      "|Resort Hotel|          0|        7|        2015|         July|         16|                      0|                   1|     2|       2|     0|  BB|     Online TA|                0|                     0|                             0|                 C|                 C|              1|                   0|    Transient|                          1|                        1|         Check-Out|             2015-07-17|\n",
      "|Resort Hotel|          1|       62|        2015|         July|         19|                      2|                   5|     2|       0|     0|  HB| Offline TA/TO|                0|                     0|                             0|                 E|                 E|              0|                   0|    Transient|                          0|                        1|          Canceled|             2015-06-17|\n",
      "|Resort Hotel|          0|       98|        2015|       August|          7|                      2|                   2|     2|       0|     0|  BB|     Online TA|                0|                     0|                             0|                 A|                 D|              0|                   0|    Transient|                          0|                        2|         Check-Out|             2015-08-11|\n",
      "+------------+-----------+---------+------------+-------------+-----------+-----------------------+--------------------+------+--------+------+----+--------------+-----------------+----------------------+------------------------------+------------------+------------------+---------------+--------------------+-------------+---------------------------+-------------------------+------------------+-----------------------+\n",
      "only showing top 5 rows\n",
      "\n"
     ]
    }
   ],
   "source": [
    "df = df.withColumnRenamed(\"arrival_date_year\", \"arrival_year\").withColumnRenamed(\"arrival_date_month\", \"arrival_month\").withColumnRenamed(\"arrival_date_day_of_month\", \"arrival_day\")\n",
    "df.show(5)"
   ]
  },
  {
   "cell_type": "code",
   "execution_count": 12,
   "metadata": {
    "colab": {
     "base_uri": "https://localhost:8080/"
    },
    "id": "mMUOO0XKbKrd",
    "outputId": "929ddee3-8071-4fac-a8ce-3ef665db9210"
   },
   "outputs": [
    {
     "name": "stdout",
     "output_type": "stream",
     "text": [
      "['hotel', 'is_canceled', 'lead_time', 'arrival_year', 'arrival_month', 'arrival_day', 'stays_in_weekend_nights', 'stays_in_week_nights', 'adults', 'children', 'babies', 'meal', 'market_segment', 'is_repeated_guest', 'previous_cancellations', 'previous_bookings_not_canceled', 'reserved_room_type', 'assigned_room_type', 'booking_changes', 'days_in_waiting_list', 'customer_type', 'required_car_parking_spaces', 'total_of_special_requests', 'reservation_status', 'reservation_status_date']\n"
     ]
    }
   ],
   "source": [
    "column_names = df.columns\n",
    "\n",
    "# print the column names\n",
    "print(column_names)"
   ]
  },
  {
   "cell_type": "code",
   "execution_count": 13,
   "metadata": {
    "id": "uVaVIrk2bKub"
   },
   "outputs": [],
   "source": [
    "df.toPandas().to_excel('final.xlsx', sheet_name = 'Sheet1', index = False)"
   ]
  },
  {
   "cell_type": "code",
   "execution_count": 14,
   "metadata": {
    "colab": {
     "base_uri": "https://localhost:8080/"
    },
    "id": "SY6LYa4Bfzu1",
    "outputId": "ec7ed1c5-dd21-41b3-ccf6-a93ce57a03cb"
   },
   "outputs": [
    {
     "name": "stdout",
     "output_type": "stream",
     "text": [
      "root\n",
      " |-- hotel: string (nullable = true)\n",
      " |-- is_canceled: integer (nullable = true)\n",
      " |-- lead_time: integer (nullable = true)\n",
      " |-- arrival_year: integer (nullable = true)\n",
      " |-- arrival_month: string (nullable = true)\n",
      " |-- arrival_day: integer (nullable = true)\n",
      " |-- stays_in_weekend_nights: integer (nullable = true)\n",
      " |-- stays_in_week_nights: integer (nullable = true)\n",
      " |-- adults: integer (nullable = true)\n",
      " |-- children: string (nullable = true)\n",
      " |-- babies: integer (nullable = true)\n",
      " |-- meal: string (nullable = true)\n",
      " |-- market_segment: string (nullable = true)\n",
      " |-- is_repeated_guest: integer (nullable = true)\n",
      " |-- previous_cancellations: integer (nullable = true)\n",
      " |-- previous_bookings_not_canceled: integer (nullable = true)\n",
      " |-- reserved_room_type: string (nullable = true)\n",
      " |-- assigned_room_type: string (nullable = true)\n",
      " |-- booking_changes: integer (nullable = true)\n",
      " |-- days_in_waiting_list: integer (nullable = true)\n",
      " |-- customer_type: string (nullable = true)\n",
      " |-- required_car_parking_spaces: integer (nullable = true)\n",
      " |-- total_of_special_requests: integer (nullable = true)\n",
      " |-- reservation_status: string (nullable = true)\n",
      " |-- reservation_status_date: date (nullable = true)\n",
      "\n"
     ]
    }
   ],
   "source": [
    "df.printSchema()"
   ]
  },
  {
   "cell_type": "code",
   "execution_count": 15,
   "metadata": {
    "id": "2Ze9H5kpcHTI"
   },
   "outputs": [],
   "source": [
    "strinx = StringIndexer(inputCols = [\"hotel\",\"arrival_month\",\"children\",\"meal\",\"market_segment\",\"reserved_room_type\",\"assigned_room_type\",\"customer_type\",\"reservation_status\"],outputCols =[\"hotel_trans\",\"arrival_month_trans\",\"children_trans\",\"meal_trans\",\"market_segment_trans\",\"reserved_room_type_trans\",\"assigned_room_type_trans\",\"customer_type_trans\",\"reservation_status_trans\"] )  "
   ]
  },
  {
   "cell_type": "code",
   "execution_count": 16,
   "metadata": {
    "id": "o55qCEBxcHU_"
   },
   "outputs": [],
   "source": [
    "df = strinx.fit(df).transform(df)"
   ]
  },
  {
   "cell_type": "code",
   "execution_count": 17,
   "metadata": {
    "colab": {
     "base_uri": "https://localhost:8080/"
    },
    "id": "tZz43YG5cHYZ",
    "outputId": "c039c006-7907-4086-95ea-60ad8454d30b"
   },
   "outputs": [
    {
     "name": "stdout",
     "output_type": "stream",
     "text": [
      "+------------+-----------+---------+------------+-------------+-----------+-----------------------+--------------------+------+--------+------+----+--------------+-----------------+----------------------+------------------------------+------------------+------------------+---------------+--------------------+---------------+---------------------------+-------------------------+------------------+-----------------------+-----------+-------------------+--------------+----------+--------------------+------------------------+------------------------+-------------------+------------------------+\n",
      "|       hotel|is_canceled|lead_time|arrival_year|arrival_month|arrival_day|stays_in_weekend_nights|stays_in_week_nights|adults|children|babies|meal|market_segment|is_repeated_guest|previous_cancellations|previous_bookings_not_canceled|reserved_room_type|assigned_room_type|booking_changes|days_in_waiting_list|  customer_type|required_car_parking_spaces|total_of_special_requests|reservation_status|reservation_status_date|hotel_trans|arrival_month_trans|children_trans|meal_trans|market_segment_trans|reserved_room_type_trans|assigned_room_type_trans|customer_type_trans|reservation_status_trans|\n",
      "+------------+-----------+---------+------------+-------------+-----------+-----------------------+--------------------+------+--------+------+----+--------------+-----------------+----------------------+------------------------------+------------------+------------------+---------------+--------------------+---------------+---------------------------+-------------------------+------------------+-----------------------+-----------+-------------------+--------------+----------+--------------------+------------------------+------------------------+-------------------+------------------------+\n",
      "|Resort Hotel|          0|        9|        2015|         July|         13|                      1|                   1|     2|       0|     0|  HB|     Online TA|                0|                     0|                             0|                 A|                 A|              0|                   0|      Transient|                          1|                        2|         Check-Out|             2015-07-15|        1.0|                1.0|           0.0|       2.0|                 0.0|                     0.0|                     0.0|                0.0|                     0.0|\n",
      "|Resort Hotel|          1|       42|        2015|         July|         13|                      1|                   4|     2|       0|     0|  BB|     Online TA|                0|                     0|                             0|                 D|                 D|              0|                   0|      Transient|                          0|                        0|          Canceled|             2015-06-01|        1.0|                1.0|           0.0|       0.0|                 0.0|                     1.0|                     1.0|                0.0|                     1.0|\n",
      "|Resort Hotel|          0|        7|        2015|         July|         16|                      0|                   1|     2|       2|     0|  BB|     Online TA|                0|                     0|                             0|                 C|                 C|              1|                   0|      Transient|                          1|                        1|         Check-Out|             2015-07-17|        1.0|                1.0|           2.0|       0.0|                 0.0|                     6.0|                     5.0|                0.0|                     0.0|\n",
      "|Resort Hotel|          1|       62|        2015|         July|         19|                      2|                   5|     2|       0|     0|  HB| Offline TA/TO|                0|                     0|                             0|                 E|                 E|              0|                   0|      Transient|                          0|                        1|          Canceled|             2015-06-17|        1.0|                1.0|           0.0|       2.0|                 1.0|                     2.0|                     2.0|                0.0|                     1.0|\n",
      "|Resort Hotel|          0|       98|        2015|       August|          7|                      2|                   2|     2|       0|     0|  BB|     Online TA|                0|                     0|                             0|                 A|                 D|              0|                   0|      Transient|                          0|                        2|         Check-Out|             2015-08-11|        1.0|                0.0|           0.0|       0.0|                 0.0|                     0.0|                     1.0|                0.0|                     0.0|\n",
      "|Resort Hotel|          1|       80|        2015|       August|         15|                      2|                   3|     3|       0|     0|  HB| Offline TA/TO|                0|                     0|                             0|                 A|                 A|              0|                   0|      Transient|                          0|                        1|          Canceled|             2015-08-05|        1.0|                0.0|           0.0|       2.0|                 1.0|                     0.0|                     0.0|                0.0|                     1.0|\n",
      "|Resort Hotel|          0|       34|        2015|       August|         30|                      2|                   2|     2|       0|     0|  BB|     Online TA|                0|                     0|                             0|                 A|                 A|              0|                   0|      Transient|                          0|                        1|         Check-Out|             2015-09-03|        1.0|                0.0|           0.0|       0.0|                 0.0|                     0.0|                     0.0|                0.0|                     0.0|\n",
      "|Resort Hotel|          0|      160|        2015|       August|         31|                      3|                   7|     2|       0|     0|  BB| Offline TA/TO|                0|                     0|                             0|                 E|                 E|              0|                   0|      Transient|                          0|                        0|         Check-Out|             2015-09-10|        1.0|                0.0|           0.0|       0.0|                 1.0|                     2.0|                     2.0|                0.0|                     0.0|\n",
      "|Resort Hotel|          0|       62|        2015|    September|          1|                      2|                  10|     2|       0|     0|  BB|     Online TA|                0|                     0|                             0|                 D|                 D|              0|                   0|      Transient|                          0|                        2|         Check-Out|             2015-09-13|        1.0|                7.0|           0.0|       0.0|                 0.0|                     1.0|                     1.0|                0.0|                     0.0|\n",
      "|Resort Hotel|          0|      328|        2015|    September|          6|                      4|                   6|     2|       0|     0|  BB| Offline TA/TO|                0|                     0|                             0|                 D|                 D|              0|                   0|      Transient|                          0|                        1|         Check-Out|             2015-09-16|        1.0|                7.0|           0.0|       0.0|                 1.0|                     1.0|                     1.0|                0.0|                     0.0|\n",
      "|Resort Hotel|          1|       76|        2015|    September|         17|                      2|                   5|     2|       0|     0|  BB|     Online TA|                0|                     0|                             0|                 A|                 A|              0|                   0|      Transient|                          0|                        1|          Canceled|             2015-07-20|        1.0|                7.0|           0.0|       0.0|                 0.0|                     0.0|                     0.0|                0.0|                     1.0|\n",
      "|Resort Hotel|          0|       43|        2015|      October|          6|                      0|                   4|     2|       0|     0|  BB|     Online TA|                0|                     0|                             0|                 A|                 A|              0|                   0|      Transient|                          0|                        1|         Check-Out|             2015-10-10|        1.0|                6.0|           0.0|       0.0|                 0.0|                     0.0|                     0.0|                0.0|                     0.0|\n",
      "|Resort Hotel|          0|       11|        2015|      October|         23|                      0|                   2|     2|       0|     0|  BB|     Online TA|                0|                     0|                             0|                 A|                 D|              0|                   0|      Transient|                          1|                        1|         Check-Out|             2015-10-25|        1.0|                6.0|           0.0|       0.0|                 0.0|                     0.0|                     1.0|                0.0|                     0.0|\n",
      "|Resort Hotel|          1|      155|        2015|      October|         31|                      0|                   1|     2|       0|     0|  BB|        Groups|                0|                     0|                             0|                 A|                 A|              0|                   0|      Transient|                          0|                        0|          Canceled|             2015-10-26|        1.0|                6.0|           0.0|       0.0|                 3.0|                     0.0|                     0.0|                0.0|                     1.0|\n",
      "|Resort Hotel|          1|       32|        2015|     November|         11|                      0|                   4|     1|       0|     0|  BB|     Corporate|                0|                     0|                             0|                 A|                 A|              1|                   0|Transient-Party|                          0|                        0|          Canceled|             2015-10-22|        1.0|               10.0|           0.0|       0.0|                 4.0|                     0.0|                     0.0|                1.0|                     1.0|\n",
      "|Resort Hotel|          0|       79|        2015|     December|         24|                      2|                   5|     2|       0|     0|  HB| Offline TA/TO|                0|                     0|                             0|                 A|                 A|              0|                   0|      Transient|                          0|                        2|         Check-Out|             2015-12-31|        1.0|                9.0|           0.0|       2.0|                 1.0|                     0.0|                     0.0|                0.0|                     0.0|\n",
      "|Resort Hotel|          1|       59|        2016|        March|         24|                      0|                   3|     2|       0|     0|  BB|     Online TA|                0|                     0|                             0|                 E|                 E|              0|                   0|      Transient|                          0|                        1|          Canceled|             2016-01-30|        1.0|                5.0|           0.0|       0.0|                 0.0|                     2.0|                     2.0|                0.0|                     1.0|\n",
      "|Resort Hotel|          1|        5|        2016|        March|         25|                      0|                   2|     2|       0|     0|  BB|     Online TA|                0|                     0|                             0|                 A|                 A|              0|                   0|      Transient|                          0|                        0|          Canceled|             2016-03-20|        1.0|                5.0|           0.0|       0.0|                 0.0|                     0.0|                     0.0|                0.0|                     1.0|\n",
      "|Resort Hotel|          0|      169|        2016|        March|         31|                      0|                   3|     1|       0|     0|  BB|        Groups|                0|                     0|                             0|                 A|                 A|              2|                   0|Transient-Party|                          1|                        0|         Check-Out|             2016-04-03|        1.0|                5.0|           0.0|       0.0|                 3.0|                     0.0|                     0.0|                1.0|                     0.0|\n",
      "|Resort Hotel|          0|      229|        2016|        April|         12|                      2|                   6|     2|       0|     0|  BB|        Direct|                0|                     0|                             0|                 D|                 D|              1|                   0|      Transient|                          0|                        0|         Check-Out|             2016-04-20|        1.0|                3.0|           0.0|       0.0|                 2.0|                     1.0|                     1.0|                0.0|                     0.0|\n",
      "+------------+-----------+---------+------------+-------------+-----------+-----------------------+--------------------+------+--------+------+----+--------------+-----------------+----------------------+------------------------------+------------------+------------------+---------------+--------------------+---------------+---------------------------+-------------------------+------------------+-----------------------+-----------+-------------------+--------------+----------+--------------------+------------------------+------------------------+-------------------+------------------------+\n",
      "only showing top 20 rows\n",
      "\n"
     ]
    }
   ],
   "source": [
    "df.show()"
   ]
  },
  {
   "cell_type": "code",
   "execution_count": 18,
   "metadata": {
    "id": "y0Km8Khycgjj"
   },
   "outputs": [],
   "source": [
    "from pyspark.sql.functions import *\n",
    "from pyspark.sql.functions import year, month, dayofweek\n",
    "df = df.withColumn('dayOfWeek', dayofweek(col('reservation_status_date')))\n",
    "df = df.withColumn('month', month(col('reservation_status_date')))\n",
    "df = df.withColumn('year', year(col('reservation_status_date')))"
   ]
  },
  {
   "cell_type": "code",
   "execution_count": 19,
   "metadata": {
    "colab": {
     "base_uri": "https://localhost:8080/"
    },
    "id": "P5WbA6Jdcgm9",
    "outputId": "49f67abd-0622-42e9-fc01-64c894c00c66"
   },
   "outputs": [
    {
     "name": "stdout",
     "output_type": "stream",
     "text": [
      "+------------+-----------+---------+------------+-------------+-----------+-----------------------+--------------------+------+--------+------+----+--------------+-----------------+----------------------+------------------------------+------------------+------------------+---------------+--------------------+---------------+---------------------------+-------------------------+------------------+-----------------------+-----------+-------------------+--------------+----------+--------------------+------------------------+------------------------+-------------------+------------------------+---------+-----+----+\n",
      "|       hotel|is_canceled|lead_time|arrival_year|arrival_month|arrival_day|stays_in_weekend_nights|stays_in_week_nights|adults|children|babies|meal|market_segment|is_repeated_guest|previous_cancellations|previous_bookings_not_canceled|reserved_room_type|assigned_room_type|booking_changes|days_in_waiting_list|  customer_type|required_car_parking_spaces|total_of_special_requests|reservation_status|reservation_status_date|hotel_trans|arrival_month_trans|children_trans|meal_trans|market_segment_trans|reserved_room_type_trans|assigned_room_type_trans|customer_type_trans|reservation_status_trans|dayOfWeek|month|year|\n",
      "+------------+-----------+---------+------------+-------------+-----------+-----------------------+--------------------+------+--------+------+----+--------------+-----------------+----------------------+------------------------------+------------------+------------------+---------------+--------------------+---------------+---------------------------+-------------------------+------------------+-----------------------+-----------+-------------------+--------------+----------+--------------------+------------------------+------------------------+-------------------+------------------------+---------+-----+----+\n",
      "|Resort Hotel|          0|        9|        2015|         July|         13|                      1|                   1|     2|       0|     0|  HB|     Online TA|                0|                     0|                             0|                 A|                 A|              0|                   0|      Transient|                          1|                        2|         Check-Out|             2015-07-15|        1.0|                1.0|           0.0|       2.0|                 0.0|                     0.0|                     0.0|                0.0|                     0.0|        4|    7|2015|\n",
      "|Resort Hotel|          1|       42|        2015|         July|         13|                      1|                   4|     2|       0|     0|  BB|     Online TA|                0|                     0|                             0|                 D|                 D|              0|                   0|      Transient|                          0|                        0|          Canceled|             2015-06-01|        1.0|                1.0|           0.0|       0.0|                 0.0|                     1.0|                     1.0|                0.0|                     1.0|        2|    6|2015|\n",
      "|Resort Hotel|          0|        7|        2015|         July|         16|                      0|                   1|     2|       2|     0|  BB|     Online TA|                0|                     0|                             0|                 C|                 C|              1|                   0|      Transient|                          1|                        1|         Check-Out|             2015-07-17|        1.0|                1.0|           2.0|       0.0|                 0.0|                     6.0|                     5.0|                0.0|                     0.0|        6|    7|2015|\n",
      "|Resort Hotel|          1|       62|        2015|         July|         19|                      2|                   5|     2|       0|     0|  HB| Offline TA/TO|                0|                     0|                             0|                 E|                 E|              0|                   0|      Transient|                          0|                        1|          Canceled|             2015-06-17|        1.0|                1.0|           0.0|       2.0|                 1.0|                     2.0|                     2.0|                0.0|                     1.0|        4|    6|2015|\n",
      "|Resort Hotel|          0|       98|        2015|       August|          7|                      2|                   2|     2|       0|     0|  BB|     Online TA|                0|                     0|                             0|                 A|                 D|              0|                   0|      Transient|                          0|                        2|         Check-Out|             2015-08-11|        1.0|                0.0|           0.0|       0.0|                 0.0|                     0.0|                     1.0|                0.0|                     0.0|        3|    8|2015|\n",
      "|Resort Hotel|          1|       80|        2015|       August|         15|                      2|                   3|     3|       0|     0|  HB| Offline TA/TO|                0|                     0|                             0|                 A|                 A|              0|                   0|      Transient|                          0|                        1|          Canceled|             2015-08-05|        1.0|                0.0|           0.0|       2.0|                 1.0|                     0.0|                     0.0|                0.0|                     1.0|        4|    8|2015|\n",
      "|Resort Hotel|          0|       34|        2015|       August|         30|                      2|                   2|     2|       0|     0|  BB|     Online TA|                0|                     0|                             0|                 A|                 A|              0|                   0|      Transient|                          0|                        1|         Check-Out|             2015-09-03|        1.0|                0.0|           0.0|       0.0|                 0.0|                     0.0|                     0.0|                0.0|                     0.0|        5|    9|2015|\n",
      "|Resort Hotel|          0|      160|        2015|       August|         31|                      3|                   7|     2|       0|     0|  BB| Offline TA/TO|                0|                     0|                             0|                 E|                 E|              0|                   0|      Transient|                          0|                        0|         Check-Out|             2015-09-10|        1.0|                0.0|           0.0|       0.0|                 1.0|                     2.0|                     2.0|                0.0|                     0.0|        5|    9|2015|\n",
      "|Resort Hotel|          0|       62|        2015|    September|          1|                      2|                  10|     2|       0|     0|  BB|     Online TA|                0|                     0|                             0|                 D|                 D|              0|                   0|      Transient|                          0|                        2|         Check-Out|             2015-09-13|        1.0|                7.0|           0.0|       0.0|                 0.0|                     1.0|                     1.0|                0.0|                     0.0|        1|    9|2015|\n",
      "|Resort Hotel|          0|      328|        2015|    September|          6|                      4|                   6|     2|       0|     0|  BB| Offline TA/TO|                0|                     0|                             0|                 D|                 D|              0|                   0|      Transient|                          0|                        1|         Check-Out|             2015-09-16|        1.0|                7.0|           0.0|       0.0|                 1.0|                     1.0|                     1.0|                0.0|                     0.0|        4|    9|2015|\n",
      "|Resort Hotel|          1|       76|        2015|    September|         17|                      2|                   5|     2|       0|     0|  BB|     Online TA|                0|                     0|                             0|                 A|                 A|              0|                   0|      Transient|                          0|                        1|          Canceled|             2015-07-20|        1.0|                7.0|           0.0|       0.0|                 0.0|                     0.0|                     0.0|                0.0|                     1.0|        2|    7|2015|\n",
      "|Resort Hotel|          0|       43|        2015|      October|          6|                      0|                   4|     2|       0|     0|  BB|     Online TA|                0|                     0|                             0|                 A|                 A|              0|                   0|      Transient|                          0|                        1|         Check-Out|             2015-10-10|        1.0|                6.0|           0.0|       0.0|                 0.0|                     0.0|                     0.0|                0.0|                     0.0|        7|   10|2015|\n",
      "|Resort Hotel|          0|       11|        2015|      October|         23|                      0|                   2|     2|       0|     0|  BB|     Online TA|                0|                     0|                             0|                 A|                 D|              0|                   0|      Transient|                          1|                        1|         Check-Out|             2015-10-25|        1.0|                6.0|           0.0|       0.0|                 0.0|                     0.0|                     1.0|                0.0|                     0.0|        1|   10|2015|\n",
      "|Resort Hotel|          1|      155|        2015|      October|         31|                      0|                   1|     2|       0|     0|  BB|        Groups|                0|                     0|                             0|                 A|                 A|              0|                   0|      Transient|                          0|                        0|          Canceled|             2015-10-26|        1.0|                6.0|           0.0|       0.0|                 3.0|                     0.0|                     0.0|                0.0|                     1.0|        2|   10|2015|\n",
      "|Resort Hotel|          1|       32|        2015|     November|         11|                      0|                   4|     1|       0|     0|  BB|     Corporate|                0|                     0|                             0|                 A|                 A|              1|                   0|Transient-Party|                          0|                        0|          Canceled|             2015-10-22|        1.0|               10.0|           0.0|       0.0|                 4.0|                     0.0|                     0.0|                1.0|                     1.0|        5|   10|2015|\n",
      "|Resort Hotel|          0|       79|        2015|     December|         24|                      2|                   5|     2|       0|     0|  HB| Offline TA/TO|                0|                     0|                             0|                 A|                 A|              0|                   0|      Transient|                          0|                        2|         Check-Out|             2015-12-31|        1.0|                9.0|           0.0|       2.0|                 1.0|                     0.0|                     0.0|                0.0|                     0.0|        5|   12|2015|\n",
      "|Resort Hotel|          1|       59|        2016|        March|         24|                      0|                   3|     2|       0|     0|  BB|     Online TA|                0|                     0|                             0|                 E|                 E|              0|                   0|      Transient|                          0|                        1|          Canceled|             2016-01-30|        1.0|                5.0|           0.0|       0.0|                 0.0|                     2.0|                     2.0|                0.0|                     1.0|        7|    1|2016|\n",
      "|Resort Hotel|          1|        5|        2016|        March|         25|                      0|                   2|     2|       0|     0|  BB|     Online TA|                0|                     0|                             0|                 A|                 A|              0|                   0|      Transient|                          0|                        0|          Canceled|             2016-03-20|        1.0|                5.0|           0.0|       0.0|                 0.0|                     0.0|                     0.0|                0.0|                     1.0|        1|    3|2016|\n",
      "|Resort Hotel|          0|      169|        2016|        March|         31|                      0|                   3|     1|       0|     0|  BB|        Groups|                0|                     0|                             0|                 A|                 A|              2|                   0|Transient-Party|                          1|                        0|         Check-Out|             2016-04-03|        1.0|                5.0|           0.0|       0.0|                 3.0|                     0.0|                     0.0|                1.0|                     0.0|        1|    4|2016|\n",
      "|Resort Hotel|          0|      229|        2016|        April|         12|                      2|                   6|     2|       0|     0|  BB|        Direct|                0|                     0|                             0|                 D|                 D|              1|                   0|      Transient|                          0|                        0|         Check-Out|             2016-04-20|        1.0|                3.0|           0.0|       0.0|                 2.0|                     1.0|                     1.0|                0.0|                     0.0|        4|    4|2016|\n",
      "+------------+-----------+---------+------------+-------------+-----------+-----------------------+--------------------+------+--------+------+----+--------------+-----------------+----------------------+------------------------------+------------------+------------------+---------------+--------------------+---------------+---------------------------+-------------------------+------------------+-----------------------+-----------+-------------------+--------------+----------+--------------------+------------------------+------------------------+-------------------+------------------------+---------+-----+----+\n",
      "only showing top 20 rows\n",
      "\n"
     ]
    }
   ],
   "source": [
    "df.show()"
   ]
  },
  {
   "cell_type": "code",
   "execution_count": 20,
   "metadata": {
    "id": "AMIYD7UTbKw0"
   },
   "outputs": [],
   "source": [
    "onenc = OneHotEncoder(inputCols = [\"hotel_trans\",\"arrival_month_trans\",\"children_trans\",\"meal_trans\",\"market_segment_trans\",\"reserved_room_type_trans\",\"assigned_room_type_trans\",\"customer_type_trans\",\"reservation_status_trans\"],\n",
    "                      outputCols =[\"hotel_VEC\",\"arrival_month_VEC\",\"children_VEC\",\"meal_VEC\",\"market_segment_VEC\",\"reserved_room_type_VEC\",\"assigned_room_type_VEC\",\"customer_type_VEC\",\"reservation_status_VEC\"] )\n",
    "df = onenc.fit(df).transform(df)"
   ]
  },
  {
   "cell_type": "code",
   "execution_count": 21,
   "metadata": {
    "colab": {
     "base_uri": "https://localhost:8080/"
    },
    "id": "Ooh5FWRSiuOK",
    "outputId": "4a2debbb-6542-491b-fe0f-41405de3042a"
   },
   "outputs": [
    {
     "name": "stdout",
     "output_type": "stream",
     "text": [
      "-RECORD 0----------------------------------------\n",
      " hotel                          | Resort Hotel   \n",
      " is_canceled                    | 0              \n",
      " lead_time                      | 9              \n",
      " arrival_year                   | 2015           \n",
      " arrival_month                  | July           \n",
      " arrival_day                    | 13             \n",
      " stays_in_weekend_nights        | 1              \n",
      " stays_in_week_nights           | 1              \n",
      " adults                         | 2              \n",
      " children                       | 0              \n",
      " babies                         | 0              \n",
      " meal                           | HB             \n",
      " market_segment                 | Online TA      \n",
      " is_repeated_guest              | 0              \n",
      " previous_cancellations         | 0              \n",
      " previous_bookings_not_canceled | 0              \n",
      " reserved_room_type             | A              \n",
      " assigned_room_type             | A              \n",
      " booking_changes                | 0              \n",
      " days_in_waiting_list           | 0              \n",
      " customer_type                  | Transient      \n",
      " required_car_parking_spaces    | 1              \n",
      " total_of_special_requests      | 2              \n",
      " reservation_status             | Check-Out      \n",
      " reservation_status_date        | 2015-07-15     \n",
      " hotel_trans                    | 1.0            \n",
      " arrival_month_trans            | 1.0            \n",
      " children_trans                 | 0.0            \n",
      " meal_trans                     | 2.0            \n",
      " market_segment_trans           | 0.0            \n",
      " reserved_room_type_trans       | 0.0            \n",
      " assigned_room_type_trans       | 0.0            \n",
      " customer_type_trans            | 0.0            \n",
      " reservation_status_trans       | 0.0            \n",
      " dayOfWeek                      | 4              \n",
      " month                          | 7              \n",
      " year                           | 2015           \n",
      " hotel_VEC                      | (1,[],[])      \n",
      " arrival_month_VEC              | (11,[1],[1.0]) \n",
      " children_VEC                   | (5,[0],[1.0])  \n",
      " meal_VEC                       | (4,[2],[1.0])  \n",
      " market_segment_VEC             | (7,[0],[1.0])  \n",
      " reserved_room_type_VEC         | (9,[0],[1.0])  \n",
      " assigned_room_type_VEC         | (11,[0],[1.0]) \n",
      " customer_type_VEC              | (3,[0],[1.0])  \n",
      " reservation_status_VEC         | (2,[0],[1.0])  \n",
      "-RECORD 1----------------------------------------\n",
      " hotel                          | Resort Hotel   \n",
      " is_canceled                    | 1              \n",
      " lead_time                      | 42             \n",
      " arrival_year                   | 2015           \n",
      " arrival_month                  | July           \n",
      " arrival_day                    | 13             \n",
      " stays_in_weekend_nights        | 1              \n",
      " stays_in_week_nights           | 4              \n",
      " adults                         | 2              \n",
      " children                       | 0              \n",
      " babies                         | 0              \n",
      " meal                           | BB             \n",
      " market_segment                 | Online TA      \n",
      " is_repeated_guest              | 0              \n",
      " previous_cancellations         | 0              \n",
      " previous_bookings_not_canceled | 0              \n",
      " reserved_room_type             | D              \n",
      " assigned_room_type             | D              \n",
      " booking_changes                | 0              \n",
      " days_in_waiting_list           | 0              \n",
      " customer_type                  | Transient      \n",
      " required_car_parking_spaces    | 0              \n",
      " total_of_special_requests      | 0              \n",
      " reservation_status             | Canceled       \n",
      " reservation_status_date        | 2015-06-01     \n",
      " hotel_trans                    | 1.0            \n",
      " arrival_month_trans            | 1.0            \n",
      " children_trans                 | 0.0            \n",
      " meal_trans                     | 0.0            \n",
      " market_segment_trans           | 0.0            \n",
      " reserved_room_type_trans       | 1.0            \n",
      " assigned_room_type_trans       | 1.0            \n",
      " customer_type_trans            | 0.0            \n",
      " reservation_status_trans       | 1.0            \n",
      " dayOfWeek                      | 2              \n",
      " month                          | 6              \n",
      " year                           | 2015           \n",
      " hotel_VEC                      | (1,[],[])      \n",
      " arrival_month_VEC              | (11,[1],[1.0]) \n",
      " children_VEC                   | (5,[0],[1.0])  \n",
      " meal_VEC                       | (4,[0],[1.0])  \n",
      " market_segment_VEC             | (7,[0],[1.0])  \n",
      " reserved_room_type_VEC         | (9,[1],[1.0])  \n",
      " assigned_room_type_VEC         | (11,[1],[1.0]) \n",
      " customer_type_VEC              | (3,[0],[1.0])  \n",
      " reservation_status_VEC         | (2,[1],[1.0])  \n",
      "-RECORD 2----------------------------------------\n",
      " hotel                          | Resort Hotel   \n",
      " is_canceled                    | 0              \n",
      " lead_time                      | 7              \n",
      " arrival_year                   | 2015           \n",
      " arrival_month                  | July           \n",
      " arrival_day                    | 16             \n",
      " stays_in_weekend_nights        | 0              \n",
      " stays_in_week_nights           | 1              \n",
      " adults                         | 2              \n",
      " children                       | 2              \n",
      " babies                         | 0              \n",
      " meal                           | BB             \n",
      " market_segment                 | Online TA      \n",
      " is_repeated_guest              | 0              \n",
      " previous_cancellations         | 0              \n",
      " previous_bookings_not_canceled | 0              \n",
      " reserved_room_type             | C              \n",
      " assigned_room_type             | C              \n",
      " booking_changes                | 1              \n",
      " days_in_waiting_list           | 0              \n",
      " customer_type                  | Transient      \n",
      " required_car_parking_spaces    | 1              \n",
      " total_of_special_requests      | 1              \n",
      " reservation_status             | Check-Out      \n",
      " reservation_status_date        | 2015-07-17     \n",
      " hotel_trans                    | 1.0            \n",
      " arrival_month_trans            | 1.0            \n",
      " children_trans                 | 2.0            \n",
      " meal_trans                     | 0.0            \n",
      " market_segment_trans           | 0.0            \n",
      " reserved_room_type_trans       | 6.0            \n",
      " assigned_room_type_trans       | 5.0            \n",
      " customer_type_trans            | 0.0            \n",
      " reservation_status_trans       | 0.0            \n",
      " dayOfWeek                      | 6              \n",
      " month                          | 7              \n",
      " year                           | 2015           \n",
      " hotel_VEC                      | (1,[],[])      \n",
      " arrival_month_VEC              | (11,[1],[1.0]) \n",
      " children_VEC                   | (5,[2],[1.0])  \n",
      " meal_VEC                       | (4,[0],[1.0])  \n",
      " market_segment_VEC             | (7,[0],[1.0])  \n",
      " reserved_room_type_VEC         | (9,[6],[1.0])  \n",
      " assigned_room_type_VEC         | (11,[5],[1.0]) \n",
      " customer_type_VEC              | (3,[0],[1.0])  \n",
      " reservation_status_VEC         | (2,[0],[1.0])  \n",
      "-RECORD 3----------------------------------------\n",
      " hotel                          | Resort Hotel   \n",
      " is_canceled                    | 1              \n",
      " lead_time                      | 62             \n",
      " arrival_year                   | 2015           \n",
      " arrival_month                  | July           \n",
      " arrival_day                    | 19             \n",
      " stays_in_weekend_nights        | 2              \n",
      " stays_in_week_nights           | 5              \n",
      " adults                         | 2              \n",
      " children                       | 0              \n",
      " babies                         | 0              \n",
      " meal                           | HB             \n",
      " market_segment                 | Offline TA/TO  \n",
      " is_repeated_guest              | 0              \n",
      " previous_cancellations         | 0              \n",
      " previous_bookings_not_canceled | 0              \n",
      " reserved_room_type             | E              \n",
      " assigned_room_type             | E              \n",
      " booking_changes                | 0              \n",
      " days_in_waiting_list           | 0              \n",
      " customer_type                  | Transient      \n",
      " required_car_parking_spaces    | 0              \n",
      " total_of_special_requests      | 1              \n",
      " reservation_status             | Canceled       \n",
      " reservation_status_date        | 2015-06-17     \n",
      " hotel_trans                    | 1.0            \n",
      " arrival_month_trans            | 1.0            \n",
      " children_trans                 | 0.0            \n",
      " meal_trans                     | 2.0            \n",
      " market_segment_trans           | 1.0            \n",
      " reserved_room_type_trans       | 2.0            \n",
      " assigned_room_type_trans       | 2.0            \n",
      " customer_type_trans            | 0.0            \n",
      " reservation_status_trans       | 1.0            \n",
      " dayOfWeek                      | 4              \n",
      " month                          | 6              \n",
      " year                           | 2015           \n",
      " hotel_VEC                      | (1,[],[])      \n",
      " arrival_month_VEC              | (11,[1],[1.0]) \n",
      " children_VEC                   | (5,[0],[1.0])  \n",
      " meal_VEC                       | (4,[2],[1.0])  \n",
      " market_segment_VEC             | (7,[1],[1.0])  \n",
      " reserved_room_type_VEC         | (9,[2],[1.0])  \n",
      " assigned_room_type_VEC         | (11,[2],[1.0]) \n",
      " customer_type_VEC              | (3,[0],[1.0])  \n",
      " reservation_status_VEC         | (2,[1],[1.0])  \n",
      "-RECORD 4----------------------------------------\n",
      " hotel                          | Resort Hotel   \n",
      " is_canceled                    | 0              \n",
      " lead_time                      | 98             \n",
      " arrival_year                   | 2015           \n",
      " arrival_month                  | August         \n",
      " arrival_day                    | 7              \n",
      " stays_in_weekend_nights        | 2              \n",
      " stays_in_week_nights           | 2              \n",
      " adults                         | 2              \n",
      " children                       | 0              \n",
      " babies                         | 0              \n",
      " meal                           | BB             \n",
      " market_segment                 | Online TA      \n",
      " is_repeated_guest              | 0              \n",
      " previous_cancellations         | 0              \n",
      " previous_bookings_not_canceled | 0              \n",
      " reserved_room_type             | A              \n",
      " assigned_room_type             | D              \n",
      " booking_changes                | 0              \n",
      " days_in_waiting_list           | 0              \n",
      " customer_type                  | Transient      \n",
      " required_car_parking_spaces    | 0              \n",
      " total_of_special_requests      | 2              \n",
      " reservation_status             | Check-Out      \n",
      " reservation_status_date        | 2015-08-11     \n",
      " hotel_trans                    | 1.0            \n",
      " arrival_month_trans            | 0.0            \n",
      " children_trans                 | 0.0            \n",
      " meal_trans                     | 0.0            \n",
      " market_segment_trans           | 0.0            \n",
      " reserved_room_type_trans       | 0.0            \n",
      " assigned_room_type_trans       | 1.0            \n",
      " customer_type_trans            | 0.0            \n",
      " reservation_status_trans       | 0.0            \n",
      " dayOfWeek                      | 3              \n",
      " month                          | 8              \n",
      " year                           | 2015           \n",
      " hotel_VEC                      | (1,[],[])      \n",
      " arrival_month_VEC              | (11,[0],[1.0]) \n",
      " children_VEC                   | (5,[0],[1.0])  \n",
      " meal_VEC                       | (4,[0],[1.0])  \n",
      " market_segment_VEC             | (7,[0],[1.0])  \n",
      " reserved_room_type_VEC         | (9,[0],[1.0])  \n",
      " assigned_room_type_VEC         | (11,[1],[1.0]) \n",
      " customer_type_VEC              | (3,[0],[1.0])  \n",
      " reservation_status_VEC         | (2,[0],[1.0])  \n",
      "only showing top 5 rows\n",
      "\n"
     ]
    }
   ],
   "source": [
    "df.show(5,vertical=True)"
   ]
  },
  {
   "cell_type": "code",
   "execution_count": 22,
   "metadata": {
    "colab": {
     "base_uri": "https://localhost:8080/"
    },
    "id": "I1xBiGhUiwBu",
    "outputId": "ef751f70-6ea6-45e3-8cd8-f1ce310770d7"
   },
   "outputs": [
    {
     "name": "stdout",
     "output_type": "stream",
     "text": [
      "['hotel', 'is_canceled', 'lead_time', 'arrival_year', 'arrival_month', 'arrival_day', 'stays_in_weekend_nights', 'stays_in_week_nights', 'adults', 'children', 'babies', 'meal', 'market_segment', 'is_repeated_guest', 'previous_cancellations', 'previous_bookings_not_canceled', 'reserved_room_type', 'assigned_room_type', 'booking_changes', 'days_in_waiting_list', 'customer_type', 'required_car_parking_spaces', 'total_of_special_requests', 'reservation_status', 'reservation_status_date', 'hotel_trans', 'arrival_month_trans', 'children_trans', 'meal_trans', 'market_segment_trans', 'reserved_room_type_trans', 'assigned_room_type_trans', 'customer_type_trans', 'reservation_status_trans', 'dayOfWeek', 'month', 'year', 'hotel_VEC', 'arrival_month_VEC', 'children_VEC', 'meal_VEC', 'market_segment_VEC', 'reserved_room_type_VEC', 'assigned_room_type_VEC', 'customer_type_VEC', 'reservation_status_VEC']\n"
     ]
    }
   ],
   "source": [
    "column_names = df.columns\n",
    "\n",
    "# print the column names\n",
    "print(column_names)"
   ]
  },
  {
   "cell_type": "code",
   "execution_count": 23,
   "metadata": {
    "colab": {
     "base_uri": "https://localhost:8080/"
    },
    "id": "Ff-InU3vi10d",
    "outputId": "520a0580-eea9-4e0b-8fd5-7f53daab4da3"
   },
   "outputs": [
    {
     "name": "stdout",
     "output_type": "stream",
     "text": [
      "+-----------+---------+------------+-----------+-----------------------+--------------------+------+------+-----------------+----------------------+------------------------------+---------------+--------------------+---------------------------+-------------------------+-----------+-------------------+--------------+----------+--------------------+------------------------+------------------------+-------------------+------------------------+---------+-----+----+---------+-----------------+-------------+-------------+------------------+----------------------+----------------------+-----------------+----------------------+\n",
      "|is_canceled|lead_time|arrival_year|arrival_day|stays_in_weekend_nights|stays_in_week_nights|adults|babies|is_repeated_guest|previous_cancellations|previous_bookings_not_canceled|booking_changes|days_in_waiting_list|required_car_parking_spaces|total_of_special_requests|hotel_trans|arrival_month_trans|children_trans|meal_trans|market_segment_trans|reserved_room_type_trans|assigned_room_type_trans|customer_type_trans|reservation_status_trans|dayOfWeek|month|year|hotel_VEC|arrival_month_VEC| children_VEC|     meal_VEC|market_segment_VEC|reserved_room_type_VEC|assigned_room_type_VEC|customer_type_VEC|reservation_status_VEC|\n",
      "+-----------+---------+------------+-----------+-----------------------+--------------------+------+------+-----------------+----------------------+------------------------------+---------------+--------------------+---------------------------+-------------------------+-----------+-------------------+--------------+----------+--------------------+------------------------+------------------------+-------------------+------------------------+---------+-----+----+---------+-----------------+-------------+-------------+------------------+----------------------+----------------------+-----------------+----------------------+\n",
      "|          0|        9|        2015|         13|                      1|                   1|     2|     0|                0|                     0|                             0|              0|                   0|                          1|                        2|        1.0|                1.0|           0.0|       2.0|                 0.0|                     0.0|                     0.0|                0.0|                     0.0|        4|    7|2015|(1,[],[])|   (11,[1],[1.0])|(5,[0],[1.0])|(4,[2],[1.0])|     (7,[0],[1.0])|         (9,[0],[1.0])|        (11,[0],[1.0])|    (3,[0],[1.0])|         (2,[0],[1.0])|\n",
      "|          1|       42|        2015|         13|                      1|                   4|     2|     0|                0|                     0|                             0|              0|                   0|                          0|                        0|        1.0|                1.0|           0.0|       0.0|                 0.0|                     1.0|                     1.0|                0.0|                     1.0|        2|    6|2015|(1,[],[])|   (11,[1],[1.0])|(5,[0],[1.0])|(4,[0],[1.0])|     (7,[0],[1.0])|         (9,[1],[1.0])|        (11,[1],[1.0])|    (3,[0],[1.0])|         (2,[1],[1.0])|\n",
      "|          0|        7|        2015|         16|                      0|                   1|     2|     0|                0|                     0|                             0|              1|                   0|                          1|                        1|        1.0|                1.0|           2.0|       0.0|                 0.0|                     6.0|                     5.0|                0.0|                     0.0|        6|    7|2015|(1,[],[])|   (11,[1],[1.0])|(5,[2],[1.0])|(4,[0],[1.0])|     (7,[0],[1.0])|         (9,[6],[1.0])|        (11,[5],[1.0])|    (3,[0],[1.0])|         (2,[0],[1.0])|\n",
      "|          1|       62|        2015|         19|                      2|                   5|     2|     0|                0|                     0|                             0|              0|                   0|                          0|                        1|        1.0|                1.0|           0.0|       2.0|                 1.0|                     2.0|                     2.0|                0.0|                     1.0|        4|    6|2015|(1,[],[])|   (11,[1],[1.0])|(5,[0],[1.0])|(4,[2],[1.0])|     (7,[1],[1.0])|         (9,[2],[1.0])|        (11,[2],[1.0])|    (3,[0],[1.0])|         (2,[1],[1.0])|\n",
      "|          0|       98|        2015|          7|                      2|                   2|     2|     0|                0|                     0|                             0|              0|                   0|                          0|                        2|        1.0|                0.0|           0.0|       0.0|                 0.0|                     0.0|                     1.0|                0.0|                     0.0|        3|    8|2015|(1,[],[])|   (11,[0],[1.0])|(5,[0],[1.0])|(4,[0],[1.0])|     (7,[0],[1.0])|         (9,[0],[1.0])|        (11,[1],[1.0])|    (3,[0],[1.0])|         (2,[0],[1.0])|\n",
      "|          1|       80|        2015|         15|                      2|                   3|     3|     0|                0|                     0|                             0|              0|                   0|                          0|                        1|        1.0|                0.0|           0.0|       2.0|                 1.0|                     0.0|                     0.0|                0.0|                     1.0|        4|    8|2015|(1,[],[])|   (11,[0],[1.0])|(5,[0],[1.0])|(4,[2],[1.0])|     (7,[1],[1.0])|         (9,[0],[1.0])|        (11,[0],[1.0])|    (3,[0],[1.0])|         (2,[1],[1.0])|\n",
      "|          0|       34|        2015|         30|                      2|                   2|     2|     0|                0|                     0|                             0|              0|                   0|                          0|                        1|        1.0|                0.0|           0.0|       0.0|                 0.0|                     0.0|                     0.0|                0.0|                     0.0|        5|    9|2015|(1,[],[])|   (11,[0],[1.0])|(5,[0],[1.0])|(4,[0],[1.0])|     (7,[0],[1.0])|         (9,[0],[1.0])|        (11,[0],[1.0])|    (3,[0],[1.0])|         (2,[0],[1.0])|\n",
      "|          0|      160|        2015|         31|                      3|                   7|     2|     0|                0|                     0|                             0|              0|                   0|                          0|                        0|        1.0|                0.0|           0.0|       0.0|                 1.0|                     2.0|                     2.0|                0.0|                     0.0|        5|    9|2015|(1,[],[])|   (11,[0],[1.0])|(5,[0],[1.0])|(4,[0],[1.0])|     (7,[1],[1.0])|         (9,[2],[1.0])|        (11,[2],[1.0])|    (3,[0],[1.0])|         (2,[0],[1.0])|\n",
      "|          0|       62|        2015|          1|                      2|                  10|     2|     0|                0|                     0|                             0|              0|                   0|                          0|                        2|        1.0|                7.0|           0.0|       0.0|                 0.0|                     1.0|                     1.0|                0.0|                     0.0|        1|    9|2015|(1,[],[])|   (11,[7],[1.0])|(5,[0],[1.0])|(4,[0],[1.0])|     (7,[0],[1.0])|         (9,[1],[1.0])|        (11,[1],[1.0])|    (3,[0],[1.0])|         (2,[0],[1.0])|\n",
      "|          0|      328|        2015|          6|                      4|                   6|     2|     0|                0|                     0|                             0|              0|                   0|                          0|                        1|        1.0|                7.0|           0.0|       0.0|                 1.0|                     1.0|                     1.0|                0.0|                     0.0|        4|    9|2015|(1,[],[])|   (11,[7],[1.0])|(5,[0],[1.0])|(4,[0],[1.0])|     (7,[1],[1.0])|         (9,[1],[1.0])|        (11,[1],[1.0])|    (3,[0],[1.0])|         (2,[0],[1.0])|\n",
      "|          1|       76|        2015|         17|                      2|                   5|     2|     0|                0|                     0|                             0|              0|                   0|                          0|                        1|        1.0|                7.0|           0.0|       0.0|                 0.0|                     0.0|                     0.0|                0.0|                     1.0|        2|    7|2015|(1,[],[])|   (11,[7],[1.0])|(5,[0],[1.0])|(4,[0],[1.0])|     (7,[0],[1.0])|         (9,[0],[1.0])|        (11,[0],[1.0])|    (3,[0],[1.0])|         (2,[1],[1.0])|\n",
      "|          0|       43|        2015|          6|                      0|                   4|     2|     0|                0|                     0|                             0|              0|                   0|                          0|                        1|        1.0|                6.0|           0.0|       0.0|                 0.0|                     0.0|                     0.0|                0.0|                     0.0|        7|   10|2015|(1,[],[])|   (11,[6],[1.0])|(5,[0],[1.0])|(4,[0],[1.0])|     (7,[0],[1.0])|         (9,[0],[1.0])|        (11,[0],[1.0])|    (3,[0],[1.0])|         (2,[0],[1.0])|\n",
      "|          0|       11|        2015|         23|                      0|                   2|     2|     0|                0|                     0|                             0|              0|                   0|                          1|                        1|        1.0|                6.0|           0.0|       0.0|                 0.0|                     0.0|                     1.0|                0.0|                     0.0|        1|   10|2015|(1,[],[])|   (11,[6],[1.0])|(5,[0],[1.0])|(4,[0],[1.0])|     (7,[0],[1.0])|         (9,[0],[1.0])|        (11,[1],[1.0])|    (3,[0],[1.0])|         (2,[0],[1.0])|\n",
      "|          1|      155|        2015|         31|                      0|                   1|     2|     0|                0|                     0|                             0|              0|                   0|                          0|                        0|        1.0|                6.0|           0.0|       0.0|                 3.0|                     0.0|                     0.0|                0.0|                     1.0|        2|   10|2015|(1,[],[])|   (11,[6],[1.0])|(5,[0],[1.0])|(4,[0],[1.0])|     (7,[3],[1.0])|         (9,[0],[1.0])|        (11,[0],[1.0])|    (3,[0],[1.0])|         (2,[1],[1.0])|\n",
      "|          1|       32|        2015|         11|                      0|                   4|     1|     0|                0|                     0|                             0|              1|                   0|                          0|                        0|        1.0|               10.0|           0.0|       0.0|                 4.0|                     0.0|                     0.0|                1.0|                     1.0|        5|   10|2015|(1,[],[])|  (11,[10],[1.0])|(5,[0],[1.0])|(4,[0],[1.0])|     (7,[4],[1.0])|         (9,[0],[1.0])|        (11,[0],[1.0])|    (3,[1],[1.0])|         (2,[1],[1.0])|\n",
      "|          0|       79|        2015|         24|                      2|                   5|     2|     0|                0|                     0|                             0|              0|                   0|                          0|                        2|        1.0|                9.0|           0.0|       2.0|                 1.0|                     0.0|                     0.0|                0.0|                     0.0|        5|   12|2015|(1,[],[])|   (11,[9],[1.0])|(5,[0],[1.0])|(4,[2],[1.0])|     (7,[1],[1.0])|         (9,[0],[1.0])|        (11,[0],[1.0])|    (3,[0],[1.0])|         (2,[0],[1.0])|\n",
      "|          1|       59|        2016|         24|                      0|                   3|     2|     0|                0|                     0|                             0|              0|                   0|                          0|                        1|        1.0|                5.0|           0.0|       0.0|                 0.0|                     2.0|                     2.0|                0.0|                     1.0|        7|    1|2016|(1,[],[])|   (11,[5],[1.0])|(5,[0],[1.0])|(4,[0],[1.0])|     (7,[0],[1.0])|         (9,[2],[1.0])|        (11,[2],[1.0])|    (3,[0],[1.0])|         (2,[1],[1.0])|\n",
      "|          1|        5|        2016|         25|                      0|                   2|     2|     0|                0|                     0|                             0|              0|                   0|                          0|                        0|        1.0|                5.0|           0.0|       0.0|                 0.0|                     0.0|                     0.0|                0.0|                     1.0|        1|    3|2016|(1,[],[])|   (11,[5],[1.0])|(5,[0],[1.0])|(4,[0],[1.0])|     (7,[0],[1.0])|         (9,[0],[1.0])|        (11,[0],[1.0])|    (3,[0],[1.0])|         (2,[1],[1.0])|\n",
      "|          0|      169|        2016|         31|                      0|                   3|     1|     0|                0|                     0|                             0|              2|                   0|                          1|                        0|        1.0|                5.0|           0.0|       0.0|                 3.0|                     0.0|                     0.0|                1.0|                     0.0|        1|    4|2016|(1,[],[])|   (11,[5],[1.0])|(5,[0],[1.0])|(4,[0],[1.0])|     (7,[3],[1.0])|         (9,[0],[1.0])|        (11,[0],[1.0])|    (3,[1],[1.0])|         (2,[0],[1.0])|\n",
      "|          0|      229|        2016|         12|                      2|                   6|     2|     0|                0|                     0|                             0|              1|                   0|                          0|                        0|        1.0|                3.0|           0.0|       0.0|                 2.0|                     1.0|                     1.0|                0.0|                     0.0|        4|    4|2016|(1,[],[])|   (11,[3],[1.0])|(5,[0],[1.0])|(4,[0],[1.0])|     (7,[2],[1.0])|         (9,[1],[1.0])|        (11,[1],[1.0])|    (3,[0],[1.0])|         (2,[0],[1.0])|\n",
      "+-----------+---------+------------+-----------+-----------------------+--------------------+------+------+-----------------+----------------------+------------------------------+---------------+--------------------+---------------------------+-------------------------+-----------+-------------------+--------------+----------+--------------------+------------------------+------------------------+-------------------+------------------------+---------+-----+----+---------+-----------------+-------------+-------------+------------------+----------------------+----------------------+-----------------+----------------------+\n",
      "only showing top 20 rows\n",
      "\n"
     ]
    }
   ],
   "source": [
    "df_dropped = df.drop(\"hotel\",\"arrival_month\",\"children\",\"meal\",\"market_segment\",\"reserved_room_type\",\"assigned_room_type\",\"customer_type\",\"reservation_status\",\"reservation_status_date\")\n",
    "df_dropped.show()"
   ]
  },
  {
   "cell_type": "code",
   "execution_count": 24,
   "metadata": {
    "id": "XPXB8hYVjQN2"
   },
   "outputs": [],
   "source": [
    "new_column_names = df_dropped.columns\n"
   ]
  },
  {
   "cell_type": "code",
   "execution_count": 25,
   "metadata": {
    "colab": {
     "base_uri": "https://localhost:8080/"
    },
    "id": "Ak5K-RumjXWM",
    "outputId": "c6c02ee2-6edd-4f23-a34a-b770a21e6fd3"
   },
   "outputs": [
    {
     "name": "stdout",
     "output_type": "stream",
     "text": [
      "-RECORD 0----------------------------------------\n",
      " hotel                          | Resort Hotel   \n",
      " is_canceled                    | 0              \n",
      " lead_time                      | 9              \n",
      " arrival_year                   | 2015           \n",
      " arrival_month                  | July           \n",
      " arrival_day                    | 13             \n",
      " stays_in_weekend_nights        | 1              \n",
      " stays_in_week_nights           | 1              \n",
      " adults                         | 2              \n",
      " children                       | 0              \n",
      " babies                         | 0              \n",
      " meal                           | HB             \n",
      " market_segment                 | Online TA      \n",
      " is_repeated_guest              | 0              \n",
      " previous_cancellations         | 0              \n",
      " previous_bookings_not_canceled | 0              \n",
      " reserved_room_type             | A              \n",
      " assigned_room_type             | A              \n",
      " booking_changes                | 0              \n",
      " days_in_waiting_list           | 0              \n",
      " customer_type                  | Transient      \n",
      " required_car_parking_spaces    | 1              \n",
      " total_of_special_requests      | 2              \n",
      " reservation_status             | Check-Out      \n",
      " reservation_status_date        | 2015-07-15     \n",
      " hotel_trans                    | 1.0            \n",
      " arrival_month_trans            | 1.0            \n",
      " children_trans                 | 0.0            \n",
      " meal_trans                     | 2.0            \n",
      " market_segment_trans           | 0.0            \n",
      " reserved_room_type_trans       | 0.0            \n",
      " assigned_room_type_trans       | 0.0            \n",
      " customer_type_trans            | 0.0            \n",
      " reservation_status_trans       | 0.0            \n",
      " dayOfWeek                      | 4              \n",
      " month                          | 7              \n",
      " year                           | 2015           \n",
      " hotel_VEC                      | (1,[],[])      \n",
      " arrival_month_VEC              | (11,[1],[1.0]) \n",
      " children_VEC                   | (5,[0],[1.0])  \n",
      " meal_VEC                       | (4,[2],[1.0])  \n",
      " market_segment_VEC             | (7,[0],[1.0])  \n",
      " reserved_room_type_VEC         | (9,[0],[1.0])  \n",
      " assigned_room_type_VEC         | (11,[0],[1.0]) \n",
      " customer_type_VEC              | (3,[0],[1.0])  \n",
      " reservation_status_VEC         | (2,[0],[1.0])  \n",
      "-RECORD 1----------------------------------------\n",
      " hotel                          | Resort Hotel   \n",
      " is_canceled                    | 1              \n",
      " lead_time                      | 42             \n",
      " arrival_year                   | 2015           \n",
      " arrival_month                  | July           \n",
      " arrival_day                    | 13             \n",
      " stays_in_weekend_nights        | 1              \n",
      " stays_in_week_nights           | 4              \n",
      " adults                         | 2              \n",
      " children                       | 0              \n",
      " babies                         | 0              \n",
      " meal                           | BB             \n",
      " market_segment                 | Online TA      \n",
      " is_repeated_guest              | 0              \n",
      " previous_cancellations         | 0              \n",
      " previous_bookings_not_canceled | 0              \n",
      " reserved_room_type             | D              \n",
      " assigned_room_type             | D              \n",
      " booking_changes                | 0              \n",
      " days_in_waiting_list           | 0              \n",
      " customer_type                  | Transient      \n",
      " required_car_parking_spaces    | 0              \n",
      " total_of_special_requests      | 0              \n",
      " reservation_status             | Canceled       \n",
      " reservation_status_date        | 2015-06-01     \n",
      " hotel_trans                    | 1.0            \n",
      " arrival_month_trans            | 1.0            \n",
      " children_trans                 | 0.0            \n",
      " meal_trans                     | 0.0            \n",
      " market_segment_trans           | 0.0            \n",
      " reserved_room_type_trans       | 1.0            \n",
      " assigned_room_type_trans       | 1.0            \n",
      " customer_type_trans            | 0.0            \n",
      " reservation_status_trans       | 1.0            \n",
      " dayOfWeek                      | 2              \n",
      " month                          | 6              \n",
      " year                           | 2015           \n",
      " hotel_VEC                      | (1,[],[])      \n",
      " arrival_month_VEC              | (11,[1],[1.0]) \n",
      " children_VEC                   | (5,[0],[1.0])  \n",
      " meal_VEC                       | (4,[0],[1.0])  \n",
      " market_segment_VEC             | (7,[0],[1.0])  \n",
      " reserved_room_type_VEC         | (9,[1],[1.0])  \n",
      " assigned_room_type_VEC         | (11,[1],[1.0]) \n",
      " customer_type_VEC              | (3,[0],[1.0])  \n",
      " reservation_status_VEC         | (2,[1],[1.0])  \n",
      "-RECORD 2----------------------------------------\n",
      " hotel                          | Resort Hotel   \n",
      " is_canceled                    | 0              \n",
      " lead_time                      | 7              \n",
      " arrival_year                   | 2015           \n",
      " arrival_month                  | July           \n",
      " arrival_day                    | 16             \n",
      " stays_in_weekend_nights        | 0              \n",
      " stays_in_week_nights           | 1              \n",
      " adults                         | 2              \n",
      " children                       | 2              \n",
      " babies                         | 0              \n",
      " meal                           | BB             \n",
      " market_segment                 | Online TA      \n",
      " is_repeated_guest              | 0              \n",
      " previous_cancellations         | 0              \n",
      " previous_bookings_not_canceled | 0              \n",
      " reserved_room_type             | C              \n",
      " assigned_room_type             | C              \n",
      " booking_changes                | 1              \n",
      " days_in_waiting_list           | 0              \n",
      " customer_type                  | Transient      \n",
      " required_car_parking_spaces    | 1              \n",
      " total_of_special_requests      | 1              \n",
      " reservation_status             | Check-Out      \n",
      " reservation_status_date        | 2015-07-17     \n",
      " hotel_trans                    | 1.0            \n",
      " arrival_month_trans            | 1.0            \n",
      " children_trans                 | 2.0            \n",
      " meal_trans                     | 0.0            \n",
      " market_segment_trans           | 0.0            \n",
      " reserved_room_type_trans       | 6.0            \n",
      " assigned_room_type_trans       | 5.0            \n",
      " customer_type_trans            | 0.0            \n",
      " reservation_status_trans       | 0.0            \n",
      " dayOfWeek                      | 6              \n",
      " month                          | 7              \n",
      " year                           | 2015           \n",
      " hotel_VEC                      | (1,[],[])      \n",
      " arrival_month_VEC              | (11,[1],[1.0]) \n",
      " children_VEC                   | (5,[2],[1.0])  \n",
      " meal_VEC                       | (4,[0],[1.0])  \n",
      " market_segment_VEC             | (7,[0],[1.0])  \n",
      " reserved_room_type_VEC         | (9,[6],[1.0])  \n",
      " assigned_room_type_VEC         | (11,[5],[1.0]) \n",
      " customer_type_VEC              | (3,[0],[1.0])  \n",
      " reservation_status_VEC         | (2,[0],[1.0])  \n",
      "-RECORD 3----------------------------------------\n",
      " hotel                          | Resort Hotel   \n",
      " is_canceled                    | 1              \n",
      " lead_time                      | 62             \n",
      " arrival_year                   | 2015           \n",
      " arrival_month                  | July           \n",
      " arrival_day                    | 19             \n",
      " stays_in_weekend_nights        | 2              \n",
      " stays_in_week_nights           | 5              \n",
      " adults                         | 2              \n",
      " children                       | 0              \n",
      " babies                         | 0              \n",
      " meal                           | HB             \n",
      " market_segment                 | Offline TA/TO  \n",
      " is_repeated_guest              | 0              \n",
      " previous_cancellations         | 0              \n",
      " previous_bookings_not_canceled | 0              \n",
      " reserved_room_type             | E              \n",
      " assigned_room_type             | E              \n",
      " booking_changes                | 0              \n",
      " days_in_waiting_list           | 0              \n",
      " customer_type                  | Transient      \n",
      " required_car_parking_spaces    | 0              \n",
      " total_of_special_requests      | 1              \n",
      " reservation_status             | Canceled       \n",
      " reservation_status_date        | 2015-06-17     \n",
      " hotel_trans                    | 1.0            \n",
      " arrival_month_trans            | 1.0            \n",
      " children_trans                 | 0.0            \n",
      " meal_trans                     | 2.0            \n",
      " market_segment_trans           | 1.0            \n",
      " reserved_room_type_trans       | 2.0            \n",
      " assigned_room_type_trans       | 2.0            \n",
      " customer_type_trans            | 0.0            \n",
      " reservation_status_trans       | 1.0            \n",
      " dayOfWeek                      | 4              \n",
      " month                          | 6              \n",
      " year                           | 2015           \n",
      " hotel_VEC                      | (1,[],[])      \n",
      " arrival_month_VEC              | (11,[1],[1.0]) \n",
      " children_VEC                   | (5,[0],[1.0])  \n",
      " meal_VEC                       | (4,[2],[1.0])  \n",
      " market_segment_VEC             | (7,[1],[1.0])  \n",
      " reserved_room_type_VEC         | (9,[2],[1.0])  \n",
      " assigned_room_type_VEC         | (11,[2],[1.0]) \n",
      " customer_type_VEC              | (3,[0],[1.0])  \n",
      " reservation_status_VEC         | (2,[1],[1.0])  \n",
      "-RECORD 4----------------------------------------\n",
      " hotel                          | Resort Hotel   \n",
      " is_canceled                    | 0              \n",
      " lead_time                      | 98             \n",
      " arrival_year                   | 2015           \n",
      " arrival_month                  | August         \n",
      " arrival_day                    | 7              \n",
      " stays_in_weekend_nights        | 2              \n",
      " stays_in_week_nights           | 2              \n",
      " adults                         | 2              \n",
      " children                       | 0              \n",
      " babies                         | 0              \n",
      " meal                           | BB             \n",
      " market_segment                 | Online TA      \n",
      " is_repeated_guest              | 0              \n",
      " previous_cancellations         | 0              \n",
      " previous_bookings_not_canceled | 0              \n",
      " reserved_room_type             | A              \n",
      " assigned_room_type             | D              \n",
      " booking_changes                | 0              \n",
      " days_in_waiting_list           | 0              \n",
      " customer_type                  | Transient      \n",
      " required_car_parking_spaces    | 0              \n",
      " total_of_special_requests      | 2              \n",
      " reservation_status             | Check-Out      \n",
      " reservation_status_date        | 2015-08-11     \n",
      " hotel_trans                    | 1.0            \n",
      " arrival_month_trans            | 0.0            \n",
      " children_trans                 | 0.0            \n",
      " meal_trans                     | 0.0            \n",
      " market_segment_trans           | 0.0            \n",
      " reserved_room_type_trans       | 0.0            \n",
      " assigned_room_type_trans       | 1.0            \n",
      " customer_type_trans            | 0.0            \n",
      " reservation_status_trans       | 0.0            \n",
      " dayOfWeek                      | 3              \n",
      " month                          | 8              \n",
      " year                           | 2015           \n",
      " hotel_VEC                      | (1,[],[])      \n",
      " arrival_month_VEC              | (11,[0],[1.0]) \n",
      " children_VEC                   | (5,[0],[1.0])  \n",
      " meal_VEC                       | (4,[0],[1.0])  \n",
      " market_segment_VEC             | (7,[0],[1.0])  \n",
      " reserved_room_type_VEC         | (9,[0],[1.0])  \n",
      " assigned_room_type_VEC         | (11,[1],[1.0]) \n",
      " customer_type_VEC              | (3,[0],[1.0])  \n",
      " reservation_status_VEC         | (2,[0],[1.0])  \n",
      "only showing top 5 rows\n",
      "\n"
     ]
    }
   ],
   "source": [
    "Va = VectorAssembler()\n",
    "vA = Va.setParams(inputCols=new_column_names, outputCol='features')\n",
    "df_dropped = vA.transform(df_dropped)\n",
    "df.show(5,vertical=True)"
   ]
  },
  {
   "cell_type": "code",
   "execution_count": 26,
   "metadata": {
    "colab": {
     "base_uri": "https://localhost:8080/"
    },
    "id": "XnsAxVNQqtjY",
    "outputId": "73cae9ec-a5be-4d00-d330-77cd6570739c"
   },
   "outputs": [
    {
     "name": "stdout",
     "output_type": "stream",
     "text": [
      "+-----------+---------+------------+-----------+-----------------------+--------------------+------+------+-----------------+----------------------+------------------------------+---------------+--------------------+---------------------------+-------------------------+-----------+-------------------+--------------+----------+--------------------+------------------------+------------------------+-------------------+------------------------+---------+-----+----+---------+-----------------+-------------+-------------+------------------+----------------------+----------------------+-----------------+----------------------+--------------------+--------------------+\n",
      "|is_canceled|lead_time|arrival_year|arrival_day|stays_in_weekend_nights|stays_in_week_nights|adults|babies|is_repeated_guest|previous_cancellations|previous_bookings_not_canceled|booking_changes|days_in_waiting_list|required_car_parking_spaces|total_of_special_requests|hotel_trans|arrival_month_trans|children_trans|meal_trans|market_segment_trans|reserved_room_type_trans|assigned_room_type_trans|customer_type_trans|reservation_status_trans|dayOfWeek|month|year|hotel_VEC|arrival_month_VEC| children_VEC|     meal_VEC|market_segment_VEC|reserved_room_type_VEC|assigned_room_type_VEC|customer_type_VEC|reservation_status_VEC|            features|      scaledFeatures|\n",
      "+-----------+---------+------------+-----------+-----------------------+--------------------+------+------+-----------------+----------------------+------------------------------+---------------+--------------------+---------------------------+-------------------------+-----------+-------------------+--------------+----------+--------------------+------------------------+------------------------+-------------------+------------------------+---------+-----+----+---------+-----------------+-------------+-------------+------------------+----------------------+----------------------+-----------------+----------------------+--------------------+--------------------+\n",
      "|          0|        9|        2015|         13|                      1|                   1|     2|     0|                0|                     0|                             0|              0|                   0|                          1|                        2|        1.0|                1.0|           0.0|       2.0|                 0.0|                     0.0|                     0.0|                0.0|                     0.0|        4|    7|2015|(1,[],[])|   (11,[1],[1.0])|(5,[0],[1.0])|(4,[2],[1.0])|     (7,[0],[1.0])|         (9,[0],[1.0])|        (11,[0],[1.0])|    (3,[0],[1.0])|         (2,[0],[1.0])|(80,[1,2,3,4,5,6,...|(80,[1,3,4,5,6,13...|\n",
      "|          1|       42|        2015|         13|                      1|                   4|     2|     0|                0|                     0|                             0|              0|                   0|                          0|                        0|        1.0|                1.0|           0.0|       0.0|                 0.0|                     1.0|                     1.0|                0.0|                     1.0|        2|    6|2015|(1,[],[])|   (11,[1],[1.0])|(5,[0],[1.0])|(4,[0],[1.0])|     (7,[0],[1.0])|         (9,[1],[1.0])|        (11,[1],[1.0])|    (3,[0],[1.0])|         (2,[1],[1.0])|(80,[0,1,2,3,4,5,...|(80,[0,1,3,4,5,6,...|\n",
      "|          0|        7|        2015|         16|                      0|                   1|     2|     0|                0|                     0|                             0|              1|                   0|                          1|                        1|        1.0|                1.0|           2.0|       0.0|                 0.0|                     6.0|                     5.0|                0.0|                     0.0|        6|    7|2015|(1,[],[])|   (11,[1],[1.0])|(5,[2],[1.0])|(4,[0],[1.0])|     (7,[0],[1.0])|         (9,[6],[1.0])|        (11,[5],[1.0])|    (3,[0],[1.0])|         (2,[0],[1.0])|(80,[1,2,3,5,6,11...|(80,[1,3,5,6,11,1...|\n",
      "|          1|       62|        2015|         19|                      2|                   5|     2|     0|                0|                     0|                             0|              0|                   0|                          0|                        1|        1.0|                1.0|           0.0|       2.0|                 1.0|                     2.0|                     2.0|                0.0|                     1.0|        4|    6|2015|(1,[],[])|   (11,[1],[1.0])|(5,[0],[1.0])|(4,[2],[1.0])|     (7,[1],[1.0])|         (9,[2],[1.0])|        (11,[2],[1.0])|    (3,[0],[1.0])|         (2,[1],[1.0])|(80,[0,1,2,3,4,5,...|(80,[0,1,3,4,5,6,...|\n",
      "|          0|       98|        2015|          7|                      2|                   2|     2|     0|                0|                     0|                             0|              0|                   0|                          0|                        2|        1.0|                0.0|           0.0|       0.0|                 0.0|                     0.0|                     1.0|                0.0|                     0.0|        3|    8|2015|(1,[],[])|   (11,[0],[1.0])|(5,[0],[1.0])|(4,[0],[1.0])|     (7,[0],[1.0])|         (9,[0],[1.0])|        (11,[1],[1.0])|    (3,[0],[1.0])|         (2,[0],[1.0])|(80,[1,2,3,4,5,6,...|(80,[1,3,4,5,6,14...|\n",
      "|          1|       80|        2015|         15|                      2|                   3|     3|     0|                0|                     0|                             0|              0|                   0|                          0|                        1|        1.0|                0.0|           0.0|       2.0|                 1.0|                     0.0|                     0.0|                0.0|                     1.0|        4|    8|2015|(1,[],[])|   (11,[0],[1.0])|(5,[0],[1.0])|(4,[2],[1.0])|     (7,[1],[1.0])|         (9,[0],[1.0])|        (11,[0],[1.0])|    (3,[0],[1.0])|         (2,[1],[1.0])|(80,[0,1,2,3,4,5,...|(80,[0,1,3,4,5,6,...|\n",
      "|          0|       34|        2015|         30|                      2|                   2|     2|     0|                0|                     0|                             0|              0|                   0|                          0|                        1|        1.0|                0.0|           0.0|       0.0|                 0.0|                     0.0|                     0.0|                0.0|                     0.0|        5|    9|2015|(1,[],[])|   (11,[0],[1.0])|(5,[0],[1.0])|(4,[0],[1.0])|     (7,[0],[1.0])|         (9,[0],[1.0])|        (11,[0],[1.0])|    (3,[0],[1.0])|         (2,[0],[1.0])|(80,[1,2,3,4,5,6,...|(80,[1,3,4,5,6,14...|\n",
      "|          0|      160|        2015|         31|                      3|                   7|     2|     0|                0|                     0|                             0|              0|                   0|                          0|                        0|        1.0|                0.0|           0.0|       0.0|                 1.0|                     2.0|                     2.0|                0.0|                     0.0|        5|    9|2015|(1,[],[])|   (11,[0],[1.0])|(5,[0],[1.0])|(4,[0],[1.0])|     (7,[1],[1.0])|         (9,[2],[1.0])|        (11,[2],[1.0])|    (3,[0],[1.0])|         (2,[0],[1.0])|(80,[1,2,3,4,5,6,...|(80,[1,3,4,5,6,15...|\n",
      "|          0|       62|        2015|          1|                      2|                  10|     2|     0|                0|                     0|                             0|              0|                   0|                          0|                        2|        1.0|                7.0|           0.0|       0.0|                 0.0|                     1.0|                     1.0|                0.0|                     0.0|        1|    9|2015|(1,[],[])|   (11,[7],[1.0])|(5,[0],[1.0])|(4,[0],[1.0])|     (7,[0],[1.0])|         (9,[1],[1.0])|        (11,[1],[1.0])|    (3,[0],[1.0])|         (2,[0],[1.0])|(80,[1,2,3,4,5,6,...|(80,[1,4,5,6,14,1...|\n",
      "|          0|      328|        2015|          6|                      4|                   6|     2|     0|                0|                     0|                             0|              0|                   0|                          0|                        1|        1.0|                7.0|           0.0|       0.0|                 1.0|                     1.0|                     1.0|                0.0|                     0.0|        4|    9|2015|(1,[],[])|   (11,[7],[1.0])|(5,[0],[1.0])|(4,[0],[1.0])|     (7,[1],[1.0])|         (9,[1],[1.0])|        (11,[1],[1.0])|    (3,[0],[1.0])|         (2,[0],[1.0])|(80,[1,2,3,4,5,6,...|(80,[1,3,4,5,6,14...|\n",
      "|          1|       76|        2015|         17|                      2|                   5|     2|     0|                0|                     0|                             0|              0|                   0|                          0|                        1|        1.0|                7.0|           0.0|       0.0|                 0.0|                     0.0|                     0.0|                0.0|                     1.0|        2|    7|2015|(1,[],[])|   (11,[7],[1.0])|(5,[0],[1.0])|(4,[0],[1.0])|     (7,[0],[1.0])|         (9,[0],[1.0])|        (11,[0],[1.0])|    (3,[0],[1.0])|         (2,[1],[1.0])|(80,[0,1,2,3,4,5,...|(80,[0,1,3,4,5,6,...|\n",
      "|          0|       43|        2015|          6|                      0|                   4|     2|     0|                0|                     0|                             0|              0|                   0|                          0|                        1|        1.0|                6.0|           0.0|       0.0|                 0.0|                     0.0|                     0.0|                0.0|                     0.0|        7|   10|2015|(1,[],[])|   (11,[6],[1.0])|(5,[0],[1.0])|(4,[0],[1.0])|     (7,[0],[1.0])|         (9,[0],[1.0])|        (11,[0],[1.0])|    (3,[0],[1.0])|         (2,[0],[1.0])|(80,[1,2,3,5,6,14...|(80,[1,3,5,6,14,1...|\n",
      "|          0|       11|        2015|         23|                      0|                   2|     2|     0|                0|                     0|                             0|              0|                   0|                          1|                        1|        1.0|                6.0|           0.0|       0.0|                 0.0|                     0.0|                     1.0|                0.0|                     0.0|        1|   10|2015|(1,[],[])|   (11,[6],[1.0])|(5,[0],[1.0])|(4,[0],[1.0])|     (7,[0],[1.0])|         (9,[0],[1.0])|        (11,[1],[1.0])|    (3,[0],[1.0])|         (2,[0],[1.0])|(80,[1,2,3,5,6,13...|(80,[1,3,5,6,13,1...|\n",
      "|          1|      155|        2015|         31|                      0|                   1|     2|     0|                0|                     0|                             0|              0|                   0|                          0|                        0|        1.0|                6.0|           0.0|       0.0|                 3.0|                     0.0|                     0.0|                0.0|                     1.0|        2|   10|2015|(1,[],[])|   (11,[6],[1.0])|(5,[0],[1.0])|(4,[0],[1.0])|     (7,[3],[1.0])|         (9,[0],[1.0])|        (11,[0],[1.0])|    (3,[0],[1.0])|         (2,[1],[1.0])|(80,[0,1,2,3,5,6,...|(80,[0,1,3,5,6,15...|\n",
      "|          1|       32|        2015|         11|                      0|                   4|     1|     0|                0|                     0|                             0|              1|                   0|                          0|                        0|        1.0|               10.0|           0.0|       0.0|                 4.0|                     0.0|                     0.0|                1.0|                     1.0|        5|   10|2015|(1,[],[])|  (11,[10],[1.0])|(5,[0],[1.0])|(4,[0],[1.0])|     (7,[4],[1.0])|         (9,[0],[1.0])|        (11,[0],[1.0])|    (3,[1],[1.0])|         (2,[1],[1.0])|(80,[0,1,2,3,5,6,...|(80,[0,1,3,5,6,11...|\n",
      "|          0|       79|        2015|         24|                      2|                   5|     2|     0|                0|                     0|                             0|              0|                   0|                          0|                        2|        1.0|                9.0|           0.0|       2.0|                 1.0|                     0.0|                     0.0|                0.0|                     0.0|        5|   12|2015|(1,[],[])|   (11,[9],[1.0])|(5,[0],[1.0])|(4,[2],[1.0])|     (7,[1],[1.0])|         (9,[0],[1.0])|        (11,[0],[1.0])|    (3,[0],[1.0])|         (2,[0],[1.0])|(80,[1,2,3,4,5,6,...|(80,[1,3,4,5,6,14...|\n",
      "|          1|       59|        2016|         24|                      0|                   3|     2|     0|                0|                     0|                             0|              0|                   0|                          0|                        1|        1.0|                5.0|           0.0|       0.0|                 0.0|                     2.0|                     2.0|                0.0|                     1.0|        7|    1|2016|(1,[],[])|   (11,[5],[1.0])|(5,[0],[1.0])|(4,[0],[1.0])|     (7,[0],[1.0])|         (9,[2],[1.0])|        (11,[2],[1.0])|    (3,[0],[1.0])|         (2,[1],[1.0])|(80,[0,1,2,3,5,6,...|(80,[0,1,2,3,5,6,...|\n",
      "|          1|        5|        2016|         25|                      0|                   2|     2|     0|                0|                     0|                             0|              0|                   0|                          0|                        0|        1.0|                5.0|           0.0|       0.0|                 0.0|                     0.0|                     0.0|                0.0|                     1.0|        1|    3|2016|(1,[],[])|   (11,[5],[1.0])|(5,[0],[1.0])|(4,[0],[1.0])|     (7,[0],[1.0])|         (9,[0],[1.0])|        (11,[0],[1.0])|    (3,[0],[1.0])|         (2,[1],[1.0])|(80,[0,1,2,3,5,6,...|(80,[0,1,2,3,5,6,...|\n",
      "|          0|      169|        2016|         31|                      0|                   3|     1|     0|                0|                     0|                             0|              2|                   0|                          1|                        0|        1.0|                5.0|           0.0|       0.0|                 3.0|                     0.0|                     0.0|                1.0|                     0.0|        1|    4|2016|(1,[],[])|   (11,[5],[1.0])|(5,[0],[1.0])|(4,[0],[1.0])|     (7,[3],[1.0])|         (9,[0],[1.0])|        (11,[0],[1.0])|    (3,[1],[1.0])|         (2,[0],[1.0])|(80,[1,2,3,5,6,11...|(80,[1,2,3,5,6,11...|\n",
      "|          0|      229|        2016|         12|                      2|                   6|     2|     0|                0|                     0|                             0|              1|                   0|                          0|                        0|        1.0|                3.0|           0.0|       0.0|                 2.0|                     1.0|                     1.0|                0.0|                     0.0|        4|    4|2016|(1,[],[])|   (11,[3],[1.0])|(5,[0],[1.0])|(4,[0],[1.0])|     (7,[2],[1.0])|         (9,[1],[1.0])|        (11,[1],[1.0])|    (3,[0],[1.0])|         (2,[0],[1.0])|(80,[1,2,3,4,5,6,...|(80,[1,2,3,4,5,6,...|\n",
      "+-----------+---------+------------+-----------+-----------------------+--------------------+------+------+-----------------+----------------------+------------------------------+---------------+--------------------+---------------------------+-------------------------+-----------+-------------------+--------------+----------+--------------------+------------------------+------------------------+-------------------+------------------------+---------+-----+----+---------+-----------------+-------------+-------------+------------------+----------------------+----------------------+-----------------+----------------------+--------------------+--------------------+\n",
      "only showing top 20 rows\n",
      "\n"
     ]
    }
   ],
   "source": [
    "from pyspark.ml.feature import MinMaxScaler\n",
    "# scaler = MinMaxScaler(inputCol=\"features\", outputCol=\"features\")\n",
    "# scalerModel = scaler.fit(df_dropped)\n",
    "\n",
    "scaler = MinMaxScaler(inputCol=\"features\", outputCol=\"scaledFeatures\")\n",
    "# rescale each feature to range [min, max].\n",
    "scaledData = scaler.fit(df_dropped).transform(df_dropped)\n",
    "scaledData.show()\n"
   ]
  },
  {
   "cell_type": "code",
   "execution_count": 27,
   "metadata": {
    "id": "-YW_Z01mjXYO"
   },
   "outputs": [],
   "source": [
    "splt = scaledData.randomSplit([0.7,0.3])\n",
    "train_df= splt[0]\n",
    "test_df = splt[1]"
   ]
  },
  {
   "cell_type": "code",
   "execution_count": 28,
   "metadata": {
    "colab": {
     "base_uri": "https://localhost:8080/"
    },
    "id": "0vqyls8FjXaV",
    "outputId": "023bf726-c1a8-418b-b6ae-1a5b86bec7f7"
   },
   "outputs": [
    {
     "name": "stdout",
     "output_type": "stream",
     "text": [
      "+-----------+--------------------+----------+--------------------+\n",
      "|is_canceled|       rawPrediction|prediction|         probability|\n",
      "+-----------+--------------------+----------+--------------------+\n",
      "|          0|[19.6068810229503...|       0.0|[0.99999999694620...|\n",
      "|          0|[19.7669960119323...|       0.0|[0.99999999739802...|\n",
      "|          0|[20.0012668535961...|       0.0|[0.99999999794145...|\n",
      "|          0|[19.7943833416078...|       0.0|[0.99999999746832...|\n",
      "|          0|[19.5039269256352...|       0.0|[0.99999999661505...|\n",
      "|          0|[19.8820073592314...|       0.0|[0.99999999768071...|\n",
      "|          0|[19.4659800180892...|       0.0|[0.99999999648413...|\n",
      "|          0|[19.0605170966538...|       0.0|[0.99999999472621...|\n",
      "|          0|[19.4711047502582...|       0.0|[0.99999999650210...|\n",
      "|          0|[19.0824349249650...|       0.0|[0.99999999484054...|\n",
      "+-----------+--------------------+----------+--------------------+\n",
      "only showing top 10 rows\n",
      "\n"
     ]
    }
   ],
   "source": [
    "#logistic Regression\n",
    "from pyspark.ml.classification import LogisticRegression\n",
    "logic = LogisticRegression(featuresCol = 'features',labelCol = 'is_canceled', maxIter = 500)\n",
    "logicModel = logic.fit(train_df)\n",
    "predictions = logicModel.transform(test_df)\n",
    "predictions.select('is_canceled', 'rawPrediction', 'prediction', 'probability').show(10)"
   ]
  },
  {
   "cell_type": "code",
   "execution_count": 29,
   "metadata": {
    "colab": {
     "base_uri": "https://localhost:8080/"
    },
    "id": "kVsN6XD1hlLV",
    "outputId": "b4a9154d-fba8-44df-bdeb-79aab049d99d"
   },
   "outputs": [
    {
     "name": "stdout",
     "output_type": "stream",
     "text": [
      "Test Area Under ROC 1.0\n"
     ]
    }
   ],
   "source": [
    "from pyspark.ml.evaluation import BinaryClassificationEvaluator\n",
    "evaluator = BinaryClassificationEvaluator()\n",
    "evaluator.setLabelCol(\"is_canceled\")\n",
    "evaluator.setRawPredictionCol(\"prediction\")\n",
    "print('Test Area Under ROC', evaluator.evaluate(predictions))"
   ]
  },
  {
   "cell_type": "code",
   "execution_count": 30,
   "metadata": {
    "colab": {
     "base_uri": "https://localhost:8080/"
    },
    "id": "tXfzi78gjXeR",
    "outputId": "207af3c1-436d-4bbc-aceb-fb96ab49856e"
   },
   "outputs": [
    {
     "data": {
      "text/plain": [
       "1.0"
      ]
     },
     "execution_count": 30,
     "metadata": {},
     "output_type": "execute_result"
    }
   ],
   "source": [
    "accu = logicModel.summary\n",
    "accu.accuracy"
   ]
  },
  {
   "cell_type": "code",
   "execution_count": 31,
   "metadata": {
    "colab": {
     "base_uri": "https://localhost:8080/"
    },
    "id": "yTX4RLaejXgT",
    "outputId": "1861ce71-4225-4e7c-b82d-8b53a152a742"
   },
   "outputs": [
    {
     "name": "stdout",
     "output_type": "stream",
     "text": [
      "+-----------+-------------+----------+-----------+\n",
      "|is_canceled|rawPrediction|prediction|probability|\n",
      "+-----------+-------------+----------+-----------+\n",
      "|          0|[44437.0,0.0]|       0.0|  [1.0,0.0]|\n",
      "|          0|[44437.0,0.0]|       0.0|  [1.0,0.0]|\n",
      "|          0|[44437.0,0.0]|       0.0|  [1.0,0.0]|\n",
      "|          0|[44437.0,0.0]|       0.0|  [1.0,0.0]|\n",
      "|          0|[44437.0,0.0]|       0.0|  [1.0,0.0]|\n",
      "|          0|[44437.0,0.0]|       0.0|  [1.0,0.0]|\n",
      "|          0|[44437.0,0.0]|       0.0|  [1.0,0.0]|\n",
      "|          0|[44437.0,0.0]|       0.0|  [1.0,0.0]|\n",
      "|          0|[44437.0,0.0]|       0.0|  [1.0,0.0]|\n",
      "|          0|[44437.0,0.0]|       0.0|  [1.0,0.0]|\n",
      "+-----------+-------------+----------+-----------+\n",
      "only showing top 10 rows\n",
      "\n"
     ]
    }
   ],
   "source": [
    "#Decision Tree\n",
    "from pyspark.ml.classification import DecisionTreeClassifier\n",
    "dt = DecisionTreeClassifier(featuresCol = 'scaledFeatures', labelCol = 'is_canceled', maxDepth = 3)\n",
    "dtModel = dt.fit(train_df)\n",
    "predictions = dtModel.transform(test_df)\n",
    "predictions.select('is_canceled', 'rawPrediction', 'prediction', 'probability').show(10)\n"
   ]
  },
  {
   "cell_type": "code",
   "execution_count": 32,
   "metadata": {
    "colab": {
     "base_uri": "https://localhost:8080/"
    },
    "id": "-Y6q8zyKm_y8",
    "outputId": "37e06bde-0076-4a08-a23f-145b08c0caa0"
   },
   "outputs": [
    {
     "name": "stdout",
     "output_type": "stream",
     "text": [
      "Test Area Under ROC 1.0\n"
     ]
    }
   ],
   "source": [
    "from pyspark.ml.evaluation import BinaryClassificationEvaluator\n",
    "evaluator = BinaryClassificationEvaluator()\n",
    "evaluator.setLabelCol(\"is_canceled\")\n",
    "evaluator.setRawPredictionCol(\"prediction\")\n",
    "print('Test Area Under ROC', evaluator.evaluate(predictions))"
   ]
  },
  {
   "cell_type": "code",
   "execution_count": 33,
   "metadata": {
    "colab": {
     "base_uri": "https://localhost:8080/"
    },
    "id": "jGXXuNXrimPW",
    "outputId": "ca59b690-7f18-40e2-c8e2-d8e53ced1701",
    "scrolled": true
   },
   "outputs": [
    {
     "name": "stdout",
     "output_type": "stream",
     "text": [
      "+-----------+-------------+----------+-----------+\n",
      "|is_canceled|rawPrediction|prediction|probability|\n",
      "+-----------+-------------+----------+-----------+\n",
      "|          0|[44437.0,0.0]|       0.0|  [1.0,0.0]|\n",
      "|          0|[44437.0,0.0]|       0.0|  [1.0,0.0]|\n",
      "|          0|[44437.0,0.0]|       0.0|  [1.0,0.0]|\n",
      "|          0|[44437.0,0.0]|       0.0|  [1.0,0.0]|\n",
      "|          0|[44437.0,0.0]|       0.0|  [1.0,0.0]|\n",
      "|          0|[44437.0,0.0]|       0.0|  [1.0,0.0]|\n",
      "|          0|[44437.0,0.0]|       0.0|  [1.0,0.0]|\n",
      "|          0|[44437.0,0.0]|       0.0|  [1.0,0.0]|\n",
      "|          0|[44437.0,0.0]|       0.0|  [1.0,0.0]|\n",
      "|          0|[44437.0,0.0]|       0.0|  [1.0,0.0]|\n",
      "+-----------+-------------+----------+-----------+\n",
      "only showing top 10 rows\n",
      "\n"
     ]
    }
   ],
   "source": [
    "#Random Forrest\n",
    "from pyspark.ml.classification import RandomForestClassifier\n",
    "rf = RandomForestClassifier(featuresCol = 'scaledFeatures', labelCol = 'is_canceled')\n",
    "rfModel = rf.fit(train_df)\n",
    "predictions = dtModel.transform(test_df)\n",
    "predictions.select('is_canceled', 'rawPrediction', 'prediction', 'probability').show(10)"
   ]
  },
  {
   "cell_type": "code",
   "execution_count": 34,
   "metadata": {
    "colab": {
     "base_uri": "https://localhost:8080/"
    },
    "id": "G0MqN8TDimSv",
    "outputId": "43faafd0-8051-4f4c-a7fe-102eb89b0f73"
   },
   "outputs": [
    {
     "name": "stdout",
     "output_type": "stream",
     "text": [
      "Test Area Under ROC 1.0\n"
     ]
    }
   ],
   "source": [
    "from pyspark.ml.evaluation import BinaryClassificationEvaluator\n",
    "evaluator = BinaryClassificationEvaluator()\n",
    "evaluator.setLabelCol(\"is_canceled\")\n",
    "evaluator.setRawPredictionCol(\"prediction\")\n",
    "print('Test Area Under ROC', evaluator.evaluate(predictions))"
   ]
  },
  {
   "cell_type": "code",
   "execution_count": 35,
   "metadata": {
    "colab": {
     "base_uri": "https://localhost:8080/"
    },
    "id": "yqhAPbnxjXpT",
    "outputId": "09a9fa82-73e0-4336-9ef4-78f793c0cbbb",
    "scrolled": true
   },
   "outputs": [
    {
     "name": "stdout",
     "output_type": "stream",
     "text": [
      "+-----------+--------------------+----------+--------------------+\n",
      "|is_canceled|       rawPrediction|prediction|         probability|\n",
      "+-----------+--------------------+----------+--------------------+\n",
      "|          0|[1.32590267922034...|       0.0|[0.93412217565278...|\n",
      "|          0|[1.32590267922034...|       0.0|[0.93412217565278...|\n",
      "|          0|[1.32590267922034...|       0.0|[0.93412217565278...|\n",
      "|          0|[1.32590267922034...|       0.0|[0.93412217565278...|\n",
      "|          0|[1.32590267922034...|       0.0|[0.93412217565278...|\n",
      "|          0|[1.32590267922034...|       0.0|[0.93412217565278...|\n",
      "|          0|[1.32590267922034...|       0.0|[0.93412217565278...|\n",
      "|          0|[1.32590267922034...|       0.0|[0.93412217565278...|\n",
      "|          0|[1.32590267922034...|       0.0|[0.93412217565278...|\n",
      "|          0|[1.32590267922034...|       0.0|[0.93412217565278...|\n",
      "+-----------+--------------------+----------+--------------------+\n",
      "only showing top 10 rows\n",
      "\n"
     ]
    }
   ],
   "source": [
    "#Gradient Boosting\n",
    "from pyspark.ml.classification import GBTClassifier\n",
    "gbt = GBTClassifier(featuresCol = 'scaledFeatures', labelCol = 'is_canceled', maxIter=10)\n",
    "gbtModel = gbt.fit(train_df)\n",
    "predictions = gbtModel.transform(test_df)\n",
    "predictions.select('is_canceled', 'rawPrediction', 'prediction', 'probability').show(10)"
   ]
  },
  {
   "cell_type": "code",
   "execution_count": 36,
   "metadata": {
    "colab": {
     "base_uri": "https://localhost:8080/"
    },
    "id": "SPgfL0ZAiC4h",
    "outputId": "1297beb4-1aef-4931-a503-67b63e3b6abc"
   },
   "outputs": [
    {
     "name": "stdout",
     "output_type": "stream",
     "text": [
      "Test Area Under ROC 1.0\n"
     ]
    }
   ],
   "source": [
    "from pyspark.ml.evaluation import BinaryClassificationEvaluator\n",
    "evaluator = BinaryClassificationEvaluator()\n",
    "evaluator.setLabelCol(\"is_canceled\")\n",
    "evaluator.setRawPredictionCol(\"prediction\")\n",
    "print('Test Area Under ROC', evaluator.evaluate(predictions))"
   ]
  },
  {
   "cell_type": "code",
   "execution_count": null,
   "metadata": {
    "id": "YEGj5H2AlNVK"
   },
   "outputs": [],
   "source": []
  }
 ],
 "metadata": {
  "colab": {
   "provenance": []
  },
  "kernelspec": {
   "display_name": "Python 3",
   "language": "python",
   "name": "python3"
  },
  "language_info": {
   "codemirror_mode": {
    "name": "ipython",
    "version": 3
   },
   "file_extension": ".py",
   "mimetype": "text/x-python",
   "name": "python",
   "nbconvert_exporter": "python",
   "pygments_lexer": "ipython3",
   "version": "3.8.8"
  }
 },
 "nbformat": 4,
 "nbformat_minor": 1
}
