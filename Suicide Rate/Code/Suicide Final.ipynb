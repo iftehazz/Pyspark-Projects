{
 "cells": [
  {
   "cell_type": "code",
   "execution_count": 1,
   "metadata": {
    "id": "eF-Ci8JU0Sos"
   },
   "outputs": [],
   "source": [
    "from pyspark.sql.functions import isnull,sum"
   ]
  },
  {
   "cell_type": "code",
   "execution_count": 2,
   "metadata": {
    "id": "Lhxh_B1S0S9s"
   },
   "outputs": [],
   "source": [
    "# Importing pyspark and starting session to use sprak functionality \n",
    "import pyspark \n",
    "from pyspark.sql import SparkSession\n",
    "from pyspark.sql.functions import col,when,isnan,count\n",
    "from pyspark.sql.types import IntegerType, StructType,StructField, FloatType , DoubleType\n",
    "from pyspark.ml.feature import StringIndexer, OneHotEncoder, VectorAssembler,StandardScaler\n",
    "from pyspark.ml.stat import Correlation\n",
    "from pyspark.sql.functions import regexp_replace\n",
    "from pyspark.ml.regression import LinearRegression \n",
    "spark = SparkSession.builder.appName(\"suicide\").getOrCreate()\n"
   ]
  },
  {
   "cell_type": "code",
   "execution_count": 3,
   "metadata": {
    "colab": {
     "base_uri": "https://localhost:8080/"
    },
    "id": "LQ-r9Se20S_k",
    "outputId": "28a9ad65-a712-4816-f545-13bef2bb9be7"
   },
   "outputs": [
    {
     "name": "stdout",
     "output_type": "stream",
     "text": [
      "+-------+----+------+-----------+-----------+----------+-----------------+------------+------------+------------------+------------------+---------------+\n",
      "|country|year|   sex|        age|suicides_no|population|suicides/100k pop|country-year|HDI for year| gdp_for_year ($) |gdp_per_capita ($)|     generation|\n",
      "+-------+----+------+-----------+-----------+----------+-----------------+------------+------------+------------------+------------------+---------------+\n",
      "|Albania|1987|  male|15-24 years|         21|    312900|             6.71| Albania1987|        null|     2,156,624,900|               796|   Generation X|\n",
      "|Albania|1987|  male|35-54 years|         16|    308000|             5.19| Albania1987|        null|     2,156,624,900|               796|         Silent|\n",
      "|Albania|1987|female|15-24 years|         14|    289700|             4.83| Albania1987|        null|     2,156,624,900|               796|   Generation X|\n",
      "|Albania|1987|  male|  75+ years|          1|     21800|             4.59| Albania1987|        null|     2,156,624,900|               796|G.I. Generation|\n",
      "|Albania|1987|  male|25-34 years|          9|    274300|             3.28| Albania1987|        null|     2,156,624,900|               796|        Boomers|\n",
      "+-------+----+------+-----------+-----------+----------+-----------------+------------+------------+------------------+------------------+---------------+\n",
      "only showing top 5 rows\n",
      "\n"
     ]
    }
   ],
   "source": [
    "# reading csv file\n",
    "dataset = spark.read.csv('suicide.csv',inferSchema=True,header=True) # infer schema automatocally guess column datatypes\n",
    "dataset.show(5)"
   ]
  },
  {
   "cell_type": "code",
   "execution_count": 4,
   "metadata": {
    "colab": {
     "base_uri": "https://localhost:8080/"
    },
    "id": "caFbneqf0TBf",
    "outputId": "904ca64d-590c-4503-ab70-ef2332d7e4c8"
   },
   "outputs": [
    {
     "name": "stdout",
     "output_type": "stream",
     "text": [
      "root\n",
      " |-- country: string (nullable = true)\n",
      " |-- year: integer (nullable = true)\n",
      " |-- sex: string (nullable = true)\n",
      " |-- age: string (nullable = true)\n",
      " |-- suicides_no: integer (nullable = true)\n",
      " |-- population: integer (nullable = true)\n",
      " |-- suicides/100k pop: double (nullable = true)\n",
      " |-- country-year: string (nullable = true)\n",
      " |-- HDI for year: double (nullable = true)\n",
      " |--  gdp_for_year ($) : string (nullable = true)\n",
      " |-- gdp_per_capita ($): integer (nullable = true)\n",
      " |-- generation: string (nullable = true)\n",
      "\n"
     ]
    }
   ],
   "source": [
    "dataset.printSchema()"
   ]
  },
  {
   "cell_type": "code",
   "execution_count": 5,
   "metadata": {
    "colab": {
     "base_uri": "https://localhost:8080/"
    },
    "id": "vQ7OeMR50YyS",
    "outputId": "8c93874b-a76a-4df2-bd3e-06e1ccff5213"
   },
   "outputs": [
    {
     "data": {
      "text/plain": [
       "27820"
      ]
     },
     "execution_count": 5,
     "metadata": {},
     "output_type": "execute_result"
    }
   ],
   "source": [
    "dataset.count()"
   ]
  },
  {
   "cell_type": "code",
   "execution_count": 6,
   "metadata": {
    "colab": {
     "base_uri": "https://localhost:8080/"
    },
    "id": "KMaLZNzD0Y0C",
    "outputId": "f0a306c5-592e-42d9-a5e2-316946e2c2ee"
   },
   "outputs": [
    {
     "name": "stdout",
     "output_type": "stream",
     "text": [
      "+-------+----+---+---+-----------+----------+-----------------+------------+------------+------------------+------------------+----------+\n",
      "|country|year|sex|age|suicides_no|population|suicides/100k pop|country-year|HDI for year| gdp_for_year ($) |gdp_per_capita ($)|generation|\n",
      "+-------+----+---+---+-----------+----------+-----------------+------------+------------+------------------+------------------+----------+\n",
      "|      0|   0|  0|  0|          0|         0|                0|           0|       19456|                 0|                 0|         0|\n",
      "+-------+----+---+---+-----------+----------+-----------------+------------+------------+------------------+------------------+----------+\n",
      "\n"
     ]
    }
   ],
   "source": [
    "null_count = dataset.select([sum(isnull(c).cast(\"int\")).alias(c) for c in dataset.columns])\n",
    "\n",
    "# print the count of null values in each column\n",
    "null_count.show()"
   ]
  },
  {
   "cell_type": "code",
   "execution_count": 7,
   "metadata": {
    "colab": {
     "base_uri": "https://localhost:8080/"
    },
    "id": "oIcOePE205Li",
    "outputId": "1263a8a3-7652-4cf5-cfd7-6826c0e68d9d"
   },
   "outputs": [
    {
     "name": "stdout",
     "output_type": "stream",
     "text": [
      "+------+-----------+-----------+----------+-----------------+------------+------------------+------------------+---------------+\n",
      "|   sex|        age|suicides_no|population|suicides/100k pop|country-year| gdp_for_year ($) |gdp_per_capita ($)|     generation|\n",
      "+------+-----------+-----------+----------+-----------------+------------+------------------+------------------+---------------+\n",
      "|  male|15-24 years|         21|    312900|             6.71| Albania1987|     2,156,624,900|               796|   Generation X|\n",
      "|  male|35-54 years|         16|    308000|             5.19| Albania1987|     2,156,624,900|               796|         Silent|\n",
      "|female|15-24 years|         14|    289700|             4.83| Albania1987|     2,156,624,900|               796|   Generation X|\n",
      "|  male|  75+ years|          1|     21800|             4.59| Albania1987|     2,156,624,900|               796|G.I. Generation|\n",
      "|  male|25-34 years|          9|    274300|             3.28| Albania1987|     2,156,624,900|               796|        Boomers|\n",
      "|female|  75+ years|          1|     35600|             2.81| Albania1987|     2,156,624,900|               796|G.I. Generation|\n",
      "|female|35-54 years|          6|    278800|             2.15| Albania1987|     2,156,624,900|               796|         Silent|\n",
      "|female|25-34 years|          4|    257200|             1.56| Albania1987|     2,156,624,900|               796|        Boomers|\n",
      "|  male|55-74 years|          1|    137500|             0.73| Albania1987|     2,156,624,900|               796|G.I. Generation|\n",
      "|female| 5-14 years|          0|    311000|              0.0| Albania1987|     2,156,624,900|               796|   Generation X|\n",
      "|female|55-74 years|          0|    144600|              0.0| Albania1987|     2,156,624,900|               796|G.I. Generation|\n",
      "|  male| 5-14 years|          0|    338200|              0.0| Albania1987|     2,156,624,900|               796|   Generation X|\n",
      "|female|  75+ years|          2|     36400|             5.49| Albania1988|     2,126,000,000|               769|G.I. Generation|\n",
      "|  male|15-24 years|         17|    319200|             5.33| Albania1988|     2,126,000,000|               769|   Generation X|\n",
      "|  male|  75+ years|          1|     22300|             4.48| Albania1988|     2,126,000,000|               769|G.I. Generation|\n",
      "|  male|35-54 years|         14|    314100|             4.46| Albania1988|     2,126,000,000|               769|         Silent|\n",
      "|  male|55-74 years|          4|    140200|             2.85| Albania1988|     2,126,000,000|               769|G.I. Generation|\n",
      "|female|15-24 years|          8|    295600|             2.71| Albania1988|     2,126,000,000|               769|   Generation X|\n",
      "|female|55-74 years|          3|    147500|             2.03| Albania1988|     2,126,000,000|               769|G.I. Generation|\n",
      "|female|25-34 years|          5|    262400|             1.91| Albania1988|     2,126,000,000|               769|        Boomers|\n",
      "+------+-----------+-----------+----------+-----------------+------------+------------------+------------------+---------------+\n",
      "only showing top 20 rows\n",
      "\n"
     ]
    }
   ],
   "source": [
    "df = dataset.drop(\"HDI for year\", \"country\",\"year\")\n",
    "df.show()"
   ]
  },
  {
   "cell_type": "code",
   "execution_count": 8,
   "metadata": {
    "colab": {
     "base_uri": "https://localhost:8080/"
    },
    "id": "P0q2_2ye05Nc",
    "outputId": "7d787ee9-7775-4f47-caee-7e837f51230f"
   },
   "outputs": [
    {
     "name": "stdout",
     "output_type": "stream",
     "text": [
      "+------+-----------+-----------+----------+--------------------+------------+------------------+-------------+---------------+\n",
      "|   sex|        age|suicides_no|population|suicides_per_100kpop|country-year| gdp_for_year ($) |gdp_percapita|     generation|\n",
      "+------+-----------+-----------+----------+--------------------+------------+------------------+-------------+---------------+\n",
      "|  male|15-24 years|         21|    312900|                6.71| Albania1987|     2,156,624,900|          796|   Generation X|\n",
      "|  male|35-54 years|         16|    308000|                5.19| Albania1987|     2,156,624,900|          796|         Silent|\n",
      "|female|15-24 years|         14|    289700|                4.83| Albania1987|     2,156,624,900|          796|   Generation X|\n",
      "|  male|  75+ years|          1|     21800|                4.59| Albania1987|     2,156,624,900|          796|G.I. Generation|\n",
      "|  male|25-34 years|          9|    274300|                3.28| Albania1987|     2,156,624,900|          796|        Boomers|\n",
      "+------+-----------+-----------+----------+--------------------+------------+------------------+-------------+---------------+\n",
      "only showing top 5 rows\n",
      "\n"
     ]
    }
   ],
   "source": [
    "df = df.withColumnRenamed(\"suicides/100k pop\", \"suicides_per_100kpop\").withColumnRenamed(\"gdp_for_year ($)\", \"gdp_year\").withColumnRenamed(\"gdp_per_capita ($)\", \"gdp_percapita\")\n",
    "df.show(5)"
   ]
  },
  {
   "cell_type": "code",
   "execution_count": 9,
   "metadata": {
    "colab": {
     "base_uri": "https://localhost:8080/"
    },
    "id": "WDwm8U_005PR",
    "outputId": "6e016e5b-3759-4531-b921-ad48e804fdb0"
   },
   "outputs": [
    {
     "name": "stdout",
     "output_type": "stream",
     "text": [
      "root\n",
      " |-- sex: string (nullable = true)\n",
      " |-- age: string (nullable = true)\n",
      " |-- suicides_no: integer (nullable = true)\n",
      " |-- population: integer (nullable = true)\n",
      " |-- suicides_per_100kpop: double (nullable = true)\n",
      " |-- country-year: string (nullable = true)\n",
      " |--  gdp_for_year ($) : string (nullable = true)\n",
      " |-- gdp_percapita: integer (nullable = true)\n",
      " |-- generation: string (nullable = true)\n",
      "\n"
     ]
    }
   ],
   "source": [
    "df.printSchema()"
   ]
  },
  {
   "cell_type": "code",
   "execution_count": 10,
   "metadata": {
    "colab": {
     "base_uri": "https://localhost:8080/"
    },
    "id": "yAS11Zsk05Sz",
    "outputId": "b7dd2998-327f-4dff-f8bf-14943562a1cb"
   },
   "outputs": [
    {
     "name": "stdout",
     "output_type": "stream",
     "text": [
      "['sex', 'age', 'suicides_no', 'population', 'suicides_per_100kpop', 'country-year', ' gdp_for_year ($) ', 'gdp_percapita', 'generation']\n"
     ]
    }
   ],
   "source": [
    "column_names = df.columns\n",
    "\n",
    "# print the column names\n",
    "print(column_names)"
   ]
  },
  {
   "cell_type": "code",
   "execution_count": 11,
   "metadata": {
    "id": "Sxkh-ewd0Y32"
   },
   "outputs": [],
   "source": [
    "df.toPandas().to_excel('final.xlsx', sheet_name = 'Sheet1', index = False)"
   ]
  },
  {
   "cell_type": "code",
   "execution_count": 12,
   "metadata": {
    "colab": {
     "base_uri": "https://localhost:8080/"
    },
    "id": "DawNjeYf5Uae",
    "outputId": "140b78d4-4da5-47aa-8695-910ac2f9e653"
   },
   "outputs": [
    {
     "name": "stdout",
     "output_type": "stream",
     "text": [
      "root\n",
      " |-- sex: string (nullable = true)\n",
      " |-- age: string (nullable = true)\n",
      " |-- suicides_no: integer (nullable = true)\n",
      " |-- population: integer (nullable = true)\n",
      " |-- suicides_per_100kpop: double (nullable = true)\n",
      " |-- country-year: string (nullable = true)\n",
      " |--  gdp_for_year ($) : string (nullable = true)\n",
      " |-- gdp_percapita: integer (nullable = true)\n",
      " |-- generation: string (nullable = true)\n",
      "\n"
     ]
    }
   ],
   "source": [
    "df.printSchema()"
   ]
  },
  {
   "cell_type": "code",
   "execution_count": 13,
   "metadata": {
    "id": "YTYLHDLS0Y7Y"
   },
   "outputs": [],
   "source": [
    "strinx = StringIndexer(inputCols = [\"sex\", \"age\", \"country-year\", \"generation\",\" gdp_for_year ($) \"],outputCols =[\"sex_Trans\", \"age_Trans\", \"country-year_Trans\", \"generation_Trans\",\"gdp_for_year_Trans\"] )"
   ]
  },
  {
   "cell_type": "code",
   "execution_count": 14,
   "metadata": {
    "id": "Pcy7qHdM0TFC"
   },
   "outputs": [],
   "source": [
    "df = strinx.fit(df).transform(df)"
   ]
  },
  {
   "cell_type": "code",
   "execution_count": 15,
   "metadata": {
    "colab": {
     "base_uri": "https://localhost:8080/"
    },
    "id": "eZXGHutt3vUC",
    "outputId": "95ffc1c3-40ef-4609-fab6-4a23154002a0"
   },
   "outputs": [
    {
     "name": "stdout",
     "output_type": "stream",
     "text": [
      "+------+-----------+-----------+----------+--------------------+------------+------------------+-------------+---------------+---------+---------+------------------+----------------+------------------+\n",
      "|   sex|        age|suicides_no|population|suicides_per_100kpop|country-year| gdp_for_year ($) |gdp_percapita|     generation|sex_Trans|age_Trans|country-year_Trans|generation_Trans|gdp_for_year_Trans|\n",
      "+------+-----------+-----------+----------+--------------------+------------+------------------+-------------+---------------+---------+---------+------------------+----------------+------------------+\n",
      "|  male|15-24 years|         21|    312900|                6.71| Albania1987|     2,156,624,900|          796|   Generation X|      1.0|      0.0|               0.0|             0.0|             718.0|\n",
      "|  male|35-54 years|         16|    308000|                5.19| Albania1987|     2,156,624,900|          796|         Silent|      1.0|      2.0|               0.0|             1.0|             718.0|\n",
      "|female|15-24 years|         14|    289700|                4.83| Albania1987|     2,156,624,900|          796|   Generation X|      0.0|      0.0|               0.0|             0.0|             718.0|\n",
      "|  male|  75+ years|          1|     21800|                4.59| Albania1987|     2,156,624,900|          796|G.I. Generation|      1.0|      4.0|               0.0|             4.0|             718.0|\n",
      "|  male|25-34 years|          9|    274300|                3.28| Albania1987|     2,156,624,900|          796|        Boomers|      1.0|      1.0|               0.0|             3.0|             718.0|\n",
      "|female|  75+ years|          1|     35600|                2.81| Albania1987|     2,156,624,900|          796|G.I. Generation|      0.0|      4.0|               0.0|             4.0|             718.0|\n",
      "|female|35-54 years|          6|    278800|                2.15| Albania1987|     2,156,624,900|          796|         Silent|      0.0|      2.0|               0.0|             1.0|             718.0|\n",
      "|female|25-34 years|          4|    257200|                1.56| Albania1987|     2,156,624,900|          796|        Boomers|      0.0|      1.0|               0.0|             3.0|             718.0|\n",
      "|  male|55-74 years|          1|    137500|                0.73| Albania1987|     2,156,624,900|          796|G.I. Generation|      1.0|      3.0|               0.0|             4.0|             718.0|\n",
      "|female| 5-14 years|          0|    311000|                 0.0| Albania1987|     2,156,624,900|          796|   Generation X|      0.0|      5.0|               0.0|             0.0|             718.0|\n",
      "|female|55-74 years|          0|    144600|                 0.0| Albania1987|     2,156,624,900|          796|G.I. Generation|      0.0|      3.0|               0.0|             4.0|             718.0|\n",
      "|  male| 5-14 years|          0|    338200|                 0.0| Albania1987|     2,156,624,900|          796|   Generation X|      1.0|      5.0|               0.0|             0.0|             718.0|\n",
      "|female|  75+ years|          2|     36400|                5.49| Albania1988|     2,126,000,000|          769|G.I. Generation|      0.0|      4.0|               1.0|             4.0|             713.0|\n",
      "|  male|15-24 years|         17|    319200|                5.33| Albania1988|     2,126,000,000|          769|   Generation X|      1.0|      0.0|               1.0|             0.0|             713.0|\n",
      "|  male|  75+ years|          1|     22300|                4.48| Albania1988|     2,126,000,000|          769|G.I. Generation|      1.0|      4.0|               1.0|             4.0|             713.0|\n",
      "|  male|35-54 years|         14|    314100|                4.46| Albania1988|     2,126,000,000|          769|         Silent|      1.0|      2.0|               1.0|             1.0|             713.0|\n",
      "|  male|55-74 years|          4|    140200|                2.85| Albania1988|     2,126,000,000|          769|G.I. Generation|      1.0|      3.0|               1.0|             4.0|             713.0|\n",
      "|female|15-24 years|          8|    295600|                2.71| Albania1988|     2,126,000,000|          769|   Generation X|      0.0|      0.0|               1.0|             0.0|             713.0|\n",
      "|female|55-74 years|          3|    147500|                2.03| Albania1988|     2,126,000,000|          769|G.I. Generation|      0.0|      3.0|               1.0|             4.0|             713.0|\n",
      "|female|25-34 years|          5|    262400|                1.91| Albania1988|     2,126,000,000|          769|        Boomers|      0.0|      1.0|               1.0|             3.0|             713.0|\n",
      "+------+-----------+-----------+----------+--------------------+------------+------------------+-------------+---------------+---------+---------+------------------+----------------+------------------+\n",
      "only showing top 20 rows\n",
      "\n"
     ]
    }
   ],
   "source": [
    "df.show()"
   ]
  },
  {
   "cell_type": "code",
   "execution_count": 16,
   "metadata": {
    "id": "O5zEgPhE3vrM"
   },
   "outputs": [],
   "source": [
    "onenc = OneHotEncoder(inputCols = [\"sex_Trans\", \"age_Trans\", \"country-year_Trans\", \"generation_Trans\",\"gdp_for_year_Trans\"],\n",
    "                      outputCols =[\"sex_VEC\", \"age_VEC\", \"country-year_VEC\", \"generation_VEC\",\"gdp_for_year_VEC\"] )\n",
    "df = onenc.fit(df).transform(df)"
   ]
  },
  {
   "cell_type": "code",
   "execution_count": 17,
   "metadata": {
    "id": "Haqu2sus3xq_"
   },
   "outputs": [
    {
     "name": "stdout",
     "output_type": "stream",
     "text": [
      "-RECORD 0----------------------------------\n",
      " sex                  | male               \n",
      " age                  | 15-24 years        \n",
      " suicides_no          | 21                 \n",
      " population           | 312900             \n",
      " suicides_per_100kpop | 6.71               \n",
      " country-year         | Albania1987        \n",
      "  gdp_for_year ($)    | 2,156,624,900      \n",
      " gdp_percapita        | 796                \n",
      " generation           | Generation X       \n",
      " sex_Trans            | 1.0                \n",
      " age_Trans            | 0.0                \n",
      " country-year_Trans   | 0.0                \n",
      " generation_Trans     | 0.0                \n",
      " gdp_for_year_Trans   | 718.0              \n",
      " sex_VEC              | (1,[],[])          \n",
      " age_VEC              | (5,[0],[1.0])      \n",
      " country-year_VEC     | (2320,[0],[1.0])   \n",
      " generation_VEC       | (5,[0],[1.0])      \n",
      " gdp_for_year_VEC     | (2320,[718],[1.0]) \n",
      "-RECORD 1----------------------------------\n",
      " sex                  | male               \n",
      " age                  | 35-54 years        \n",
      " suicides_no          | 16                 \n",
      " population           | 308000             \n",
      " suicides_per_100kpop | 5.19               \n",
      " country-year         | Albania1987        \n",
      "  gdp_for_year ($)    | 2,156,624,900      \n",
      " gdp_percapita        | 796                \n",
      " generation           | Silent             \n",
      " sex_Trans            | 1.0                \n",
      " age_Trans            | 2.0                \n",
      " country-year_Trans   | 0.0                \n",
      " generation_Trans     | 1.0                \n",
      " gdp_for_year_Trans   | 718.0              \n",
      " sex_VEC              | (1,[],[])          \n",
      " age_VEC              | (5,[2],[1.0])      \n",
      " country-year_VEC     | (2320,[0],[1.0])   \n",
      " generation_VEC       | (5,[1],[1.0])      \n",
      " gdp_for_year_VEC     | (2320,[718],[1.0]) \n",
      "-RECORD 2----------------------------------\n",
      " sex                  | female             \n",
      " age                  | 15-24 years        \n",
      " suicides_no          | 14                 \n",
      " population           | 289700             \n",
      " suicides_per_100kpop | 4.83               \n",
      " country-year         | Albania1987        \n",
      "  gdp_for_year ($)    | 2,156,624,900      \n",
      " gdp_percapita        | 796                \n",
      " generation           | Generation X       \n",
      " sex_Trans            | 0.0                \n",
      " age_Trans            | 0.0                \n",
      " country-year_Trans   | 0.0                \n",
      " generation_Trans     | 0.0                \n",
      " gdp_for_year_Trans   | 718.0              \n",
      " sex_VEC              | (1,[0],[1.0])      \n",
      " age_VEC              | (5,[0],[1.0])      \n",
      " country-year_VEC     | (2320,[0],[1.0])   \n",
      " generation_VEC       | (5,[0],[1.0])      \n",
      " gdp_for_year_VEC     | (2320,[718],[1.0]) \n",
      "-RECORD 3----------------------------------\n",
      " sex                  | male               \n",
      " age                  | 75+ years          \n",
      " suicides_no          | 1                  \n",
      " population           | 21800              \n",
      " suicides_per_100kpop | 4.59               \n",
      " country-year         | Albania1987        \n",
      "  gdp_for_year ($)    | 2,156,624,900      \n",
      " gdp_percapita        | 796                \n",
      " generation           | G.I. Generation    \n",
      " sex_Trans            | 1.0                \n",
      " age_Trans            | 4.0                \n",
      " country-year_Trans   | 0.0                \n",
      " generation_Trans     | 4.0                \n",
      " gdp_for_year_Trans   | 718.0              \n",
      " sex_VEC              | (1,[],[])          \n",
      " age_VEC              | (5,[4],[1.0])      \n",
      " country-year_VEC     | (2320,[0],[1.0])   \n",
      " generation_VEC       | (5,[4],[1.0])      \n",
      " gdp_for_year_VEC     | (2320,[718],[1.0]) \n",
      "-RECORD 4----------------------------------\n",
      " sex                  | male               \n",
      " age                  | 25-34 years        \n",
      " suicides_no          | 9                  \n",
      " population           | 274300             \n",
      " suicides_per_100kpop | 3.28               \n",
      " country-year         | Albania1987        \n",
      "  gdp_for_year ($)    | 2,156,624,900      \n",
      " gdp_percapita        | 796                \n",
      " generation           | Boomers            \n",
      " sex_Trans            | 1.0                \n",
      " age_Trans            | 1.0                \n",
      " country-year_Trans   | 0.0                \n",
      " generation_Trans     | 3.0                \n",
      " gdp_for_year_Trans   | 718.0              \n",
      " sex_VEC              | (1,[],[])          \n",
      " age_VEC              | (5,[1],[1.0])      \n",
      " country-year_VEC     | (2320,[0],[1.0])   \n",
      " generation_VEC       | (5,[3],[1.0])      \n",
      " gdp_for_year_VEC     | (2320,[718],[1.0]) \n",
      "only showing top 5 rows\n",
      "\n"
     ]
    }
   ],
   "source": [
    "df.show(5,vertical=True)"
   ]
  },
  {
   "cell_type": "code",
   "execution_count": 18,
   "metadata": {
    "colab": {
     "base_uri": "https://localhost:8080/"
    },
    "id": "hIt8pYTQ3xuW",
    "outputId": "f28a2aad-875a-40cc-85ec-1b292c6da56e"
   },
   "outputs": [
    {
     "name": "stdout",
     "output_type": "stream",
     "text": [
      "['sex', 'age', 'suicides_no', 'population', 'suicides_per_100kpop', 'country-year', ' gdp_for_year ($) ', 'gdp_percapita', 'generation', 'sex_Trans', 'age_Trans', 'country-year_Trans', 'generation_Trans', 'gdp_for_year_Trans', 'sex_VEC', 'age_VEC', 'country-year_VEC', 'generation_VEC', 'gdp_for_year_VEC']\n"
     ]
    }
   ],
   "source": [
    "column_names = df.columns\n",
    "\n",
    "# print the column names\n",
    "print(column_names)"
   ]
  },
  {
   "cell_type": "code",
   "execution_count": 19,
   "metadata": {
    "colab": {
     "base_uri": "https://localhost:8080/"
    },
    "id": "r9oo75B63vug",
    "outputId": "6249af5c-d25c-4a29-87a6-105a023b7973"
   },
   "outputs": [
    {
     "name": "stdout",
     "output_type": "stream",
     "text": [
      "+-----------+----------+--------------------+-------------+---------+---------+------------------+----------------+------------------+-------------+-------------+----------------+--------------+------------------+\n",
      "|suicides_no|population|suicides_per_100kpop|gdp_percapita|sex_Trans|age_Trans|country-year_Trans|generation_Trans|gdp_for_year_Trans|      sex_VEC|      age_VEC|country-year_VEC|generation_VEC|  gdp_for_year_VEC|\n",
      "+-----------+----------+--------------------+-------------+---------+---------+------------------+----------------+------------------+-------------+-------------+----------------+--------------+------------------+\n",
      "|         21|    312900|                6.71|          796|      1.0|      0.0|               0.0|             0.0|             718.0|    (1,[],[])|(5,[0],[1.0])|(2320,[0],[1.0])| (5,[0],[1.0])|(2320,[718],[1.0])|\n",
      "|         16|    308000|                5.19|          796|      1.0|      2.0|               0.0|             1.0|             718.0|    (1,[],[])|(5,[2],[1.0])|(2320,[0],[1.0])| (5,[1],[1.0])|(2320,[718],[1.0])|\n",
      "|         14|    289700|                4.83|          796|      0.0|      0.0|               0.0|             0.0|             718.0|(1,[0],[1.0])|(5,[0],[1.0])|(2320,[0],[1.0])| (5,[0],[1.0])|(2320,[718],[1.0])|\n",
      "|          1|     21800|                4.59|          796|      1.0|      4.0|               0.0|             4.0|             718.0|    (1,[],[])|(5,[4],[1.0])|(2320,[0],[1.0])| (5,[4],[1.0])|(2320,[718],[1.0])|\n",
      "|          9|    274300|                3.28|          796|      1.0|      1.0|               0.0|             3.0|             718.0|    (1,[],[])|(5,[1],[1.0])|(2320,[0],[1.0])| (5,[3],[1.0])|(2320,[718],[1.0])|\n",
      "|          1|     35600|                2.81|          796|      0.0|      4.0|               0.0|             4.0|             718.0|(1,[0],[1.0])|(5,[4],[1.0])|(2320,[0],[1.0])| (5,[4],[1.0])|(2320,[718],[1.0])|\n",
      "|          6|    278800|                2.15|          796|      0.0|      2.0|               0.0|             1.0|             718.0|(1,[0],[1.0])|(5,[2],[1.0])|(2320,[0],[1.0])| (5,[1],[1.0])|(2320,[718],[1.0])|\n",
      "|          4|    257200|                1.56|          796|      0.0|      1.0|               0.0|             3.0|             718.0|(1,[0],[1.0])|(5,[1],[1.0])|(2320,[0],[1.0])| (5,[3],[1.0])|(2320,[718],[1.0])|\n",
      "|          1|    137500|                0.73|          796|      1.0|      3.0|               0.0|             4.0|             718.0|    (1,[],[])|(5,[3],[1.0])|(2320,[0],[1.0])| (5,[4],[1.0])|(2320,[718],[1.0])|\n",
      "|          0|    311000|                 0.0|          796|      0.0|      5.0|               0.0|             0.0|             718.0|(1,[0],[1.0])|    (5,[],[])|(2320,[0],[1.0])| (5,[0],[1.0])|(2320,[718],[1.0])|\n",
      "|          0|    144600|                 0.0|          796|      0.0|      3.0|               0.0|             4.0|             718.0|(1,[0],[1.0])|(5,[3],[1.0])|(2320,[0],[1.0])| (5,[4],[1.0])|(2320,[718],[1.0])|\n",
      "|          0|    338200|                 0.0|          796|      1.0|      5.0|               0.0|             0.0|             718.0|    (1,[],[])|    (5,[],[])|(2320,[0],[1.0])| (5,[0],[1.0])|(2320,[718],[1.0])|\n",
      "|          2|     36400|                5.49|          769|      0.0|      4.0|               1.0|             4.0|             713.0|(1,[0],[1.0])|(5,[4],[1.0])|(2320,[1],[1.0])| (5,[4],[1.0])|(2320,[713],[1.0])|\n",
      "|         17|    319200|                5.33|          769|      1.0|      0.0|               1.0|             0.0|             713.0|    (1,[],[])|(5,[0],[1.0])|(2320,[1],[1.0])| (5,[0],[1.0])|(2320,[713],[1.0])|\n",
      "|          1|     22300|                4.48|          769|      1.0|      4.0|               1.0|             4.0|             713.0|    (1,[],[])|(5,[4],[1.0])|(2320,[1],[1.0])| (5,[4],[1.0])|(2320,[713],[1.0])|\n",
      "|         14|    314100|                4.46|          769|      1.0|      2.0|               1.0|             1.0|             713.0|    (1,[],[])|(5,[2],[1.0])|(2320,[1],[1.0])| (5,[1],[1.0])|(2320,[713],[1.0])|\n",
      "|          4|    140200|                2.85|          769|      1.0|      3.0|               1.0|             4.0|             713.0|    (1,[],[])|(5,[3],[1.0])|(2320,[1],[1.0])| (5,[4],[1.0])|(2320,[713],[1.0])|\n",
      "|          8|    295600|                2.71|          769|      0.0|      0.0|               1.0|             0.0|             713.0|(1,[0],[1.0])|(5,[0],[1.0])|(2320,[1],[1.0])| (5,[0],[1.0])|(2320,[713],[1.0])|\n",
      "|          3|    147500|                2.03|          769|      0.0|      3.0|               1.0|             4.0|             713.0|(1,[0],[1.0])|(5,[3],[1.0])|(2320,[1],[1.0])| (5,[4],[1.0])|(2320,[713],[1.0])|\n",
      "|          5|    262400|                1.91|          769|      0.0|      1.0|               1.0|             3.0|             713.0|(1,[0],[1.0])|(5,[1],[1.0])|(2320,[1],[1.0])| (5,[3],[1.0])|(2320,[713],[1.0])|\n",
      "+-----------+----------+--------------------+-------------+---------+---------+------------------+----------------+------------------+-------------+-------------+----------------+--------------+------------------+\n",
      "only showing top 20 rows\n",
      "\n"
     ]
    }
   ],
   "source": [
    "df_dropped = df.drop(\"sex\", \"age\", \"country-year\", \"generation\", \" gdp_for_year ($) \")\n",
    "df_dropped.show()"
   ]
  },
  {
   "cell_type": "code",
   "execution_count": 20,
   "metadata": {
    "id": "O-_c1goK4bzD"
   },
   "outputs": [],
   "source": [
    "new_column_names = df_dropped.columns\n"
   ]
  },
  {
   "cell_type": "code",
   "execution_count": 21,
   "metadata": {
    "colab": {
     "base_uri": "https://localhost:8080/"
    },
    "id": "b4UKtOss4b1H",
    "outputId": "df8f9a5c-1f1f-4b97-b07f-94f3a6402311"
   },
   "outputs": [
    {
     "name": "stdout",
     "output_type": "stream",
     "text": [
      "-RECORD 0----------------------------------\n",
      " sex                  | male               \n",
      " age                  | 15-24 years        \n",
      " suicides_no          | 21                 \n",
      " population           | 312900             \n",
      " suicides_per_100kpop | 6.71               \n",
      " country-year         | Albania1987        \n",
      "  gdp_for_year ($)    | 2,156,624,900      \n",
      " gdp_percapita        | 796                \n",
      " generation           | Generation X       \n",
      " sex_Trans            | 1.0                \n",
      " age_Trans            | 0.0                \n",
      " country-year_Trans   | 0.0                \n",
      " generation_Trans     | 0.0                \n",
      " gdp_for_year_Trans   | 718.0              \n",
      " sex_VEC              | (1,[],[])          \n",
      " age_VEC              | (5,[0],[1.0])      \n",
      " country-year_VEC     | (2320,[0],[1.0])   \n",
      " generation_VEC       | (5,[0],[1.0])      \n",
      " gdp_for_year_VEC     | (2320,[718],[1.0]) \n",
      "-RECORD 1----------------------------------\n",
      " sex                  | male               \n",
      " age                  | 35-54 years        \n",
      " suicides_no          | 16                 \n",
      " population           | 308000             \n",
      " suicides_per_100kpop | 5.19               \n",
      " country-year         | Albania1987        \n",
      "  gdp_for_year ($)    | 2,156,624,900      \n",
      " gdp_percapita        | 796                \n",
      " generation           | Silent             \n",
      " sex_Trans            | 1.0                \n",
      " age_Trans            | 2.0                \n",
      " country-year_Trans   | 0.0                \n",
      " generation_Trans     | 1.0                \n",
      " gdp_for_year_Trans   | 718.0              \n",
      " sex_VEC              | (1,[],[])          \n",
      " age_VEC              | (5,[2],[1.0])      \n",
      " country-year_VEC     | (2320,[0],[1.0])   \n",
      " generation_VEC       | (5,[1],[1.0])      \n",
      " gdp_for_year_VEC     | (2320,[718],[1.0]) \n",
      "-RECORD 2----------------------------------\n",
      " sex                  | female             \n",
      " age                  | 15-24 years        \n",
      " suicides_no          | 14                 \n",
      " population           | 289700             \n",
      " suicides_per_100kpop | 4.83               \n",
      " country-year         | Albania1987        \n",
      "  gdp_for_year ($)    | 2,156,624,900      \n",
      " gdp_percapita        | 796                \n",
      " generation           | Generation X       \n",
      " sex_Trans            | 0.0                \n",
      " age_Trans            | 0.0                \n",
      " country-year_Trans   | 0.0                \n",
      " generation_Trans     | 0.0                \n",
      " gdp_for_year_Trans   | 718.0              \n",
      " sex_VEC              | (1,[0],[1.0])      \n",
      " age_VEC              | (5,[0],[1.0])      \n",
      " country-year_VEC     | (2320,[0],[1.0])   \n",
      " generation_VEC       | (5,[0],[1.0])      \n",
      " gdp_for_year_VEC     | (2320,[718],[1.0]) \n",
      "-RECORD 3----------------------------------\n",
      " sex                  | male               \n",
      " age                  | 75+ years          \n",
      " suicides_no          | 1                  \n",
      " population           | 21800              \n",
      " suicides_per_100kpop | 4.59               \n",
      " country-year         | Albania1987        \n",
      "  gdp_for_year ($)    | 2,156,624,900      \n",
      " gdp_percapita        | 796                \n",
      " generation           | G.I. Generation    \n",
      " sex_Trans            | 1.0                \n",
      " age_Trans            | 4.0                \n",
      " country-year_Trans   | 0.0                \n",
      " generation_Trans     | 4.0                \n",
      " gdp_for_year_Trans   | 718.0              \n",
      " sex_VEC              | (1,[],[])          \n",
      " age_VEC              | (5,[4],[1.0])      \n",
      " country-year_VEC     | (2320,[0],[1.0])   \n",
      " generation_VEC       | (5,[4],[1.0])      \n",
      " gdp_for_year_VEC     | (2320,[718],[1.0]) \n",
      "-RECORD 4----------------------------------\n",
      " sex                  | male               \n",
      " age                  | 25-34 years        \n",
      " suicides_no          | 9                  \n",
      " population           | 274300             \n",
      " suicides_per_100kpop | 3.28               \n",
      " country-year         | Albania1987        \n",
      "  gdp_for_year ($)    | 2,156,624,900      \n",
      " gdp_percapita        | 796                \n",
      " generation           | Boomers            \n",
      " sex_Trans            | 1.0                \n",
      " age_Trans            | 1.0                \n",
      " country-year_Trans   | 0.0                \n",
      " generation_Trans     | 3.0                \n",
      " gdp_for_year_Trans   | 718.0              \n",
      " sex_VEC              | (1,[],[])          \n",
      " age_VEC              | (5,[1],[1.0])      \n",
      " country-year_VEC     | (2320,[0],[1.0])   \n",
      " generation_VEC       | (5,[3],[1.0])      \n",
      " gdp_for_year_VEC     | (2320,[718],[1.0]) \n",
      "only showing top 5 rows\n",
      "\n"
     ]
    }
   ],
   "source": [
    "Va = VectorAssembler()\n",
    "vA = Va.setParams(inputCols=new_column_names, outputCol='features')\n",
    "df_dropped = vA.transform(df_dropped)\n",
    "df.show(5,vertical=True)"
   ]
  },
  {
   "cell_type": "code",
   "execution_count": 22,
   "metadata": {
    "id": "-F6JAF-J4b3A"
   },
   "outputs": [],
   "source": [
    "splt = df_dropped.randomSplit([0.7,0.3])\n",
    "train_df= splt[0]\n",
    "test_df = splt[1]"
   ]
  },
  {
   "cell_type": "code",
   "execution_count": 23,
   "metadata": {
    "colab": {
     "base_uri": "https://localhost:8080/"
    },
    "id": "2i8vIbPk4b5A",
    "outputId": "a7761136-6bd6-4cf7-b395-6805a507d9f3"
   },
   "outputs": [
    {
     "name": "stdout",
     "output_type": "stream",
     "text": [
      "Intercept: -12.410825027607643\n"
     ]
    }
   ],
   "source": [
    "# linear Regression\n",
    "from pyspark.ml.regression import LinearRegression\n",
    "regre = LinearRegression(featuresCol = 'features', labelCol='suicides_no', maxIter=10)\n",
    "Regremodel = regre.fit(train_df)\n",
    "print(\"Intercept: \" + str(Regremodel.intercept))"
   ]
  },
  {
   "cell_type": "code",
   "execution_count": 24,
   "metadata": {
    "colab": {
     "base_uri": "https://localhost:8080/"
    },
    "id": "bZwcTHu64b7G",
    "outputId": "fd7a7aa1-059b-4bde-bfc6-127a5406dbfe"
   },
   "outputs": [
    {
     "data": {
      "text/plain": [
       "19.16323914950861"
      ]
     },
     "execution_count": 24,
     "metadata": {},
     "output_type": "execute_result"
    }
   ],
   "source": [
    "summary = Regremodel.summary\n",
    "summary.rootMeanSquaredError\n"
   ]
  },
  {
   "cell_type": "code",
   "execution_count": 25,
   "metadata": {
    "id": "xAg-VIVM6ilA"
   },
   "outputs": [],
   "source": [
    "# Factorization machines regressor\n",
    "from pyspark.ml import Pipeline\n",
    "from pyspark.ml.regression import FMRegressor\n",
    "from pyspark.ml.feature import MinMaxScaler\n",
    "from pyspark.ml.evaluation import RegressionEvaluator\n",
    "\n",
    "fm = FMRegressor(featuresCol=\"features\",labelCol = 'suicides_no', stepSize=0.001)\n",
    "fmmodel = fm.fit(train_df)"
   ]
  },
  {
   "cell_type": "code",
   "execution_count": 26,
   "metadata": {
    "id": "GXhPt8D26ioY"
   },
   "outputs": [],
   "source": [
    "predictions = fmmodel.transform(test_df)"
   ]
  },
  {
   "cell_type": "code",
   "execution_count": 27,
   "metadata": {
    "colab": {
     "base_uri": "https://localhost:8080/"
    },
    "id": "yV3zxOLg4cBC",
    "outputId": "012c7c46-bbe4-401d-b157-0a80741ee12a"
   },
   "outputs": [
    {
     "name": "stdout",
     "output_type": "stream",
     "text": [
      "+-----------+-------------------+--------------------+\n",
      "|suicides_no|         prediction|            features|\n",
      "+-----------+-------------------+--------------------+\n",
      "|          0| -390.3924358107498|(4660,[1,3,4,5,6,...|\n",
      "|          0| -408.0809664503007|(4660,[1,3,4,5,6,...|\n",
      "|          0| -532.9126499032207|(4660,[1,3,4,5,6,...|\n",
      "|          0|   -557.86813987421|(4660,[1,3,4,5,6,...|\n",
      "|          0|-413.56270165549904|(4660,[1,3,5,6,7,...|\n",
      "|          0|-416.63267667039577|(4660,[1,3,5,6,7,...|\n",
      "|          0| -422.4667886608918|(4660,[1,3,5,6,7,...|\n",
      "|          0|  816.6060537853714|(4660,[1,3,4,5,6,...|\n",
      "|          0| -427.7892091728612|(4660,[1,3,5,6,7,...|\n",
      "|          0|-479.57327604680836|(4660,[1,3,4,5,6,...|\n",
      "+-----------+-------------------+--------------------+\n",
      "only showing top 10 rows\n",
      "\n"
     ]
    }
   ],
   "source": [
    "predictions.select('suicides_no','prediction', 'features').show(10)"
   ]
  },
  {
   "cell_type": "code",
   "execution_count": 28,
   "metadata": {
    "colab": {
     "base_uri": "https://localhost:8080/"
    },
    "id": "JAk1Iqdr-Mn3",
    "outputId": "1586420c-bee4-4bd3-8069-f246fc8fef69"
   },
   "outputs": [
    {
     "name": "stdout",
     "output_type": "stream",
     "text": [
      "Root Mean Squared Error (RMSE) on test data = 130151\n"
     ]
    }
   ],
   "source": [
    "evaluator = RegressionEvaluator(\n",
    "    labelCol=\"suicides_no\", predictionCol=\"prediction\", metricName=\"rmse\")\n",
    "rmse = evaluator.evaluate(predictions)\n",
    "print(\"Root Mean Squared Error (RMSE) on test data = %g\" % rmse)"
   ]
  },
  {
   "cell_type": "code",
   "execution_count": null,
   "metadata": {
    "id": "Z9FZ8YO5-aXm"
   },
   "outputs": [],
   "source": []
  }
 ],
 "metadata": {
  "colab": {
   "provenance": []
  },
  "kernelspec": {
   "display_name": "Python 3",
   "language": "python",
   "name": "python3"
  },
  "language_info": {
   "codemirror_mode": {
    "name": "ipython",
    "version": 3
   },
   "file_extension": ".py",
   "mimetype": "text/x-python",
   "name": "python",
   "nbconvert_exporter": "python",
   "pygments_lexer": "ipython3",
   "version": "3.8.8"
  }
 },
 "nbformat": 4,
 "nbformat_minor": 1
}
