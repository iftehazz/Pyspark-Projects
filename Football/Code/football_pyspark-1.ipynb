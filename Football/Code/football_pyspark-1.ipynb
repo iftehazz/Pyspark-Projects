{
 "cells": [
  {
   "cell_type": "code",
   "execution_count": 1,
   "metadata": {
    "id": "nAdxl3EVE55q"
   },
   "outputs": [],
   "source": [
    "from pyspark.sql.functions import isnull,sum"
   ]
  },
  {
   "cell_type": "code",
   "execution_count": 2,
   "metadata": {
    "id": "1UPtgngOAWZI"
   },
   "outputs": [],
   "source": [
    "# Importing pyspark and starting session to use sprak functionality \n",
    "import pyspark \n",
    "from pyspark.sql import SparkSession\n",
    "from pyspark.sql.functions import col,when,isnan,count\n",
    "from pyspark.sql.types import IntegerType, StructType,StructField, FloatType , DoubleType\n",
    "from pyspark.ml.feature import StringIndexer, OneHotEncoder, VectorAssembler,StandardScaler\n",
    "from pyspark.ml.stat import Correlation\n",
    "from pyspark.sql.functions import regexp_replace\n",
    "from pyspark.ml.regression import LinearRegression \n",
    "spark = SparkSession.builder.appName(\"football\").getOrCreate()\n"
   ]
  },
  {
   "cell_type": "code",
   "execution_count": 39,
   "metadata": {
    "colab": {
     "base_uri": "https://localhost:8080/"
    },
    "id": "N7Jug0f_AnZ2",
    "outputId": "0c5a02f3-dff4-4f9e-99a7-c973e96cb0ff"
   },
   "outputs": [
    {
     "name": "stdout",
     "output_type": "stream",
     "text": [
      "+-------+-------+-----+-----------------+--------------+-------------+----+-----+-----+----------------+-----+--------+-------------------+-----------------------+----+\n",
      "|Country| League| Club|     Player Names|Matches_Played|Substitution |Mins|Goals|   xG|xG Per Avg Match|Shots|OnTarget|Shots Per Avg Match|On Target Per Avg Match|Year|\n",
      "+-------+-------+-----+-----------------+--------------+-------------+----+-----+-----+----------------+-----+--------+-------------------+-----------------------+----+\n",
      "|  Spain|La Liga|(BET)|  Juanmi Callejon|            19|           16|1849|   11| 6.62|            0.34|   48|      20|               2.47|                   1.03|2016|\n",
      "|  Spain|La Liga|(BAR)|Antoine Griezmann|            36|            0|3129|   16|11.86|            0.36|   88|      41|               2.67|                   1.24|2016|\n",
      "|  Spain|La Liga|(ATL)|      Luis Suarez|            34|            1|2940|   28|23.21|            0.75|  120|      57|               3.88|                   1.84|2016|\n",
      "|  Spain|La Liga|(CAR)|     Ruben Castro|            32|            3|2842|   13|14.06|            0.47|  117|      42|               3.91|                    1.4|2016|\n",
      "|  Spain|La Liga|(VAL)|    Kevin Gameiro|            21|           10|1745|   13|10.65|            0.58|   50|      23|               2.72|                   1.25|2016|\n",
      "+-------+-------+-----+-----------------+--------------+-------------+----+-----+-----+----------------+-----+--------+-------------------+-----------------------+----+\n",
      "only showing top 5 rows\n",
      "\n"
     ]
    }
   ],
   "source": [
    "# reading csv file\n",
    "dataset = spark.read.csv('Data.csv',inferSchema=True,header=True) # infer schema automatocally guess column datatypes\n",
    "dataset.show(5)"
   ]
  },
  {
   "cell_type": "code",
   "execution_count": 40,
   "metadata": {
    "colab": {
     "base_uri": "https://localhost:8080/"
    },
    "id": "om2U3fSpA5rY",
    "outputId": "d24f3b40-863c-4a6a-abcf-ac655e904697"
   },
   "outputs": [
    {
     "name": "stdout",
     "output_type": "stream",
     "text": [
      "root\n",
      " |-- Country: string (nullable = true)\n",
      " |-- League: string (nullable = true)\n",
      " |-- Club: string (nullable = true)\n",
      " |-- Player Names: string (nullable = true)\n",
      " |-- Matches_Played: integer (nullable = true)\n",
      " |-- Substitution : integer (nullable = true)\n",
      " |-- Mins: integer (nullable = true)\n",
      " |-- Goals: integer (nullable = true)\n",
      " |-- xG: double (nullable = true)\n",
      " |-- xG Per Avg Match: double (nullable = true)\n",
      " |-- Shots: integer (nullable = true)\n",
      " |-- OnTarget: integer (nullable = true)\n",
      " |-- Shots Per Avg Match: double (nullable = true)\n",
      " |-- On Target Per Avg Match: double (nullable = true)\n",
      " |-- Year: integer (nullable = true)\n",
      "\n"
     ]
    }
   ],
   "source": [
    "dataset.printSchema()"
   ]
  },
  {
   "cell_type": "code",
   "execution_count": 41,
   "metadata": {
    "colab": {
     "base_uri": "https://localhost:8080/"
    },
    "id": "C0mW6lXBBLPk",
    "outputId": "4c409d8e-f315-4c65-bb9b-e53c05a71873"
   },
   "outputs": [
    {
     "data": {
      "text/plain": [
       "660"
      ]
     },
     "execution_count": 41,
     "metadata": {},
     "output_type": "execute_result"
    }
   ],
   "source": [
    "dataset.count()"
   ]
  },
  {
   "cell_type": "code",
   "execution_count": 42,
   "metadata": {
    "colab": {
     "base_uri": "https://localhost:8080/"
    },
    "id": "TxH611XFFHQH",
    "outputId": "d276ff88-4bc7-4ea7-fe65-d623b9a23d84"
   },
   "outputs": [
    {
     "name": "stdout",
     "output_type": "stream",
     "text": [
      "+-------+------+----+------------+--------------+-------------+----+-----+---+----------------+-----+--------+-------------------+-----------------------+----+\n",
      "|Country|League|Club|Player Names|Matches_Played|Substitution |Mins|Goals| xG|xG Per Avg Match|Shots|OnTarget|Shots Per Avg Match|On Target Per Avg Match|Year|\n",
      "+-------+------+----+------------+--------------+-------------+----+-----+---+----------------+-----+--------+-------------------+-----------------------+----+\n",
      "|      0|     0|   0|           0|             0|            0|   0|    0|  0|               0|    0|       0|                  0|                      0|   0|\n",
      "+-------+------+----+------------+--------------+-------------+----+-----+---+----------------+-----+--------+-------------------+-----------------------+----+\n",
      "\n"
     ]
    }
   ],
   "source": [
    "null_count = dataset.select([sum(isnull(c).cast(\"int\")).alias(c) for c in dataset.columns])\n",
    "\n",
    "# print the count of null values in each column\n",
    "null_count.show()"
   ]
  },
  {
   "cell_type": "code",
   "execution_count": 43,
   "metadata": {
    "colab": {
     "base_uri": "https://localhost:8080/"
    },
    "id": "4cP2mZduFXXB",
    "outputId": "41f3f219-b674-44d7-9772-fce88be8daee"
   },
   "outputs": [
    {
     "name": "stdout",
     "output_type": "stream",
     "text": [
      "+-------+-------+------+-----------------+--------------+-----+-----+----------------+-----+--------+-------------------+-----------------------+----+\n",
      "|Country| League|  Club|     Player Names|Matches_Played|Goals|   xG|xG Per Avg Match|Shots|OnTarget|Shots Per Avg Match|On Target Per Avg Match|Year|\n",
      "+-------+-------+------+-----------------+--------------+-----+-----+----------------+-----+--------+-------------------+-----------------------+----+\n",
      "|  Spain|La Liga| (BET)|  Juanmi Callejon|            19|   11| 6.62|            0.34|   48|      20|               2.47|                   1.03|2016|\n",
      "|  Spain|La Liga| (BAR)|Antoine Griezmann|            36|   16|11.86|            0.36|   88|      41|               2.67|                   1.24|2016|\n",
      "|  Spain|La Liga| (ATL)|      Luis Suarez|            34|   28|23.21|            0.75|  120|      57|               3.88|                   1.84|2016|\n",
      "|  Spain|La Liga| (CAR)|     Ruben Castro|            32|   13|14.06|            0.47|  117|      42|               3.91|                    1.4|2016|\n",
      "|  Spain|La Liga| (VAL)|    Kevin Gameiro|            21|   13|10.65|            0.58|   50|      23|               2.72|                   1.25|2016|\n",
      "|  Spain|La Liga| (JUV)|Cristiano Ronaldo|            29|   25|24.68|            0.89|  162|      60|               5.84|                   2.16|2016|\n",
      "|  Spain|La Liga| (RMA)|    Karim Benzema|            23|   11|13.25|            0.64|   69|      34|               3.33|                   1.64|2016|\n",
      "|  Spain|La Liga| (PSG)|          Neymar |            30|   13|13.33|            0.47|  105|      42|                3.7|                   1.48|2016|\n",
      "|  Spain|La Liga| (CEL)|       Iago Aspas|            25|   19|13.88|            0.56|   78|      37|               3.15|                   1.49|2016|\n",
      "|  Spain|La Liga| (EIB)|     Sergi Enrich|            31|   11| 8.25|            0.27|   64|      26|               2.09|                   0.85|2016|\n",
      "|  Spain|La Liga|  None|          Aduriz |            27|   16|15.92|            0.61|   85|      45|               3.26|                   1.72|2016|\n",
      "|  Spain|La Liga| (HUE)|   Sandro Ramlrez|            28|   14| 7.14|            0.29|   93|      38|               3.78|                   1.54|2016|\n",
      "|  Spain|La Liga| (BAR)|     Lionel Messi|            32|   37|26.65|            0.87|  179|      76|               5.84|                   2.48|2016|\n",
      "|  Spain|La Liga| (VIL)|    Gerard Moreno|            37|   13| 8.49|            0.24|   82|      32|               2.32|                    0.9|2016|\n",
      "|  Spain|La Liga| (JUV)|           Morata|            14|   15| 9.67|            0.66|   55|      30|               3.75|                   2.05|2016|\n",
      "|  Spain|La Liga| (MON)|Wissam Ben Yedder|            20|   11| 7.85|            0.43|   44|      23|               2.41|                   1.26|2016|\n",
      "|  Spain|La Liga| (SOC)|     Willian Jose|            27|   12| 8.41|            0.38|   69|      29|               3.12|                   1.31|2016|\n",
      "|  Spain|La Liga|Florin|          Andone |            32|   12|11.62|            0.37|   99|      42|               3.15|                   1.34|2016|\n",
      "|  Spain|La Liga| (SOC)|   Cedric Bakambu|            17|   10| 8.08|            0.47|   50|      26|               2.91|                   1.51|2016|\n",
      "|  Spain|La Liga| (RMA)|             Isco|            18|   10| 3.91|            0.22|   32|      15|                1.8|                   0.84|2016|\n",
      "+-------+-------+------+-----------------+--------------+-----+-----+----------------+-----+--------+-------------------+-----------------------+----+\n",
      "only showing top 20 rows\n",
      "\n"
     ]
    }
   ],
   "source": [
    "df = dataset.drop(\"Substitution \", \"Mins\")\n",
    "df.show()"
   ]
  },
  {
   "cell_type": "code",
   "execution_count": 44,
   "metadata": {
    "colab": {
     "base_uri": "https://localhost:8080/"
    },
    "id": "Hhnrhoz-ILsR",
    "outputId": "9e4a2a7f-b30c-490a-b511-6919934c77be"
   },
   "outputs": [
    {
     "name": "stdout",
     "output_type": "stream",
     "text": [
      "+-------+-------+-----+-----------------+--------------+-----+--------------+------------------------+-----+--------+-------------------+-----------------------+----+\n",
      "|Country| League| Club|     Player Names|Matches_Played|Goals|Expected goals|Expected Goals AVG Match|Shots|OnTarget|Shots Per Avg Match|On Target Per Avg Match|Year|\n",
      "+-------+-------+-----+-----------------+--------------+-----+--------------+------------------------+-----+--------+-------------------+-----------------------+----+\n",
      "|  Spain|La Liga|(BET)|  Juanmi Callejon|            19|   11|          6.62|                    0.34|   48|      20|               2.47|                   1.03|2016|\n",
      "|  Spain|La Liga|(BAR)|Antoine Griezmann|            36|   16|         11.86|                    0.36|   88|      41|               2.67|                   1.24|2016|\n",
      "|  Spain|La Liga|(ATL)|      Luis Suarez|            34|   28|         23.21|                    0.75|  120|      57|               3.88|                   1.84|2016|\n",
      "|  Spain|La Liga|(CAR)|     Ruben Castro|            32|   13|         14.06|                    0.47|  117|      42|               3.91|                    1.4|2016|\n",
      "|  Spain|La Liga|(VAL)|    Kevin Gameiro|            21|   13|         10.65|                    0.58|   50|      23|               2.72|                   1.25|2016|\n",
      "+-------+-------+-----+-----------------+--------------+-----+--------------+------------------------+-----+--------+-------------------+-----------------------+----+\n",
      "only showing top 5 rows\n",
      "\n"
     ]
    }
   ],
   "source": [
    "df = df.withColumnRenamed(\"xG\", \"Expected goals\").withColumnRenamed(\"xG Per Avg Match\", \"Expected Goals AVG Match\")\n",
    "df.show(5)"
   ]
  },
  {
   "cell_type": "code",
   "execution_count": 45,
   "metadata": {
    "colab": {
     "base_uri": "https://localhost:8080/"
    },
    "id": "slR4URwcInj2",
    "outputId": "abf49f16-5eeb-4027-be14-f3bfdfc52513"
   },
   "outputs": [
    {
     "name": "stdout",
     "output_type": "stream",
     "text": [
      "root\n",
      " |-- Country: string (nullable = true)\n",
      " |-- League: string (nullable = true)\n",
      " |-- Club: string (nullable = true)\n",
      " |-- Player Names: string (nullable = true)\n",
      " |-- Matches_Played: integer (nullable = true)\n",
      " |-- Goals: integer (nullable = true)\n",
      " |-- Expected goals: double (nullable = true)\n",
      " |-- Expected Goals AVG Match: double (nullable = true)\n",
      " |-- Shots: integer (nullable = true)\n",
      " |-- OnTarget: integer (nullable = true)\n",
      " |-- Shots Per Avg Match: double (nullable = true)\n",
      " |-- On Target Per Avg Match: double (nullable = true)\n",
      " |-- Year: integer (nullable = true)\n",
      "\n"
     ]
    }
   ],
   "source": [
    "df.printSchema()"
   ]
  },
  {
   "cell_type": "code",
   "execution_count": 46,
   "metadata": {
    "colab": {
     "base_uri": "https://localhost:8080/"
    },
    "id": "0tWgs_lFl2WS",
    "outputId": "cba2224d-db7b-4e6d-ae24-8ffe8a8078ce"
   },
   "outputs": [
    {
     "name": "stdout",
     "output_type": "stream",
     "text": [
      "['Country', 'League', 'Club', 'Player Names', 'Matches_Played', 'Goals', 'Expected goals', 'Expected Goals AVG Match', 'Shots', 'OnTarget', 'Shots Per Avg Match', 'On Target Per Avg Match', 'Year']\n"
     ]
    }
   ],
   "source": [
    "column_names = df.columns\n",
    "\n",
    "# print the column names\n",
    "print(column_names)"
   ]
  },
  {
   "cell_type": "code",
   "execution_count": 47,
   "metadata": {
    "id": "TCs9UM_9Jem7"
   },
   "outputs": [],
   "source": [
    "df.toPandas().to_excel('final.xlsx', sheet_name = 'Sheet1', index = False)"
   ]
  },
  {
   "cell_type": "code",
   "execution_count": 48,
   "metadata": {
    "id": "5ktlzucnbtm_"
   },
   "outputs": [],
   "source": [
    "strinx = StringIndexer(inputCols = [\"Country\",\"League\",\"Club\",\"Player Names\"],outputCols =[\"Country_trans\",\"League_trans\",\"Club_trans\",\"Player Names_trans\"] )"
   ]
  },
  {
   "cell_type": "code",
   "execution_count": 49,
   "metadata": {
    "id": "s9buKsuMdLmT"
   },
   "outputs": [],
   "source": [
    "df = strinx.fit(df).transform(df)"
   ]
  },
  {
   "cell_type": "code",
   "execution_count": 50,
   "metadata": {
    "colab": {
     "base_uri": "https://localhost:8080/"
    },
    "id": "AURqtDQgcLdU",
    "outputId": "8238a2b1-5cf8-4e8c-fa36-71d2260dc698"
   },
   "outputs": [
    {
     "name": "stdout",
     "output_type": "stream",
     "text": [
      "+-------+-------+------+-----------------+--------------+-----+--------------+------------------------+-----+--------+-------------------+-----------------------+----+-------------+------------+----------+------------------+\n",
      "|Country| League|  Club|     Player Names|Matches_Played|Goals|Expected goals|Expected Goals AVG Match|Shots|OnTarget|Shots Per Avg Match|On Target Per Avg Match|Year|Country_trans|League_trans|Club_trans|Player Names_trans|\n",
      "+-------+-------+------+-----------------+--------------+-----+--------------+------------------------+-----+--------+-------------------+-----------------------+----+-------------+------------+----------+------------------+\n",
      "|  Spain|La Liga| (BET)|  Juanmi Callejon|            19|   11|          6.62|                    0.34|   48|      20|               2.47|                   1.03|2016|          3.0|         2.0|      50.0|             289.0|\n",
      "|  Spain|La Liga| (BAR)|Antoine Griezmann|            36|   16|         11.86|                    0.36|   88|      41|               2.67|                   1.24|2016|          3.0|         2.0|       2.0|              10.0|\n",
      "|  Spain|La Liga| (ATL)|      Luis Suarez|            34|   28|         23.21|                    0.75|  120|      57|               3.88|                   1.84|2016|          3.0|         2.0|      23.0|               7.0|\n",
      "|  Spain|La Liga| (CAR)|     Ruben Castro|            32|   13|         14.06|                    0.47|  117|      42|               3.91|                    1.4|2016|          3.0|         2.0|     124.0|             398.0|\n",
      "|  Spain|La Liga| (VAL)|    Kevin Gameiro|            21|   13|         10.65|                    0.58|   50|      23|               2.72|                   1.25|2016|          3.0|         2.0|      60.0|             298.0|\n",
      "|  Spain|La Liga| (JUV)|Cristiano Ronaldo|            29|   25|         24.68|                    0.89|  162|      60|               5.84|                   2.16|2016|          3.0|         2.0|      20.0|               3.0|\n",
      "|  Spain|La Liga| (RMA)|    Karim Benzema|            23|   11|         13.25|                    0.64|   69|      34|               3.33|                   1.64|2016|          3.0|         2.0|       6.0|              18.0|\n",
      "|  Spain|La Liga| (PSG)|          Neymar |            30|   13|         13.33|                    0.47|  105|      42|                3.7|                   1.48|2016|          3.0|         2.0|       1.0|              41.0|\n",
      "|  Spain|La Liga| (CEL)|       Iago Aspas|            25|   19|         13.88|                    0.56|   78|      37|               3.15|                   1.49|2016|          3.0|         2.0|      33.0|               5.0|\n",
      "|  Spain|La Liga| (EIB)|     Sergi Enrich|            31|   11|          8.25|                    0.27|   64|      26|               2.09|                   0.85|2016|          3.0|         2.0|      68.0|             412.0|\n",
      "|  Spain|La Liga|  None|          Aduriz |            27|   16|         15.92|                    0.61|   85|      45|               3.26|                   1.72|2016|          3.0|         2.0|       0.0|             130.0|\n",
      "|  Spain|La Liga| (HUE)|   Sandro Ramlrez|            28|   14|          7.14|                    0.29|   93|      38|               3.78|                   1.54|2016|          3.0|         2.0|     142.0|             403.0|\n",
      "|  Spain|La Liga| (BAR)|     Lionel Messi|            32|   37|         26.65|                    0.87|  179|      76|               5.84|                   2.48|2016|          3.0|         2.0|       2.0|               6.0|\n",
      "|  Spain|La Liga| (VIL)|    Gerard Moreno|            37|   13|          8.49|                    0.24|   82|      32|               2.32|                    0.9|2016|          3.0|         2.0|      22.0|              14.0|\n",
      "|  Spain|La Liga| (JUV)|           Morata|            14|   15|          9.67|                    0.66|   55|      30|               3.75|                   2.05|2016|          3.0|         2.0|      20.0|             346.0|\n",
      "|  Spain|La Liga| (MON)|Wissam Ben Yedder|            20|   11|          7.85|                    0.43|   44|      23|               2.41|                   1.26|2016|          3.0|         2.0|      16.0|              48.0|\n",
      "|  Spain|La Liga| (SOC)|     Willian Jose|            27|   12|          8.41|                    0.38|   69|      29|               3.12|                   1.31|2016|          3.0|         2.0|       7.0|              47.0|\n",
      "|  Spain|La Liga|Florin|          Andone |            32|   12|         11.62|                    0.37|   99|      42|               3.15|                   1.34|2016|          3.0|         2.0|     174.0|             140.0|\n",
      "|  Spain|La Liga| (SOC)|   Cedric Bakambu|            17|   10|          8.08|                    0.47|   50|      26|               2.91|                   1.51|2016|          3.0|         2.0|       7.0|             186.0|\n",
      "|  Spain|La Liga| (RMA)|             Isco|            18|   10|          3.91|                    0.22|   32|      15|                1.8|                   0.84|2016|          3.0|         2.0|       6.0|             267.0|\n",
      "+-------+-------+------+-----------------+--------------+-----+--------------+------------------------+-----+--------+-------------------+-----------------------+----+-------------+------------+----------+------------------+\n",
      "only showing top 20 rows\n",
      "\n"
     ]
    }
   ],
   "source": [
    "df.show()"
   ]
  },
  {
   "cell_type": "code",
   "execution_count": 51,
   "metadata": {
    "id": "ao0BoQa8JxmA"
   },
   "outputs": [],
   "source": [
    "onenc = OneHotEncoder(inputCols = [\"Country_trans\",\"League_trans\",\"Club_trans\",\"Player Names_trans\"],\n",
    "                      outputCols =[\"Country_VEC\",\"League_VEC\",\"Club_VEC\",\" Player Names_VEC\"] )\n",
    "df = onenc.fit(df).transform(df)"
   ]
  },
  {
   "cell_type": "code",
   "execution_count": 52,
   "metadata": {
    "colab": {
     "base_uri": "https://localhost:8080/"
    },
    "id": "WAcgsa1kblFO",
    "outputId": "ce197394-f71b-45f5-ecc0-53a0a67996cb"
   },
   "outputs": [
    {
     "name": "stdout",
     "output_type": "stream",
     "text": [
      "-RECORD 0-------------------------------------\n",
      " Country                  | Spain             \n",
      " League                   | La Liga           \n",
      " Club                     | (BET)             \n",
      " Player Names             | Juanmi Callejon   \n",
      " Matches_Played           | 19                \n",
      " Goals                    | 11                \n",
      " Expected goals           | 6.62              \n",
      " Expected Goals AVG Match | 0.34              \n",
      " Shots                    | 48                \n",
      " OnTarget                 | 20                \n",
      " Shots Per Avg Match      | 2.47              \n",
      " On Target Per Avg Match  | 1.03              \n",
      " Year                     | 2016              \n",
      " Country_trans            | 3.0               \n",
      " League_trans             | 2.0               \n",
      " Club_trans               | 50.0              \n",
      " Player Names_trans       | 289.0             \n",
      " Country_VEC              | (8,[3],[1.0])     \n",
      " League_VEC               | (27,[2],[1.0])    \n",
      " Club_VEC                 | (179,[50],[1.0])  \n",
      "  Player Names_VEC        | (443,[289],[1.0]) \n",
      "-RECORD 1-------------------------------------\n",
      " Country                  | Spain             \n",
      " League                   | La Liga           \n",
      " Club                     | (BAR)             \n",
      " Player Names             | Antoine Griezmann \n",
      " Matches_Played           | 36                \n",
      " Goals                    | 16                \n",
      " Expected goals           | 11.86             \n",
      " Expected Goals AVG Match | 0.36              \n",
      " Shots                    | 88                \n",
      " OnTarget                 | 41                \n",
      " Shots Per Avg Match      | 2.67              \n",
      " On Target Per Avg Match  | 1.24              \n",
      " Year                     | 2016              \n",
      " Country_trans            | 3.0               \n",
      " League_trans             | 2.0               \n",
      " Club_trans               | 2.0               \n",
      " Player Names_trans       | 10.0              \n",
      " Country_VEC              | (8,[3],[1.0])     \n",
      " League_VEC               | (27,[2],[1.0])    \n",
      " Club_VEC                 | (179,[2],[1.0])   \n",
      "  Player Names_VEC        | (443,[10],[1.0])  \n",
      "-RECORD 2-------------------------------------\n",
      " Country                  | Spain             \n",
      " League                   | La Liga           \n",
      " Club                     | (ATL)             \n",
      " Player Names             | Luis Suarez       \n",
      " Matches_Played           | 34                \n",
      " Goals                    | 28                \n",
      " Expected goals           | 23.21             \n",
      " Expected Goals AVG Match | 0.75              \n",
      " Shots                    | 120               \n",
      " OnTarget                 | 57                \n",
      " Shots Per Avg Match      | 3.88              \n",
      " On Target Per Avg Match  | 1.84              \n",
      " Year                     | 2016              \n",
      " Country_trans            | 3.0               \n",
      " League_trans             | 2.0               \n",
      " Club_trans               | 23.0              \n",
      " Player Names_trans       | 7.0               \n",
      " Country_VEC              | (8,[3],[1.0])     \n",
      " League_VEC               | (27,[2],[1.0])    \n",
      " Club_VEC                 | (179,[23],[1.0])  \n",
      "  Player Names_VEC        | (443,[7],[1.0])   \n",
      "-RECORD 3-------------------------------------\n",
      " Country                  | Spain             \n",
      " League                   | La Liga           \n",
      " Club                     | (CAR)             \n",
      " Player Names             | Ruben Castro      \n",
      " Matches_Played           | 32                \n",
      " Goals                    | 13                \n",
      " Expected goals           | 14.06             \n",
      " Expected Goals AVG Match | 0.47              \n",
      " Shots                    | 117               \n",
      " OnTarget                 | 42                \n",
      " Shots Per Avg Match      | 3.91              \n",
      " On Target Per Avg Match  | 1.4               \n",
      " Year                     | 2016              \n",
      " Country_trans            | 3.0               \n",
      " League_trans             | 2.0               \n",
      " Club_trans               | 124.0             \n",
      " Player Names_trans       | 398.0             \n",
      " Country_VEC              | (8,[3],[1.0])     \n",
      " League_VEC               | (27,[2],[1.0])    \n",
      " Club_VEC                 | (179,[124],[1.0]) \n",
      "  Player Names_VEC        | (443,[398],[1.0]) \n",
      "-RECORD 4-------------------------------------\n",
      " Country                  | Spain             \n",
      " League                   | La Liga           \n",
      " Club                     | (VAL)             \n",
      " Player Names             | Kevin Gameiro     \n",
      " Matches_Played           | 21                \n",
      " Goals                    | 13                \n",
      " Expected goals           | 10.65             \n",
      " Expected Goals AVG Match | 0.58              \n",
      " Shots                    | 50                \n",
      " OnTarget                 | 23                \n",
      " Shots Per Avg Match      | 2.72              \n",
      " On Target Per Avg Match  | 1.25              \n",
      " Year                     | 2016              \n",
      " Country_trans            | 3.0               \n",
      " League_trans             | 2.0               \n",
      " Club_trans               | 60.0              \n",
      " Player Names_trans       | 298.0             \n",
      " Country_VEC              | (8,[3],[1.0])     \n",
      " League_VEC               | (27,[2],[1.0])    \n",
      " Club_VEC                 | (179,[60],[1.0])  \n",
      "  Player Names_VEC        | (443,[298],[1.0]) \n",
      "only showing top 5 rows\n",
      "\n"
     ]
    }
   ],
   "source": [
    "df.show(5,vertical=True)"
   ]
  },
  {
   "cell_type": "code",
   "execution_count": 53,
   "metadata": {
    "colab": {
     "base_uri": "https://localhost:8080/"
    },
    "id": "7CqvQqDnojJf",
    "outputId": "a28703cf-847f-489d-9bca-a689f059321d"
   },
   "outputs": [
    {
     "name": "stdout",
     "output_type": "stream",
     "text": [
      "['Country', 'League', 'Club', 'Player Names', 'Matches_Played', 'Goals', 'Expected goals', 'Expected Goals AVG Match', 'Shots', 'OnTarget', 'Shots Per Avg Match', 'On Target Per Avg Match', 'Year', 'Country_trans', 'League_trans', 'Club_trans', 'Player Names_trans', 'Country_VEC', 'League_VEC', 'Club_VEC', ' Player Names_VEC']\n"
     ]
    }
   ],
   "source": [
    "column_names = df.columns\n",
    "\n",
    "# print the column names\n",
    "print(column_names)"
   ]
  },
  {
   "cell_type": "code",
   "execution_count": 54,
   "metadata": {
    "colab": {
     "base_uri": "https://localhost:8080/"
    },
    "id": "L6ghHOPMoXcT",
    "outputId": "0246b8fc-d002-4cbf-c2b7-1d462c8e5de6"
   },
   "outputs": [
    {
     "name": "stdout",
     "output_type": "stream",
     "text": [
      "+--------------+-----+--------------+------------------------+-----+--------+-------------------+-----------------------+----+-------------+------------+----------+------------------+-------------+--------------+-----------------+-----------------+\n",
      "|Matches_Played|Goals|Expected goals|Expected Goals AVG Match|Shots|OnTarget|Shots Per Avg Match|On Target Per Avg Match|Year|Country_trans|League_trans|Club_trans|Player Names_trans|  Country_VEC|    League_VEC|         Club_VEC| Player Names_VEC|\n",
      "+--------------+-----+--------------+------------------------+-----+--------+-------------------+-----------------------+----+-------------+------------+----------+------------------+-------------+--------------+-----------------+-----------------+\n",
      "|            19|   11|          6.62|                    0.34|   48|      20|               2.47|                   1.03|2016|          3.0|         2.0|      50.0|             289.0|(8,[3],[1.0])|(27,[2],[1.0])| (179,[50],[1.0])|(443,[289],[1.0])|\n",
      "|            36|   16|         11.86|                    0.36|   88|      41|               2.67|                   1.24|2016|          3.0|         2.0|       2.0|              10.0|(8,[3],[1.0])|(27,[2],[1.0])|  (179,[2],[1.0])| (443,[10],[1.0])|\n",
      "|            34|   28|         23.21|                    0.75|  120|      57|               3.88|                   1.84|2016|          3.0|         2.0|      23.0|               7.0|(8,[3],[1.0])|(27,[2],[1.0])| (179,[23],[1.0])|  (443,[7],[1.0])|\n",
      "|            32|   13|         14.06|                    0.47|  117|      42|               3.91|                    1.4|2016|          3.0|         2.0|     124.0|             398.0|(8,[3],[1.0])|(27,[2],[1.0])|(179,[124],[1.0])|(443,[398],[1.0])|\n",
      "|            21|   13|         10.65|                    0.58|   50|      23|               2.72|                   1.25|2016|          3.0|         2.0|      60.0|             298.0|(8,[3],[1.0])|(27,[2],[1.0])| (179,[60],[1.0])|(443,[298],[1.0])|\n",
      "|            29|   25|         24.68|                    0.89|  162|      60|               5.84|                   2.16|2016|          3.0|         2.0|      20.0|               3.0|(8,[3],[1.0])|(27,[2],[1.0])| (179,[20],[1.0])|  (443,[3],[1.0])|\n",
      "|            23|   11|         13.25|                    0.64|   69|      34|               3.33|                   1.64|2016|          3.0|         2.0|       6.0|              18.0|(8,[3],[1.0])|(27,[2],[1.0])|  (179,[6],[1.0])| (443,[18],[1.0])|\n",
      "|            30|   13|         13.33|                    0.47|  105|      42|                3.7|                   1.48|2016|          3.0|         2.0|       1.0|              41.0|(8,[3],[1.0])|(27,[2],[1.0])|  (179,[1],[1.0])| (443,[41],[1.0])|\n",
      "|            25|   19|         13.88|                    0.56|   78|      37|               3.15|                   1.49|2016|          3.0|         2.0|      33.0|               5.0|(8,[3],[1.0])|(27,[2],[1.0])| (179,[33],[1.0])|  (443,[5],[1.0])|\n",
      "|            31|   11|          8.25|                    0.27|   64|      26|               2.09|                   0.85|2016|          3.0|         2.0|      68.0|             412.0|(8,[3],[1.0])|(27,[2],[1.0])| (179,[68],[1.0])|(443,[412],[1.0])|\n",
      "|            27|   16|         15.92|                    0.61|   85|      45|               3.26|                   1.72|2016|          3.0|         2.0|       0.0|             130.0|(8,[3],[1.0])|(27,[2],[1.0])|  (179,[0],[1.0])|(443,[130],[1.0])|\n",
      "|            28|   14|          7.14|                    0.29|   93|      38|               3.78|                   1.54|2016|          3.0|         2.0|     142.0|             403.0|(8,[3],[1.0])|(27,[2],[1.0])|(179,[142],[1.0])|(443,[403],[1.0])|\n",
      "|            32|   37|         26.65|                    0.87|  179|      76|               5.84|                   2.48|2016|          3.0|         2.0|       2.0|               6.0|(8,[3],[1.0])|(27,[2],[1.0])|  (179,[2],[1.0])|  (443,[6],[1.0])|\n",
      "|            37|   13|          8.49|                    0.24|   82|      32|               2.32|                    0.9|2016|          3.0|         2.0|      22.0|              14.0|(8,[3],[1.0])|(27,[2],[1.0])| (179,[22],[1.0])| (443,[14],[1.0])|\n",
      "|            14|   15|          9.67|                    0.66|   55|      30|               3.75|                   2.05|2016|          3.0|         2.0|      20.0|             346.0|(8,[3],[1.0])|(27,[2],[1.0])| (179,[20],[1.0])|(443,[346],[1.0])|\n",
      "|            20|   11|          7.85|                    0.43|   44|      23|               2.41|                   1.26|2016|          3.0|         2.0|      16.0|              48.0|(8,[3],[1.0])|(27,[2],[1.0])| (179,[16],[1.0])| (443,[48],[1.0])|\n",
      "|            27|   12|          8.41|                    0.38|   69|      29|               3.12|                   1.31|2016|          3.0|         2.0|       7.0|              47.0|(8,[3],[1.0])|(27,[2],[1.0])|  (179,[7],[1.0])| (443,[47],[1.0])|\n",
      "|            32|   12|         11.62|                    0.37|   99|      42|               3.15|                   1.34|2016|          3.0|         2.0|     174.0|             140.0|(8,[3],[1.0])|(27,[2],[1.0])|(179,[174],[1.0])|(443,[140],[1.0])|\n",
      "|            17|   10|          8.08|                    0.47|   50|      26|               2.91|                   1.51|2016|          3.0|         2.0|       7.0|             186.0|(8,[3],[1.0])|(27,[2],[1.0])|  (179,[7],[1.0])|(443,[186],[1.0])|\n",
      "|            18|   10|          3.91|                    0.22|   32|      15|                1.8|                   0.84|2016|          3.0|         2.0|       6.0|             267.0|(8,[3],[1.0])|(27,[2],[1.0])|  (179,[6],[1.0])|(443,[267],[1.0])|\n",
      "+--------------+-----+--------------+------------------------+-----+--------+-------------------+-----------------------+----+-------------+------------+----------+------------------+-------------+--------------+-----------------+-----------------+\n",
      "only showing top 20 rows\n",
      "\n"
     ]
    }
   ],
   "source": [
    "df_dropped = df.drop(\"Country\",\"League\",\"Club\",\"Player Names\")\n",
    "df_dropped.show()"
   ]
  },
  {
   "cell_type": "code",
   "execution_count": 55,
   "metadata": {
    "id": "cmc-l0XLpUIU"
   },
   "outputs": [],
   "source": [
    "new_column_names = df_dropped.columns\n"
   ]
  },
  {
   "cell_type": "code",
   "execution_count": 56,
   "metadata": {
    "colab": {
     "base_uri": "https://localhost:8080/"
    },
    "id": "P_-dfjYvpHi9",
    "outputId": "9b1521eb-b3f6-4b91-aec6-32989324d17e"
   },
   "outputs": [
    {
     "name": "stdout",
     "output_type": "stream",
     "text": [
      "-RECORD 0-------------------------------------\n",
      " Country                  | Spain             \n",
      " League                   | La Liga           \n",
      " Club                     | (BET)             \n",
      " Player Names             | Juanmi Callejon   \n",
      " Matches_Played           | 19                \n",
      " Goals                    | 11                \n",
      " Expected goals           | 6.62              \n",
      " Expected Goals AVG Match | 0.34              \n",
      " Shots                    | 48                \n",
      " OnTarget                 | 20                \n",
      " Shots Per Avg Match      | 2.47              \n",
      " On Target Per Avg Match  | 1.03              \n",
      " Year                     | 2016              \n",
      " Country_trans            | 3.0               \n",
      " League_trans             | 2.0               \n",
      " Club_trans               | 50.0              \n",
      " Player Names_trans       | 289.0             \n",
      " Country_VEC              | (8,[3],[1.0])     \n",
      " League_VEC               | (27,[2],[1.0])    \n",
      " Club_VEC                 | (179,[50],[1.0])  \n",
      "  Player Names_VEC        | (443,[289],[1.0]) \n",
      "-RECORD 1-------------------------------------\n",
      " Country                  | Spain             \n",
      " League                   | La Liga           \n",
      " Club                     | (BAR)             \n",
      " Player Names             | Antoine Griezmann \n",
      " Matches_Played           | 36                \n",
      " Goals                    | 16                \n",
      " Expected goals           | 11.86             \n",
      " Expected Goals AVG Match | 0.36              \n",
      " Shots                    | 88                \n",
      " OnTarget                 | 41                \n",
      " Shots Per Avg Match      | 2.67              \n",
      " On Target Per Avg Match  | 1.24              \n",
      " Year                     | 2016              \n",
      " Country_trans            | 3.0               \n",
      " League_trans             | 2.0               \n",
      " Club_trans               | 2.0               \n",
      " Player Names_trans       | 10.0              \n",
      " Country_VEC              | (8,[3],[1.0])     \n",
      " League_VEC               | (27,[2],[1.0])    \n",
      " Club_VEC                 | (179,[2],[1.0])   \n",
      "  Player Names_VEC        | (443,[10],[1.0])  \n",
      "-RECORD 2-------------------------------------\n",
      " Country                  | Spain             \n",
      " League                   | La Liga           \n",
      " Club                     | (ATL)             \n",
      " Player Names             | Luis Suarez       \n",
      " Matches_Played           | 34                \n",
      " Goals                    | 28                \n",
      " Expected goals           | 23.21             \n",
      " Expected Goals AVG Match | 0.75              \n",
      " Shots                    | 120               \n",
      " OnTarget                 | 57                \n",
      " Shots Per Avg Match      | 3.88              \n",
      " On Target Per Avg Match  | 1.84              \n",
      " Year                     | 2016              \n",
      " Country_trans            | 3.0               \n",
      " League_trans             | 2.0               \n",
      " Club_trans               | 23.0              \n",
      " Player Names_trans       | 7.0               \n",
      " Country_VEC              | (8,[3],[1.0])     \n",
      " League_VEC               | (27,[2],[1.0])    \n",
      " Club_VEC                 | (179,[23],[1.0])  \n",
      "  Player Names_VEC        | (443,[7],[1.0])   \n",
      "-RECORD 3-------------------------------------\n",
      " Country                  | Spain             \n",
      " League                   | La Liga           \n",
      " Club                     | (CAR)             \n",
      " Player Names             | Ruben Castro      \n",
      " Matches_Played           | 32                \n",
      " Goals                    | 13                \n",
      " Expected goals           | 14.06             \n",
      " Expected Goals AVG Match | 0.47              \n",
      " Shots                    | 117               \n",
      " OnTarget                 | 42                \n",
      " Shots Per Avg Match      | 3.91              \n",
      " On Target Per Avg Match  | 1.4               \n",
      " Year                     | 2016              \n",
      " Country_trans            | 3.0               \n",
      " League_trans             | 2.0               \n",
      " Club_trans               | 124.0             \n",
      " Player Names_trans       | 398.0             \n",
      " Country_VEC              | (8,[3],[1.0])     \n",
      " League_VEC               | (27,[2],[1.0])    \n",
      " Club_VEC                 | (179,[124],[1.0]) \n",
      "  Player Names_VEC        | (443,[398],[1.0]) \n",
      "-RECORD 4-------------------------------------\n",
      " Country                  | Spain             \n",
      " League                   | La Liga           \n",
      " Club                     | (VAL)             \n",
      " Player Names             | Kevin Gameiro     \n",
      " Matches_Played           | 21                \n",
      " Goals                    | 13                \n",
      " Expected goals           | 10.65             \n",
      " Expected Goals AVG Match | 0.58              \n",
      " Shots                    | 50                \n",
      " OnTarget                 | 23                \n",
      " Shots Per Avg Match      | 2.72              \n",
      " On Target Per Avg Match  | 1.25              \n",
      " Year                     | 2016              \n",
      " Country_trans            | 3.0               \n",
      " League_trans             | 2.0               \n",
      " Club_trans               | 60.0              \n",
      " Player Names_trans       | 298.0             \n",
      " Country_VEC              | (8,[3],[1.0])     \n",
      " League_VEC               | (27,[2],[1.0])    \n",
      " Club_VEC                 | (179,[60],[1.0])  \n",
      "  Player Names_VEC        | (443,[298],[1.0]) \n",
      "only showing top 5 rows\n",
      "\n"
     ]
    }
   ],
   "source": [
    "Va = VectorAssembler()\n",
    "vA = Va.setParams(inputCols=new_column_names, outputCol='features')\n",
    "df_dropped = vA.transform(df_dropped)\n",
    "df.show(5,vertical=True)"
   ]
  },
  {
   "cell_type": "code",
   "execution_count": 57,
   "metadata": {
    "id": "EBhi09Gop3qJ"
   },
   "outputs": [],
   "source": [
    "splt = df_dropped.randomSplit([0.7,0.3])\n",
    "train_df= splt[0]\n",
    "test_df = splt[1]"
   ]
  },
  {
   "cell_type": "code",
   "execution_count": 58,
   "metadata": {
    "colab": {
     "base_uri": "https://localhost:8080/"
    },
    "id": "8AcxVmF0p-pz",
    "outputId": "fa93f3b6-8f50-4516-abed-4d9ca5e45712"
   },
   "outputs": [
    {
     "name": "stdout",
     "output_type": "stream",
     "text": [
      "Intercept: -144.06111275758917\n"
     ]
    }
   ],
   "source": [
    "from pyspark.ml.regression import LinearRegression\n",
    "regre = LinearRegression(featuresCol = 'features', labelCol='Goals', maxIter=10)\n",
    "Regremodel = regre.fit(train_df)\n",
    "print(\"Intercept: \" + str(Regremodel.intercept))"
   ]
  },
  {
   "cell_type": "code",
   "execution_count": 59,
   "metadata": {
    "colab": {
     "base_uri": "https://localhost:8080/"
    },
    "id": "GCtWgLAYtWW_",
    "outputId": "e0827e72-60a8-458a-9c89-c41d5d41c92e"
   },
   "outputs": [
    {
     "data": {
      "text/plain": [
       "0.9894033858602438"
      ]
     },
     "execution_count": 59,
     "metadata": {},
     "output_type": "execute_result"
    }
   ],
   "source": [
    "summary = Regremodel.summary\n",
    "summary.rootMeanSquaredError\n",
    "summary.r2"
   ]
  },
  {
   "cell_type": "code",
   "execution_count": 67,
   "metadata": {
    "id": "pY9RcWrZ0RQS"
   },
   "outputs": [],
   "source": [
    "from pyspark.ml.regression import RandomForestRegressor\n",
    "random_forest_regressor = RandomForestRegressor(featuresCol='features', labelCol='Goals', numTrees=100,  maxBins=444)\n",
    "random_forest_regression_model = random_forest_regressor.fit(train_df)"
   ]
  },
  {
   "cell_type": "code",
   "execution_count": 68,
   "metadata": {
    "colab": {
     "base_uri": "https://localhost:8080/"
    },
    "id": "snBla_x60Xpb",
    "outputId": "db33cb68-9f29-4baa-961b-8d614273b1b9"
   },
   "outputs": [
    {
     "name": "stdout",
     "output_type": "stream",
     "text": [
      "R Square (R^2) on test data = 0.852802\n"
     ]
    }
   ],
   "source": [
    "from pyspark.ml.evaluation import RegressionEvaluator\n",
    "\n",
    "# Make predictions on the test data\n",
    "predictions = random_forest_regression_model.transform(test_df)\n",
    "\n",
    "# Create a RegressionEvaluator with the appropriate metric (e.g., R2, RMSE, MSE, or MAE)\n",
    "evaluator = RegressionEvaluator(labelCol=\"Goals\", predictionCol=\"prediction\", metricName=\"r2\")\n",
    "\n",
    "# Calculate the accuracy (here, we use RMSE as an example)\n",
    "r2 = evaluator.evaluate(predictions)\n",
    "print(\"R Square (R^2) on test data = %g\" % r2)\n"
   ]
  },
  {
   "cell_type": "code",
   "execution_count": 69,
   "metadata": {
    "id": "-0BbJ0if1Obp"
   },
   "outputs": [],
   "source": [
    "from pyspark.ml.regression import DecisionTreeRegressor\n",
    "DecisionTree_regressor = DecisionTreeRegressor(featuresCol='features', labelCol='Goals', maxBins=444)\n",
    "DecisionTree_regression_model = DecisionTree_regressor.fit(train_df)"
   ]
  },
  {
   "cell_type": "code",
   "execution_count": 70,
   "metadata": {},
   "outputs": [
    {
     "name": "stdout",
     "output_type": "stream",
     "text": [
      "R Square (R^2) on test data = 0.996264\n"
     ]
    }
   ],
   "source": [
    "from pyspark.ml.evaluation import RegressionEvaluator\n",
    "\n",
    "# Make predictions on the test data\n",
    "predictions = DecisionTree_regression_model.transform(test_df)\n",
    "\n",
    "# Create a RegressionEvaluator with the appropriate metric (e.g., R2, RMSE, MSE, or MAE)\n",
    "evaluator = RegressionEvaluator(labelCol=\"Goals\", predictionCol=\"prediction\", metricName=\"r2\")\n",
    "\n",
    "# Calculate the accuracy (here, we use RMSE as an example)\n",
    "r2 = evaluator.evaluate(predictions)\n",
    "print(\"R Square (R^2) on test data = %g\" % r2)\n"
   ]
  },
  {
   "cell_type": "code",
   "execution_count": null,
   "metadata": {},
   "outputs": [],
   "source": []
  },
  {
   "cell_type": "code",
   "execution_count": null,
   "metadata": {},
   "outputs": [],
   "source": []
  }
 ],
 "metadata": {
  "colab": {
   "provenance": []
  },
  "kernelspec": {
   "display_name": "Python 3",
   "language": "python",
   "name": "python3"
  },
  "language_info": {
   "codemirror_mode": {
    "name": "ipython",
    "version": 3
   },
   "file_extension": ".py",
   "mimetype": "text/x-python",
   "name": "python",
   "nbconvert_exporter": "python",
   "pygments_lexer": "ipython3",
   "version": "3.8.8"
  }
 },
 "nbformat": 4,
 "nbformat_minor": 1
}
